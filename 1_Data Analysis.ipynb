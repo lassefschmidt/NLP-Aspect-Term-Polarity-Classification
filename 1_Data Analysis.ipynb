{
 "cells": [
  {
   "attachments": {},
   "cell_type": "markdown",
   "metadata": {},
   "source": [
    "# Data Analysis\n",
    "\n",
    "Analyse provided data."
   ]
  },
  {
   "attachments": {},
   "cell_type": "markdown",
   "metadata": {},
   "source": [
    "### 1. Import Packages and check versions"
   ]
  },
  {
   "cell_type": "code",
   "execution_count": 1,
   "metadata": {},
   "outputs": [],
   "source": [
    "# import own scripts\n",
    "import src.classifier as classifier\n",
    "#import src.tester as tester"
   ]
  },
  {
   "cell_type": "code",
   "execution_count": 2,
   "metadata": {},
   "outputs": [],
   "source": [
    "# data handling\n",
    "import datasets\n",
    "import numpy as np\n",
    "import pandas as pd\n",
    "\n",
    "# pre-processing\n",
    "import nltk\n",
    "import sentencepiece\n",
    "import stanza\n",
    "\n",
    "# modeling\n",
    "import pytorch_lightning as pl\n",
    "import sklearn\n",
    "import torch\n",
    "import transformers"
   ]
  },
  {
   "cell_type": "code",
   "execution_count": 3,
   "metadata": {},
   "outputs": [
    {
     "name": "stdout",
     "output_type": "stream",
     "text": [
      "pytorch: 1.13.1+cu117 / allowed: 1.13.1\n",
      "pytorch-lightning: 1.8.1 / allowed: 1.8.1\n",
      "transformers: 4.22.2 / allowed: 4.22.2\n",
      "datasets: 2.9.0 / allowed: 2.9.0\n",
      "sentencepiece: 0.1.97 / allowed: 0.1.97\n",
      "scikit-learn: 1.2.0 / allowed: 1.2.0\n",
      "numpy: 1.23.5 / allowed: 1.23.5\n",
      "pandas: 1.5.3 / allowed: 1.5.3\n",
      "nltk: 3.8.1 / allowed: 3.8.1\n",
      "stanza: 1.4.2 / allowed: 1.4.2\n"
     ]
    }
   ],
   "source": [
    "# check versions\n",
    "print(f\"pytorch: {torch.__version__} / allowed: 1.13.1\")\n",
    "print(f\"pytorch-lightning: {pl.__version__} / allowed: 1.8.1\")\n",
    "print(f\"transformers: {transformers.__version__} / allowed: 4.22.2\")\n",
    "print(f\"datasets: {datasets.__version__} / allowed: 2.9.0\")\n",
    "print(f\"sentencepiece: {sentencepiece.__version__} / allowed: 0.1.97\")\n",
    "print(f\"scikit-learn: {sklearn.__version__} / allowed: 1.2.0\")\n",
    "print(f\"numpy: {np.__version__} / allowed: 1.23.5\")\n",
    "print(f\"pandas: {pd.__version__} / allowed: 1.5.3\")\n",
    "print(f\"nltk: {nltk.__version__} / allowed: 3.8.1\")\n",
    "print(f\"stanza: {stanza.__version__} / allowed: 1.4.2\")"
   ]
  },
  {
   "attachments": {},
   "cell_type": "markdown",
   "metadata": {},
   "source": [
    "### 2. Load Data"
   ]
  },
  {
   "cell_type": "code",
   "execution_count": 11,
   "metadata": {},
   "outputs": [
    {
     "name": "stdout",
     "output_type": "stream",
     "text": [
      "(1503, 5)\n"
     ]
    }
   ],
   "source": [
    "# load data\n",
    "train = pd.read_csv(\"data/traindata.csv\", sep = \"\\t\", header = None).rename(columns = {0: \"y\", 1: \"aspect\", 2: \"target_term\", 3: \"target_location\", 4: \"sentence\"})\n",
    "print(train.shape)"
   ]
  },
  {
   "cell_type": "code",
   "execution_count": 12,
   "metadata": {},
   "outputs": [
    {
     "data": {
      "text/html": [
       "<div>\n",
       "<style scoped>\n",
       "    .dataframe tbody tr th:only-of-type {\n",
       "        vertical-align: middle;\n",
       "    }\n",
       "\n",
       "    .dataframe tbody tr th {\n",
       "        vertical-align: top;\n",
       "    }\n",
       "\n",
       "    .dataframe thead th {\n",
       "        text-align: right;\n",
       "    }\n",
       "</style>\n",
       "<table border=\"1\" class=\"dataframe\">\n",
       "  <thead>\n",
       "    <tr style=\"text-align: right;\">\n",
       "      <th></th>\n",
       "      <th>y</th>\n",
       "      <th>aspect</th>\n",
       "      <th>target_term</th>\n",
       "      <th>target_location</th>\n",
       "      <th>sentence</th>\n",
       "    </tr>\n",
       "  </thead>\n",
       "  <tbody>\n",
       "    <tr>\n",
       "      <th>0</th>\n",
       "      <td>positive</td>\n",
       "      <td>AMBIENCE#GENERAL</td>\n",
       "      <td>seating</td>\n",
       "      <td>18:25</td>\n",
       "      <td>short and sweet – seating is great:it's romant...</td>\n",
       "    </tr>\n",
       "    <tr>\n",
       "      <th>1</th>\n",
       "      <td>positive</td>\n",
       "      <td>AMBIENCE#GENERAL</td>\n",
       "      <td>trattoria</td>\n",
       "      <td>25:34</td>\n",
       "      <td>This quaint and romantic trattoria is at the t...</td>\n",
       "    </tr>\n",
       "    <tr>\n",
       "      <th>2</th>\n",
       "      <td>positive</td>\n",
       "      <td>FOOD#QUALITY</td>\n",
       "      <td>food</td>\n",
       "      <td>98:102</td>\n",
       "      <td>The have over 100 different beers to offer thi...</td>\n",
       "    </tr>\n",
       "    <tr>\n",
       "      <th>3</th>\n",
       "      <td>negative</td>\n",
       "      <td>SERVICE#GENERAL</td>\n",
       "      <td>STAFF</td>\n",
       "      <td>5:10</td>\n",
       "      <td>THIS STAFF SHOULD BE FIRED.</td>\n",
       "    </tr>\n",
       "    <tr>\n",
       "      <th>4</th>\n",
       "      <td>positive</td>\n",
       "      <td>FOOD#STYLE_OPTIONS</td>\n",
       "      <td>menu</td>\n",
       "      <td>4:8</td>\n",
       "      <td>The menu looked great, and the waiter was very...</td>\n",
       "    </tr>\n",
       "    <tr>\n",
       "      <th>...</th>\n",
       "      <td>...</td>\n",
       "      <td>...</td>\n",
       "      <td>...</td>\n",
       "      <td>...</td>\n",
       "      <td>...</td>\n",
       "    </tr>\n",
       "    <tr>\n",
       "      <th>1498</th>\n",
       "      <td>positive</td>\n",
       "      <td>DRINKS#QUALITY</td>\n",
       "      <td>expresso</td>\n",
       "      <td>29:37</td>\n",
       "      <td>One of us actually liked the expresso - that's...</td>\n",
       "    </tr>\n",
       "    <tr>\n",
       "      <th>1499</th>\n",
       "      <td>negative</td>\n",
       "      <td>SERVICE#GENERAL</td>\n",
       "      <td>waitress</td>\n",
       "      <td>20:28</td>\n",
       "      <td>The hostess and the waitress were incredibly r...</td>\n",
       "    </tr>\n",
       "    <tr>\n",
       "      <th>1500</th>\n",
       "      <td>positive</td>\n",
       "      <td>RESTAURANT#PRICES</td>\n",
       "      <td>place</td>\n",
       "      <td>12:17</td>\n",
       "      <td>this little place has a cute interior decor an...</td>\n",
       "    </tr>\n",
       "    <tr>\n",
       "      <th>1501</th>\n",
       "      <td>positive</td>\n",
       "      <td>RESTAURANT#GENERAL</td>\n",
       "      <td>restaurant</td>\n",
       "      <td>30:40</td>\n",
       "      <td>Nice Family owned traditional restaurant.</td>\n",
       "    </tr>\n",
       "    <tr>\n",
       "      <th>1502</th>\n",
       "      <td>positive</td>\n",
       "      <td>AMBIENCE#GENERAL</td>\n",
       "      <td>atmosphere</td>\n",
       "      <td>74:84</td>\n",
       "      <td>The first time I went, and was completely take...</td>\n",
       "    </tr>\n",
       "  </tbody>\n",
       "</table>\n",
       "<p>1503 rows × 5 columns</p>\n",
       "</div>"
      ],
      "text/plain": [
       "             y              aspect target_term target_location  \\\n",
       "0     positive    AMBIENCE#GENERAL     seating           18:25   \n",
       "1     positive    AMBIENCE#GENERAL   trattoria           25:34   \n",
       "2     positive        FOOD#QUALITY        food          98:102   \n",
       "3     negative     SERVICE#GENERAL       STAFF            5:10   \n",
       "4     positive  FOOD#STYLE_OPTIONS        menu             4:8   \n",
       "...        ...                 ...         ...             ...   \n",
       "1498  positive      DRINKS#QUALITY    expresso           29:37   \n",
       "1499  negative     SERVICE#GENERAL    waitress           20:28   \n",
       "1500  positive   RESTAURANT#PRICES       place           12:17   \n",
       "1501  positive  RESTAURANT#GENERAL  restaurant           30:40   \n",
       "1502  positive    AMBIENCE#GENERAL  atmosphere           74:84   \n",
       "\n",
       "                                               sentence  \n",
       "0     short and sweet – seating is great:it's romant...  \n",
       "1     This quaint and romantic trattoria is at the t...  \n",
       "2     The have over 100 different beers to offer thi...  \n",
       "3                           THIS STAFF SHOULD BE FIRED.  \n",
       "4     The menu looked great, and the waiter was very...  \n",
       "...                                                 ...  \n",
       "1498  One of us actually liked the expresso - that's...  \n",
       "1499  The hostess and the waitress were incredibly r...  \n",
       "1500  this little place has a cute interior decor an...  \n",
       "1501          Nice Family owned traditional restaurant.  \n",
       "1502  The first time I went, and was completely take...  \n",
       "\n",
       "[1503 rows x 5 columns]"
      ]
     },
     "execution_count": 12,
     "metadata": {},
     "output_type": "execute_result"
    }
   ],
   "source": [
    "# view data\n",
    "train"
   ]
  },
  {
   "cell_type": "code",
   "execution_count": 16,
   "metadata": {},
   "outputs": [
    {
     "data": {
      "text/html": [
       "<div>\n",
       "<style scoped>\n",
       "    .dataframe tbody tr th:only-of-type {\n",
       "        vertical-align: middle;\n",
       "    }\n",
       "\n",
       "    .dataframe tbody tr th {\n",
       "        vertical-align: top;\n",
       "    }\n",
       "\n",
       "    .dataframe thead th {\n",
       "        text-align: right;\n",
       "    }\n",
       "</style>\n",
       "<table border=\"1\" class=\"dataframe\">\n",
       "  <thead>\n",
       "    <tr style=\"text-align: right;\">\n",
       "      <th></th>\n",
       "      <th>index</th>\n",
       "      <th>missing vals</th>\n",
       "    </tr>\n",
       "  </thead>\n",
       "  <tbody>\n",
       "    <tr>\n",
       "      <th>0</th>\n",
       "      <td>y</td>\n",
       "      <td>0</td>\n",
       "    </tr>\n",
       "    <tr>\n",
       "      <th>1</th>\n",
       "      <td>aspect</td>\n",
       "      <td>0</td>\n",
       "    </tr>\n",
       "    <tr>\n",
       "      <th>2</th>\n",
       "      <td>target_term</td>\n",
       "      <td>0</td>\n",
       "    </tr>\n",
       "    <tr>\n",
       "      <th>3</th>\n",
       "      <td>target_location</td>\n",
       "      <td>0</td>\n",
       "    </tr>\n",
       "    <tr>\n",
       "      <th>4</th>\n",
       "      <td>sentence</td>\n",
       "      <td>0</td>\n",
       "    </tr>\n",
       "  </tbody>\n",
       "</table>\n",
       "</div>"
      ],
      "text/plain": [
       "             index  missing vals\n",
       "0                y             0\n",
       "1           aspect             0\n",
       "2      target_term             0\n",
       "3  target_location             0\n",
       "4         sentence             0"
      ]
     },
     "execution_count": 16,
     "metadata": {},
     "output_type": "execute_result"
    }
   ],
   "source": [
    "# missing values per column\n",
    "(train.isna().sum()).reset_index(name = \"missing vals\")"
   ]
  }
 ],
 "metadata": {
  "kernelspec": {
   "display_name": ".venv",
   "language": "python",
   "name": "python3"
  },
  "language_info": {
   "codemirror_mode": {
    "name": "ipython",
    "version": 3
   },
   "file_extension": ".py",
   "mimetype": "text/x-python",
   "name": "python",
   "nbconvert_exporter": "python",
   "pygments_lexer": "ipython3",
   "version": "3.10.8"
  },
  "orig_nbformat": 4
 },
 "nbformat": 4,
 "nbformat_minor": 2
}
