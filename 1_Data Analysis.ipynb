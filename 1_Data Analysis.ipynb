{
 "cells": [
  {
   "attachments": {},
   "cell_type": "markdown",
   "metadata": {},
   "source": [
    "# Data Analysis\n",
    "\n",
    "Analyse provided data."
   ]
  },
  {
   "attachments": {},
   "cell_type": "markdown",
   "metadata": {},
   "source": [
    "### 1. Import Packages and check versions"
   ]
  },
  {
   "cell_type": "code",
   "execution_count": 1,
   "metadata": {},
   "outputs": [],
   "source": [
    "# import own scripts\n",
    "import src.classifier as classifier\n",
    "import src.preprocess_data as prepData\n",
    "#import src.tester as tester"
   ]
  },
  {
   "cell_type": "code",
   "execution_count": 2,
   "metadata": {},
   "outputs": [],
   "source": [
    "# data handling\n",
    "import datasets\n",
    "import numpy as np\n",
    "import pandas as pd\n",
    "\n",
    "# pre-processing\n",
    "import nltk\n",
    "import sentencepiece\n",
    "import stanza\n",
    "\n",
    "# modeling\n",
    "import pytorch_lightning as pl\n",
    "import sklearn\n",
    "import torch\n",
    "import transformers\n",
    "from transformers import AutoConfig, AutoTokenizer, AutoModel\n",
    "from datasets import Dataset, DatasetDict\n",
    "\n",
    "# visualize\n",
    "from matplotlib import pyplot as plt"
   ]
  },
  {
   "cell_type": "code",
   "execution_count": 3,
   "metadata": {},
   "outputs": [
    {
     "name": "stdout",
     "output_type": "stream",
     "text": [
      "pytorch: 1.13.1+cu117 / allowed: 1.13.1\n",
      "pytorch-lightning: 1.8.1 / allowed: 1.8.1\n",
      "transformers: 4.22.2 / allowed: 4.22.2\n",
      "datasets: 2.9.0 / allowed: 2.9.0\n",
      "sentencepiece: 0.1.97 / allowed: 0.1.97\n",
      "scikit-learn: 1.2.0 / allowed: 1.2.0\n",
      "numpy: 1.23.5 / allowed: 1.23.5\n",
      "pandas: 1.5.3 / allowed: 1.5.3\n",
      "nltk: 3.8.1 / allowed: 3.8.1\n",
      "stanza: 1.4.2 / allowed: 1.4.2\n"
     ]
    }
   ],
   "source": [
    "# check versions\n",
    "print(f\"pytorch: {torch.__version__} / allowed: 1.13.1\")\n",
    "print(f\"pytorch-lightning: {pl.__version__} / allowed: 1.8.1\")\n",
    "print(f\"transformers: {transformers.__version__} / allowed: 4.22.2\")\n",
    "print(f\"datasets: {datasets.__version__} / allowed: 2.9.0\")\n",
    "print(f\"sentencepiece: {sentencepiece.__version__} / allowed: 0.1.97\")\n",
    "print(f\"scikit-learn: {sklearn.__version__} / allowed: 1.2.0\")\n",
    "print(f\"numpy: {np.__version__} / allowed: 1.23.5\")\n",
    "print(f\"pandas: {pd.__version__} / allowed: 1.5.3\")\n",
    "print(f\"nltk: {nltk.__version__} / allowed: 3.8.1\")\n",
    "print(f\"stanza: {stanza.__version__} / allowed: 1.4.2\")"
   ]
  },
  {
   "attachments": {},
   "cell_type": "markdown",
   "metadata": {},
   "source": [
    "### 2. Load Data"
   ]
  },
  {
   "cell_type": "code",
   "execution_count": 4,
   "metadata": {},
   "outputs": [
    {
     "name": "stdout",
     "output_type": "stream",
     "text": [
      "(1503, 5)\n",
      "(376, 5)\n"
     ]
    }
   ],
   "source": [
    "# load data\n",
    "train = pd.read_csv(\"data/traindata.csv\", sep = \"\\t\", header = None).rename(columns = {0: \"y\", 1: \"aspect\", 2: \"target_term\", 3: \"target_location\", 4: \"sentence\"})\n",
    "test  = pd.read_csv(\"data/devdata.csv\", sep = \"\\t\", header = None).rename(columns = {0: \"y\", 1: \"aspect\", 2: \"target_term\", 3: \"target_location\", 4: \"sentence\"})\n",
    "print(train.shape)\n",
    "print(test.shape)"
   ]
  },
  {
   "cell_type": "code",
   "execution_count": 5,
   "metadata": {},
   "outputs": [
    {
     "data": {
      "text/html": [
       "<div>\n",
       "<style scoped>\n",
       "    .dataframe tbody tr th:only-of-type {\n",
       "        vertical-align: middle;\n",
       "    }\n",
       "\n",
       "    .dataframe tbody tr th {\n",
       "        vertical-align: top;\n",
       "    }\n",
       "\n",
       "    .dataframe thead th {\n",
       "        text-align: right;\n",
       "    }\n",
       "</style>\n",
       "<table border=\"1\" class=\"dataframe\">\n",
       "  <thead>\n",
       "    <tr style=\"text-align: right;\">\n",
       "      <th></th>\n",
       "      <th>y</th>\n",
       "      <th>aspect</th>\n",
       "      <th>target_term</th>\n",
       "      <th>target_location</th>\n",
       "      <th>sentence</th>\n",
       "    </tr>\n",
       "  </thead>\n",
       "  <tbody>\n",
       "    <tr>\n",
       "      <th>0</th>\n",
       "      <td>positive</td>\n",
       "      <td>AMBIENCE#GENERAL</td>\n",
       "      <td>seating</td>\n",
       "      <td>18:25</td>\n",
       "      <td>short and sweet – seating is great:it's romant...</td>\n",
       "    </tr>\n",
       "    <tr>\n",
       "      <th>1</th>\n",
       "      <td>positive</td>\n",
       "      <td>AMBIENCE#GENERAL</td>\n",
       "      <td>trattoria</td>\n",
       "      <td>25:34</td>\n",
       "      <td>This quaint and romantic trattoria is at the t...</td>\n",
       "    </tr>\n",
       "    <tr>\n",
       "      <th>2</th>\n",
       "      <td>positive</td>\n",
       "      <td>FOOD#QUALITY</td>\n",
       "      <td>food</td>\n",
       "      <td>98:102</td>\n",
       "      <td>The have over 100 different beers to offer thi...</td>\n",
       "    </tr>\n",
       "  </tbody>\n",
       "</table>\n",
       "</div>"
      ],
      "text/plain": [
       "          y            aspect target_term target_location  \\\n",
       "0  positive  AMBIENCE#GENERAL     seating           18:25   \n",
       "1  positive  AMBIENCE#GENERAL   trattoria           25:34   \n",
       "2  positive      FOOD#QUALITY        food          98:102   \n",
       "\n",
       "                                            sentence  \n",
       "0  short and sweet – seating is great:it's romant...  \n",
       "1  This quaint and romantic trattoria is at the t...  \n",
       "2  The have over 100 different beers to offer thi...  "
      ]
     },
     "execution_count": 5,
     "metadata": {},
     "output_type": "execute_result"
    }
   ],
   "source": [
    "# view train\n",
    "train.head(3)"
   ]
  },
  {
   "cell_type": "code",
   "execution_count": 6,
   "metadata": {},
   "outputs": [
    {
     "data": {
      "text/html": [
       "<div>\n",
       "<style scoped>\n",
       "    .dataframe tbody tr th:only-of-type {\n",
       "        vertical-align: middle;\n",
       "    }\n",
       "\n",
       "    .dataframe tbody tr th {\n",
       "        vertical-align: top;\n",
       "    }\n",
       "\n",
       "    .dataframe thead th {\n",
       "        text-align: right;\n",
       "    }\n",
       "</style>\n",
       "<table border=\"1\" class=\"dataframe\">\n",
       "  <thead>\n",
       "    <tr style=\"text-align: right;\">\n",
       "      <th></th>\n",
       "      <th>index</th>\n",
       "      <th>missing vals</th>\n",
       "    </tr>\n",
       "  </thead>\n",
       "  <tbody>\n",
       "    <tr>\n",
       "      <th>0</th>\n",
       "      <td>y</td>\n",
       "      <td>0</td>\n",
       "    </tr>\n",
       "    <tr>\n",
       "      <th>1</th>\n",
       "      <td>aspect</td>\n",
       "      <td>0</td>\n",
       "    </tr>\n",
       "    <tr>\n",
       "      <th>2</th>\n",
       "      <td>target_term</td>\n",
       "      <td>0</td>\n",
       "    </tr>\n",
       "    <tr>\n",
       "      <th>3</th>\n",
       "      <td>target_location</td>\n",
       "      <td>0</td>\n",
       "    </tr>\n",
       "    <tr>\n",
       "      <th>4</th>\n",
       "      <td>sentence</td>\n",
       "      <td>0</td>\n",
       "    </tr>\n",
       "  </tbody>\n",
       "</table>\n",
       "</div>"
      ],
      "text/plain": [
       "             index  missing vals\n",
       "0                y             0\n",
       "1           aspect             0\n",
       "2      target_term             0\n",
       "3  target_location             0\n",
       "4         sentence             0"
      ]
     },
     "execution_count": 6,
     "metadata": {},
     "output_type": "execute_result"
    }
   ],
   "source": [
    "# missing values per column\n",
    "(train.isna().sum()).reset_index(name = \"missing vals\")"
   ]
  },
  {
   "cell_type": "code",
   "execution_count": 7,
   "metadata": {},
   "outputs": [
    {
     "data": {
      "text/html": [
       "<div>\n",
       "<style scoped>\n",
       "    .dataframe tbody tr th:only-of-type {\n",
       "        vertical-align: middle;\n",
       "    }\n",
       "\n",
       "    .dataframe tbody tr th {\n",
       "        vertical-align: top;\n",
       "    }\n",
       "\n",
       "    .dataframe thead th {\n",
       "        text-align: right;\n",
       "    }\n",
       "</style>\n",
       "<table border=\"1\" class=\"dataframe\">\n",
       "  <thead>\n",
       "    <tr style=\"text-align: right;\">\n",
       "      <th></th>\n",
       "      <th>y</th>\n",
       "      <th>aspect</th>\n",
       "      <th>target_term</th>\n",
       "      <th>target_location</th>\n",
       "      <th>sentence</th>\n",
       "    </tr>\n",
       "  </thead>\n",
       "  <tbody>\n",
       "    <tr>\n",
       "      <th>0</th>\n",
       "      <td>positive</td>\n",
       "      <td>LOCATION#GENERAL</td>\n",
       "      <td>neighborhood</td>\n",
       "      <td>54:66</td>\n",
       "      <td>great food, great wine list, great service in ...</td>\n",
       "    </tr>\n",
       "    <tr>\n",
       "      <th>1</th>\n",
       "      <td>negative</td>\n",
       "      <td>RESTAURANT#GENERAL</td>\n",
       "      <td>place</td>\n",
       "      <td>15:20</td>\n",
       "      <td>I thought this place was totally overrated.</td>\n",
       "    </tr>\n",
       "    <tr>\n",
       "      <th>2</th>\n",
       "      <td>positive</td>\n",
       "      <td>FOOD#QUALITY</td>\n",
       "      <td>Fish</td>\n",
       "      <td>0:4</td>\n",
       "      <td>Fish is so very fresh.</td>\n",
       "    </tr>\n",
       "  </tbody>\n",
       "</table>\n",
       "</div>"
      ],
      "text/plain": [
       "          y              aspect   target_term target_location  \\\n",
       "0  positive    LOCATION#GENERAL  neighborhood           54:66   \n",
       "1  negative  RESTAURANT#GENERAL         place           15:20   \n",
       "2  positive        FOOD#QUALITY          Fish             0:4   \n",
       "\n",
       "                                            sentence  \n",
       "0  great food, great wine list, great service in ...  \n",
       "1        I thought this place was totally overrated.  \n",
       "2                             Fish is so very fresh.  "
      ]
     },
     "execution_count": 7,
     "metadata": {},
     "output_type": "execute_result"
    }
   ],
   "source": [
    "# view test\n",
    "test.head(3)"
   ]
  },
  {
   "cell_type": "code",
   "execution_count": 8,
   "metadata": {},
   "outputs": [
    {
     "data": {
      "text/html": [
       "<div>\n",
       "<style scoped>\n",
       "    .dataframe tbody tr th:only-of-type {\n",
       "        vertical-align: middle;\n",
       "    }\n",
       "\n",
       "    .dataframe tbody tr th {\n",
       "        vertical-align: top;\n",
       "    }\n",
       "\n",
       "    .dataframe thead th {\n",
       "        text-align: right;\n",
       "    }\n",
       "</style>\n",
       "<table border=\"1\" class=\"dataframe\">\n",
       "  <thead>\n",
       "    <tr style=\"text-align: right;\">\n",
       "      <th></th>\n",
       "      <th>index</th>\n",
       "      <th>missing vals</th>\n",
       "    </tr>\n",
       "  </thead>\n",
       "  <tbody>\n",
       "    <tr>\n",
       "      <th>0</th>\n",
       "      <td>y</td>\n",
       "      <td>0</td>\n",
       "    </tr>\n",
       "    <tr>\n",
       "      <th>1</th>\n",
       "      <td>aspect</td>\n",
       "      <td>0</td>\n",
       "    </tr>\n",
       "    <tr>\n",
       "      <th>2</th>\n",
       "      <td>target_term</td>\n",
       "      <td>0</td>\n",
       "    </tr>\n",
       "    <tr>\n",
       "      <th>3</th>\n",
       "      <td>target_location</td>\n",
       "      <td>0</td>\n",
       "    </tr>\n",
       "    <tr>\n",
       "      <th>4</th>\n",
       "      <td>sentence</td>\n",
       "      <td>0</td>\n",
       "    </tr>\n",
       "  </tbody>\n",
       "</table>\n",
       "</div>"
      ],
      "text/plain": [
       "             index  missing vals\n",
       "0                y             0\n",
       "1           aspect             0\n",
       "2      target_term             0\n",
       "3  target_location             0\n",
       "4         sentence             0"
      ]
     },
     "execution_count": 8,
     "metadata": {},
     "output_type": "execute_result"
    }
   ],
   "source": [
    "# missing values per column\n",
    "(test.isna().sum()).reset_index(name = \"missing vals\")"
   ]
  },
  {
   "attachments": {},
   "cell_type": "markdown",
   "metadata": {},
   "source": [
    "### 3. Analyse Training Data"
   ]
  },
  {
   "cell_type": "code",
   "execution_count": 9,
   "metadata": {},
   "outputs": [
    {
     "data": {
      "text/plain": [
       "array(['AMBIENCE#GENERAL', 'FOOD#QUALITY', 'SERVICE#GENERAL',\n",
       "       'FOOD#STYLE_OPTIONS', 'DRINKS#QUALITY', 'RESTAURANT#MISCELLANEOUS',\n",
       "       'RESTAURANT#GENERAL', 'DRINKS#PRICES', 'FOOD#PRICES',\n",
       "       'LOCATION#GENERAL', 'DRINKS#STYLE_OPTIONS', 'RESTAURANT#PRICES'],\n",
       "      dtype=object)"
      ]
     },
     "execution_count": 9,
     "metadata": {},
     "output_type": "execute_result"
    }
   ],
   "source": [
    "# what sentiments are present\n",
    "train.aspect.unique()"
   ]
  },
  {
   "cell_type": "code",
   "execution_count": 10,
   "metadata": {},
   "outputs": [
    {
     "data": {
      "text/plain": [
       "positive    1055\n",
       "negative     390\n",
       "neutral       58\n",
       "Name: y, dtype: int64"
      ]
     },
     "execution_count": 10,
     "metadata": {},
     "output_type": "execute_result"
    }
   ],
   "source": [
    "# look at distribution of sentiments in general\n",
    "train.y.value_counts()"
   ]
  },
  {
   "cell_type": "code",
   "execution_count": 11,
   "metadata": {},
   "outputs": [
    {
     "data": {
      "text/plain": [
       "<Axes: ylabel='aspect'>"
      ]
     },
     "execution_count": 11,
     "metadata": {},
     "output_type": "execute_result"
    },
    {
     "data": {
      "image/png": "[encoded data removed]",
      "text/plain": [
       "<Figure size 640x480 with 1 Axes>"
      ]
     },
     "metadata": {},
     "output_type": "display_data"
    }
   ],
   "source": [
    "# look at distribution of sentiments across different aspects\n",
    "pd.pivot_table(train, values = \"sentence\", index = \"aspect\", columns = \"y\", aggfunc = \"count\", fill_value = 0).plot(kind=\"barh\")"
   ]
  },
  {
   "attachments": {},
   "cell_type": "markdown",
   "metadata": {},
   "source": [
    "There is heavy class imbalance with some aspect-sentiment combinations not even being present in the dataset."
   ]
  },
  {
   "cell_type": "code",
   "execution_count": 12,
   "metadata": {},
   "outputs": [
    {
     "data": {
      "text/plain": [
       "True     767\n",
       "False    736\n",
       "Name: sentence, dtype: int64"
      ]
     },
     "execution_count": 12,
     "metadata": {},
     "output_type": "execute_result"
    }
   ],
   "source": [
    "# number of sentences that appear at least twice\n",
    "train.sentence.duplicated(keep = False).value_counts()"
   ]
  },
  {
   "cell_type": "code",
   "execution_count": 13,
   "metadata": {},
   "outputs": [
    {
     "data": {
      "text/plain": [
       "True     767\n",
       "False    736\n",
       "Name: sentence, dtype: int64"
      ]
     },
     "execution_count": 13,
     "metadata": {},
     "output_type": "execute_result"
    }
   ],
   "source": [
    "# number of sentences that appear at least twice\n",
    "train.sentence.duplicated(keep = False).value_counts()"
   ]
  },
  {
   "cell_type": "code",
   "execution_count": 14,
   "metadata": {},
   "outputs": [
    {
     "data": {
      "text/plain": [
       "327"
      ]
     },
     "execution_count": 14,
     "metadata": {},
     "output_type": "execute_result"
    }
   ],
   "source": [
    "train.loc[train.sentence.duplicated(keep = False) == True].sentence.nunique()"
   ]
  },
  {
   "cell_type": "code",
   "execution_count": 15,
   "metadata": {},
   "outputs": [
    {
     "data": {
      "text/html": [
       "<div>\n",
       "<style scoped>\n",
       "    .dataframe tbody tr th:only-of-type {\n",
       "        vertical-align: middle;\n",
       "    }\n",
       "\n",
       "    .dataframe tbody tr th {\n",
       "        vertical-align: top;\n",
       "    }\n",
       "\n",
       "    .dataframe thead th {\n",
       "        text-align: right;\n",
       "    }\n",
       "</style>\n",
       "<table border=\"1\" class=\"dataframe\">\n",
       "  <thead>\n",
       "    <tr style=\"text-align: right;\">\n",
       "      <th></th>\n",
       "      <th></th>\n",
       "      <th>y</th>\n",
       "      <th>aspect</th>\n",
       "      <th>target_term</th>\n",
       "      <th>target_location</th>\n",
       "      <th>sentence</th>\n",
       "    </tr>\n",
       "    <tr>\n",
       "      <th>sentence</th>\n",
       "      <th></th>\n",
       "      <th></th>\n",
       "      <th></th>\n",
       "      <th></th>\n",
       "      <th></th>\n",
       "      <th></th>\n",
       "    </tr>\n",
       "  </thead>\n",
       "  <tbody>\n",
       "    <tr>\n",
       "      <th rowspan=\"3\" valign=\"top\">$6 and there is much tasty food, all of it fresh and continually refilled.</th>\n",
       "      <th>1135</th>\n",
       "      <td>positive</td>\n",
       "      <td>FOOD#PRICES</td>\n",
       "      <td>food</td>\n",
       "      <td>27:31</td>\n",
       "      <td>$6 and there is much tasty food, all of it fre...</td>\n",
       "    </tr>\n",
       "    <tr>\n",
       "      <th>1258</th>\n",
       "      <td>positive</td>\n",
       "      <td>FOOD#QUALITY</td>\n",
       "      <td>food</td>\n",
       "      <td>27:31</td>\n",
       "      <td>$6 and there is much tasty food, all of it fre...</td>\n",
       "    </tr>\n",
       "    <tr>\n",
       "      <th>1419</th>\n",
       "      <td>positive</td>\n",
       "      <td>FOOD#STYLE_OPTIONS</td>\n",
       "      <td>food</td>\n",
       "      <td>27:31</td>\n",
       "      <td>$6 and there is much tasty food, all of it fre...</td>\n",
       "    </tr>\n",
       "    <tr>\n",
       "      <th rowspan=\"2\" valign=\"top\">A cool bar with great food, and tons of excellent beer.</th>\n",
       "      <th>551</th>\n",
       "      <td>positive</td>\n",
       "      <td>AMBIENCE#GENERAL</td>\n",
       "      <td>bar</td>\n",
       "      <td>7:10</td>\n",
       "      <td>A cool bar with great food, and tons of excell...</td>\n",
       "    </tr>\n",
       "    <tr>\n",
       "      <th>1155</th>\n",
       "      <td>positive</td>\n",
       "      <td>DRINKS#QUALITY</td>\n",
       "      <td>beer</td>\n",
       "      <td>50:54</td>\n",
       "      <td>A cool bar with great food, and tons of excell...</td>\n",
       "    </tr>\n",
       "    <tr>\n",
       "      <th>...</th>\n",
       "      <th>...</th>\n",
       "      <td>...</td>\n",
       "      <td>...</td>\n",
       "      <td>...</td>\n",
       "      <td>...</td>\n",
       "      <td>...</td>\n",
       "    </tr>\n",
       "    <tr>\n",
       "      <th>the pad se ew chicken was delicious, however the pad thai was far too oily.</th>\n",
       "      <th>429</th>\n",
       "      <td>negative</td>\n",
       "      <td>FOOD#QUALITY</td>\n",
       "      <td>pad thai</td>\n",
       "      <td>49:57</td>\n",
       "      <td>the pad se ew chicken was delicious, however t...</td>\n",
       "    </tr>\n",
       "    <tr>\n",
       "      <th rowspan=\"2\" valign=\"top\">this little place has a cute interior decor and affordable city prices.</th>\n",
       "      <th>62</th>\n",
       "      <td>positive</td>\n",
       "      <td>AMBIENCE#GENERAL</td>\n",
       "      <td>interior decor</td>\n",
       "      <td>29:43</td>\n",
       "      <td>this little place has a cute interior decor an...</td>\n",
       "    </tr>\n",
       "    <tr>\n",
       "      <th>1500</th>\n",
       "      <td>positive</td>\n",
       "      <td>RESTAURANT#PRICES</td>\n",
       "      <td>place</td>\n",
       "      <td>12:17</td>\n",
       "      <td>this little place has a cute interior decor an...</td>\n",
       "    </tr>\n",
       "    <tr>\n",
       "      <th rowspan=\"2\" valign=\"top\">those rolls were big, but not good and sashimi wasn't fresh.</th>\n",
       "      <th>778</th>\n",
       "      <td>negative</td>\n",
       "      <td>FOOD#QUALITY</td>\n",
       "      <td>sashimi</td>\n",
       "      <td>39:46</td>\n",
       "      <td>those rolls were big, but not good and sashimi...</td>\n",
       "    </tr>\n",
       "    <tr>\n",
       "      <th>818</th>\n",
       "      <td>negative</td>\n",
       "      <td>FOOD#QUALITY</td>\n",
       "      <td>rolls</td>\n",
       "      <td>6:11</td>\n",
       "      <td>those rolls were big, but not good and sashimi...</td>\n",
       "    </tr>\n",
       "  </tbody>\n",
       "</table>\n",
       "<p>767 rows × 5 columns</p>\n",
       "</div>"
      ],
      "text/plain": [
       "                                                                y  \\\n",
       "sentence                                                            \n",
       "$6 and there is much tasty food, all of it fres... 1135  positive   \n",
       "                                                   1258  positive   \n",
       "                                                   1419  positive   \n",
       "A cool bar with great food, and tons of excelle... 551   positive   \n",
       "                                                   1155  positive   \n",
       "...                                                           ...   \n",
       "the pad se ew chicken was delicious, however th... 429   negative   \n",
       "this little place has a cute interior decor and... 62    positive   \n",
       "                                                   1500  positive   \n",
       "those rolls were big, but not good and sashimi ... 778   negative   \n",
       "                                                   818   negative   \n",
       "\n",
       "                                                                     aspect  \\\n",
       "sentence                                                                      \n",
       "$6 and there is much tasty food, all of it fres... 1135         FOOD#PRICES   \n",
       "                                                   1258        FOOD#QUALITY   \n",
       "                                                   1419  FOOD#STYLE_OPTIONS   \n",
       "A cool bar with great food, and tons of excelle... 551     AMBIENCE#GENERAL   \n",
       "                                                   1155      DRINKS#QUALITY   \n",
       "...                                                                     ...   \n",
       "the pad se ew chicken was delicious, however th... 429         FOOD#QUALITY   \n",
       "this little place has a cute interior decor and... 62      AMBIENCE#GENERAL   \n",
       "                                                   1500   RESTAURANT#PRICES   \n",
       "those rolls were big, but not good and sashimi ... 778         FOOD#QUALITY   \n",
       "                                                   818         FOOD#QUALITY   \n",
       "\n",
       "                                                            target_term  \\\n",
       "sentence                                                                  \n",
       "$6 and there is much tasty food, all of it fres... 1135            food   \n",
       "                                                   1258            food   \n",
       "                                                   1419            food   \n",
       "A cool bar with great food, and tons of excelle... 551              bar   \n",
       "                                                   1155            beer   \n",
       "...                                                                 ...   \n",
       "the pad se ew chicken was delicious, however th... 429         pad thai   \n",
       "this little place has a cute interior decor and... 62    interior decor   \n",
       "                                                   1500           place   \n",
       "those rolls were big, but not good and sashimi ... 778          sashimi   \n",
       "                                                   818            rolls   \n",
       "\n",
       "                                                        target_location  \\\n",
       "sentence                                                                  \n",
       "$6 and there is much tasty food, all of it fres... 1135           27:31   \n",
       "                                                   1258           27:31   \n",
       "                                                   1419           27:31   \n",
       "A cool bar with great food, and tons of excelle... 551             7:10   \n",
       "                                                   1155           50:54   \n",
       "...                                                                 ...   \n",
       "the pad se ew chicken was delicious, however th... 429            49:57   \n",
       "this little place has a cute interior decor and... 62             29:43   \n",
       "                                                   1500           12:17   \n",
       "those rolls were big, but not good and sashimi ... 778            39:46   \n",
       "                                                   818             6:11   \n",
       "\n",
       "                                                                                                  sentence  \n",
       "sentence                                                                                                    \n",
       "$6 and there is much tasty food, all of it fres... 1135  $6 and there is much tasty food, all of it fre...  \n",
       "                                                   1258  $6 and there is much tasty food, all of it fre...  \n",
       "                                                   1419  $6 and there is much tasty food, all of it fre...  \n",
       "A cool bar with great food, and tons of excelle... 551   A cool bar with great food, and tons of excell...  \n",
       "                                                   1155  A cool bar with great food, and tons of excell...  \n",
       "...                                                                                                    ...  \n",
       "the pad se ew chicken was delicious, however th... 429   the pad se ew chicken was delicious, however t...  \n",
       "this little place has a cute interior decor and... 62    this little place has a cute interior decor an...  \n",
       "                                                   1500  this little place has a cute interior decor an...  \n",
       "those rolls were big, but not good and sashimi ... 778   those rolls were big, but not good and sashimi...  \n",
       "                                                   818   those rolls were big, but not good and sashimi...  \n",
       "\n",
       "[767 rows x 5 columns]"
      ]
     },
     "execution_count": 15,
     "metadata": {},
     "output_type": "execute_result"
    }
   ],
   "source": [
    "train.loc[train.sentence.duplicated(keep = False) == True].groupby(\"sentence\", group_keys=True).apply(lambda x: x)"
   ]
  },
  {
   "cell_type": "code",
   "execution_count": 16,
   "metadata": {},
   "outputs": [
    {
     "data": {
      "text/html": [
       "<div>\n",
       "<style scoped>\n",
       "    .dataframe tbody tr th:only-of-type {\n",
       "        vertical-align: middle;\n",
       "    }\n",
       "\n",
       "    .dataframe tbody tr th {\n",
       "        vertical-align: top;\n",
       "    }\n",
       "\n",
       "    .dataframe thead th {\n",
       "        text-align: right;\n",
       "    }\n",
       "</style>\n",
       "<table border=\"1\" class=\"dataframe\">\n",
       "  <thead>\n",
       "    <tr style=\"text-align: right;\">\n",
       "      <th></th>\n",
       "      <th>count_y</th>\n",
       "    </tr>\n",
       "    <tr>\n",
       "      <th>uq_y</th>\n",
       "      <th></th>\n",
       "    </tr>\n",
       "  </thead>\n",
       "  <tbody>\n",
       "    <tr>\n",
       "      <th>1</th>\n",
       "      <td>618</td>\n",
       "    </tr>\n",
       "    <tr>\n",
       "      <th>2</th>\n",
       "      <td>146</td>\n",
       "    </tr>\n",
       "    <tr>\n",
       "      <th>3</th>\n",
       "      <td>3</td>\n",
       "    </tr>\n",
       "  </tbody>\n",
       "</table>\n",
       "</div>"
      ],
      "text/plain": [
       "      count_y\n",
       "uq_y         \n",
       "1         618\n",
       "2         146\n",
       "3           3"
      ]
     },
     "execution_count": 16,
     "metadata": {},
     "output_type": "execute_result"
    }
   ],
   "source": [
    "# show duplicated data grouped by unique embedding id\n",
    "duplicates = train.loc[train.sentence.duplicated(keep = False) == True].groupby(\"sentence\").agg(count_y = (\"y\", \"count\"), uq_y = (\"y\", \"nunique\"))\n",
    "\n",
    "duplicates.sort_values(by = [\"uq_y\", \"count_y\"], ascending = (True, False)).groupby(\"uq_y\").sum()"
   ]
  },
  {
   "attachments": {},
   "cell_type": "markdown",
   "metadata": {},
   "source": [
    "Half of all training data relates to sentences that appear at least twice. Also, if a sentence appears multiple times, the voiced sentiment is often the same (e.g. if a review contains a negative sentiment for a given aspect, other aspects will most likely be rated negative as well)."
   ]
  },
  {
   "cell_type": "markdown",
   "metadata": {},
   "source": [
    "### 4. Analyse Test Data"
   ]
  },
  {
   "cell_type": "code",
   "execution_count": 17,
   "metadata": {},
   "outputs": [
    {
     "data": {
      "text/plain": [
       "positive    264\n",
       "negative     98\n",
       "neutral      14\n",
       "Name: y, dtype: int64"
      ]
     },
     "execution_count": 17,
     "metadata": {},
     "output_type": "execute_result"
    }
   ],
   "source": [
    "# look at distribution of sentiments in general\n",
    "test.y.value_counts()"
   ]
  },
  {
   "cell_type": "code",
   "execution_count": 18,
   "metadata": {},
   "outputs": [
    {
     "data": {
      "text/plain": [
       "<Axes: ylabel='aspect'>"
      ]
     },
     "execution_count": 18,
     "metadata": {},
     "output_type": "execute_result"
    },
    {
     "data": {
      "image/png": "[encoded data removed]",
      "text/plain": [
       "<Figure size 640x480 with 1 Axes>"
      ]
     },
     "metadata": {},
     "output_type": "display_data"
    }
   ],
   "source": [
    "# look at distribution of sentiments across different aspects\n",
    "pd.pivot_table(test, values = \"sentence\", index = \"aspect\", columns = \"y\", aggfunc = \"count\", fill_value = 0).plot(kind=\"barh\")"
   ]
  },
  {
   "attachments": {},
   "cell_type": "markdown",
   "metadata": {},
   "source": [
    "### 5. Try out some huggingface stuff"
   ]
  },
  {
   "attachments": {},
   "cell_type": "markdown",
   "metadata": {},
   "source": [
    "First we need to preprocess our data."
   ]
  },
  {
   "cell_type": "code",
   "execution_count": 19,
   "metadata": {},
   "outputs": [
    {
     "data": {
      "text/plain": [
       "Dataset({\n",
       "    features: ['sentence', 'inputs', 'label', 'labels'],\n",
       "    num_rows: 1503\n",
       "})"
      ]
     },
     "execution_count": 19,
     "metadata": {},
     "output_type": "execute_result"
    }
   ],
   "source": [
    "aspect_in_nl = {\n",
    "    \"AMBIENCE#GENERAL\": \"How is the general ambience of the $T$?\",\n",
    "    \"DRINKS#PRICES\": \"How are the prices of the drinks called $T$?\",\n",
    "    \"DRINKS#QUALITY\": \"How is the quality of the drinks called $T$?\",\n",
    "    \"DRINKS#STYLE_OPTIONS\": \"How are the style options of the drinks called $T$?\",\n",
    "    \"FOOD#PRICES\": \"How are the prices of the food called $T$?\",\n",
    "    \"FOOD#QUALITY\": \"How is the quality of the food called $T$?\",\n",
    "    \"FOOD#STYLE_OPTIONS\": \"How are the style options of the food called $T$?\",\n",
    "    \"LOCATION#GENERAL\": \"How is the location of the restaurant called $T$?\",\n",
    "    \"RESTAURANT#GENERAL\": \"How is the restaurant called $T$ overall?\",\n",
    "    \"RESTAURANT#MISCELLANEOUS\": \"How is the restaurant's $T$?\",\n",
    "    \"RESTAURANT#PRICES\": \"How are the prices of the restaurant called $T$?\",\n",
    "    \"SERVICE#GENERAL\": \"How is the service called $T$?\",\n",
    "}\n",
    "\n",
    "# preprocess data to get model inputs and labels\n",
    "train_prep = prepData.preprocess(train, aspect_in_nl)\n",
    "dev_prep  = prepData.preprocess(test , aspect_in_nl)\n",
    "\n",
    "# transform into huggingface dataset\n",
    "hf_train = Dataset.from_pandas(train_prep)\n",
    "hf_dev   = Dataset.from_pandas(dev_prep)\n",
    "\n",
    "# have a look at it\n",
    "hf_train"
   ]
  },
  {
   "cell_type": "code",
   "execution_count": 20,
   "metadata": {},
   "outputs": [
    {
     "name": "stderr",
     "output_type": "stream",
     "text": [
      "Some weights of the model checkpoint at bert-base-cased were not used when initializing BertModel: ['cls.predictions.transform.dense.weight', 'cls.predictions.bias', 'cls.predictions.decoder.weight', 'cls.seq_relationship.weight', 'cls.predictions.transform.LayerNorm.weight', 'cls.seq_relationship.bias', 'cls.predictions.transform.dense.bias', 'cls.predictions.transform.LayerNorm.bias']\n",
      "- This IS expected if you are initializing BertModel from the checkpoint of a model trained on another task or with another architecture (e.g. initializing a BertForSequenceClassification model from a BertForPreTraining model).\n",
      "- This IS NOT expected if you are initializing BertModel from the checkpoint of a model that you expect to be exactly identical (initializing a BertForSequenceClassification model from a BertForSequenceClassification model).\n"
     ]
    }
   ],
   "source": [
    "# HF name of the selected pre-trained language model (PLM):\n",
    "plm_name = 'bert-base-cased'\n",
    "\n",
    "class TransformerBinaryClassifier(torch.nn.Module):\n",
    "\n",
    "    def __init__(self, plm_name: str):\n",
    "        super(TransformerBinaryClassifier, self).__init__()\n",
    "        self.lmconfig = AutoConfig.from_pretrained(plm_name)\n",
    "        self.lmtokenizer = AutoTokenizer.from_pretrained(plm_name)\n",
    "        self.lm = AutoModel.from_pretrained(plm_name, output_attentions=False)\n",
    "        self.emb_dim = self.lmconfig.hidden_size\n",
    "        self.output_size = 3\n",
    "        self.classifier = torch.nn.Sequential(\n",
    "            torch.nn.Dropout(0.2),\n",
    "            torch.nn.Linear(self.emb_dim, self.output_size),\n",
    "            torch.nn.Sigmoid()\n",
    "        )\n",
    "        self.loss_fn = torch.nn.BCELoss(reduction='mean')\n",
    "\n",
    "    def forward(self, x):\n",
    "        x : torch.Tensor = self.lm(x['input_ids'], x['attention_mask']).last_hidden_state\n",
    "        global_vects = x.mean(dim=1)\n",
    "        x = self.classifier(global_vects)\n",
    "        return x.squeeze(-1)\n",
    "    \n",
    "    def compute_loss(self, predictions, target):\n",
    "        return self.loss_fn(predictions, target)\n",
    "\n",
    "model = TransformerBinaryClassifier(plm_name)"
   ]
  },
  {
   "cell_type": "code",
   "execution_count": 21,
   "metadata": {},
   "outputs": [
    {
     "data": {
      "application/vnd.jupyter.widget-view+json": {
       "model_id": "23088860632642cf92f9820110b7eb9a",
       "version_major": 2,
       "version_minor": 0
      },
      "text/plain": [
       "  0%|          | 0/2 [00:00<?, ?ba/s]"
      ]
     },
     "metadata": {},
     "output_type": "display_data"
    },
    {
     "data": {
      "application/vnd.jupyter.widget-view+json": {
       "model_id": "a44e03f5510240bf8dff6b370fb2d964",
       "version_major": 2,
       "version_minor": 0
      },
      "text/plain": [
       "  0%|          | 0/1 [00:00<?, ?ba/s]"
      ]
     },
     "metadata": {},
     "output_type": "display_data"
    },
    {
     "data": {
      "text/plain": [
       "Dataset({\n",
       "    features: ['labels', 'input_ids', 'token_type_ids', 'attention_mask'],\n",
       "    num_rows: 1503\n",
       "})"
      ]
     },
     "execution_count": 21,
     "metadata": {},
     "output_type": "execute_result"
    }
   ],
   "source": [
    "# tokenize our data\n",
    "def tokenize_function(hf_dataset, input_col = \"inputs\"):\n",
    "    return model.lmtokenizer(hf_dataset[input_col], truncation=True)\n",
    "\n",
    "hf_train_tok = hf_train.map(tokenize_function, batched = True)\n",
    "hf_dev_tok   = hf_dev.map(tokenize_function,   batched = True)\n",
    "\n",
    "hf_train_tok = hf_train_tok.remove_columns([\"inputs\", \"sentence\", \"label\"])\n",
    "hf_dev_tok   = hf_dev_tok.remove_columns([\"inputs\", \"sentence\", \"label\"])\n",
    "\n",
    "hf_train_tok"
   ]
  },
  {
   "cell_type": "code",
   "execution_count": 22,
   "metadata": {},
   "outputs": [
    {
     "name": "stderr",
     "output_type": "stream",
     "text": [
      "You're using a BertTokenizerFast tokenizer. Please note that with a fast tokenizer, using the `__call__` method is faster than using a method to encode the text followed by a call to the `pad` method to get a padded encoding.\n"
     ]
    },
    {
     "name": "stdout",
     "output_type": "stream",
     "text": [
      "tensor([[0, 1, 0],\n",
      "        [0, 0, 1],\n",
      "        [0, 0, 1],\n",
      "        [1, 0, 0],\n",
      "        [1, 0, 0],\n",
      "        [0, 0, 1],\n",
      "        [0, 1, 0],\n",
      "        [0, 0, 1],\n",
      "        [0, 0, 1],\n",
      "        [0, 0, 1],\n",
      "        [1, 0, 0],\n",
      "        [1, 0, 0]])\n"
     ]
    }
   ],
   "source": [
    "from transformers import DataCollatorWithPadding # automatically performs batch-wise padding\n",
    "from torch.utils.data import DataLoader\n",
    "\n",
    "data_collator = DataCollatorWithPadding(tokenizer=model.lmtokenizer, padding=True, return_tensors='pt')\n",
    "\n",
    "train_dataloader = DataLoader(hf_train_tok, shuffle=True, batch_size=12, collate_fn=data_collator)\n",
    "dev_dataloader = DataLoader(hf_dev_tok, batch_size=12, collate_fn=data_collator)\n",
    "\n",
    "# just for testing\n",
    "for b in train_dataloader:\n",
    "    print(b['labels'])\n",
    "    break"
   ]
  },
  {
   "cell_type": "code",
   "execution_count": 23,
   "metadata": {},
   "outputs": [
    {
     "data": {
      "text/plain": [
       "<torch.optim.lr_scheduler.LambdaLR at 0x1e989b9d6f0>"
      ]
     },
     "execution_count": 23,
     "metadata": {},
     "output_type": "execute_result"
    }
   ],
   "source": [
    "from torch.optim import AdamW\n",
    "from transformers import get_scheduler\n",
    "\n",
    "optimizer = AdamW(model.parameters(), lr=5e-5)\n",
    "\n",
    "num_epochs = 10\n",
    "num_training_steps = num_epochs * len(train_dataloader)\n",
    "lr_scheduler = get_scheduler(\n",
    "    name=\"linear\", optimizer=optimizer, num_warmup_steps=0, num_training_steps=num_training_steps\n",
    ")\n",
    "\n",
    "device = torch.device(\"cuda\") if torch.cuda.is_available() else torch.device(\"cpu\")\n",
    "\n",
    "# device = 'cpu'\n",
    "\n",
    "model.to(device)\n",
    "\n",
    "lr_scheduler"
   ]
  },
  {
   "cell_type": "code",
   "execution_count": 24,
   "metadata": {},
   "outputs": [],
   "source": [
    "from sklearn.metrics import f1_score, roc_auc_score, accuracy_score\n",
    "\n",
    "def multi_label_metrics(y_pred, y_true):\n",
    "    return accuracy_score(y_true, y_pred)"
   ]
  },
  {
   "cell_type": "code",
   "execution_count": 25,
   "metadata": {},
   "outputs": [
    {
     "data": {
      "application/vnd.jupyter.widget-view+json": {
       "model_id": "dadddee66f004e1284171e7f917ed554",
       "version_major": 2,
       "version_minor": 0
      },
      "text/plain": [
       "  0%|          | 0/1260 [00:00<?, ?it/s]"
      ]
     },
     "metadata": {},
     "output_type": "display_data"
    },
    {
     "name": "stdout",
     "output_type": "stream",
     "text": [
      "0.7977378576180971\n",
      "0.8915502328675982\n",
      "0.9214903526280772\n",
      "0.9427811044577512\n",
      "0.9481037924151696\n",
      "0.9727212242182302\n",
      "0.9840319361277445\n",
      "0.9873586161011311\n",
      "0.9913506320691949\n",
      "0.9933466400532269\n"
     ]
    }
   ],
   "source": [
    "from tqdm.auto import tqdm\n",
    "\n",
    "progress_bar = tqdm(range(num_training_steps))\n",
    "\n",
    "model.train()\n",
    "for epoch in range(num_epochs):\n",
    "    lbls = torch.Tensor([])\n",
    "    preds = torch.Tensor([])\n",
    "    for batch in train_dataloader:\n",
    "        lbls = torch.cat((lbls, batch[\"labels\"].argmax(dim = 1)))\n",
    "        batch = {k: v.to(device) for k, v in batch.items()}\n",
    "        predictions = model(batch)\n",
    "        loss = model.loss_fn(predictions, batch['labels'].float())\n",
    "        loss.backward()\n",
    "\n",
    "        optimizer.step()\n",
    "        lr_scheduler.step()\n",
    "        optimizer.zero_grad()\n",
    "        progress_bar.update(1)\n",
    "\n",
    "        preds = torch.cat((preds, predictions.argmax(dim = 1).cpu()))\n",
    "\n",
    "    # print metrics of this epoch\n",
    "    print(multi_label_metrics(preds, lbls))"
   ]
  },
  {
   "cell_type": "code",
   "execution_count": 26,
   "metadata": {},
   "outputs": [
    {
     "name": "stdout",
     "output_type": "stream",
     "text": [
      "0.8324468085106383\n"
     ]
    }
   ],
   "source": [
    "model.eval()\n",
    "lbls = torch.Tensor([])\n",
    "preds = torch.Tensor([])\n",
    "for batch in dev_dataloader:\n",
    "    lbls = torch.cat((lbls, batch[\"labels\"].argmax(dim = 1)))\n",
    "    batch = {k: v.to(device) for k, v in batch.items()}\n",
    "    predictions = model(batch)\n",
    "    loss = model.loss_fn(predictions, batch['labels'].float())\n",
    "    loss.backward()\n",
    "\n",
    "    optimizer.step()\n",
    "    lr_scheduler.step()\n",
    "    optimizer.zero_grad()\n",
    "    progress_bar.update(1)\n",
    "\n",
    "    preds = torch.cat((preds, predictions.argmax(dim = 1).cpu()))\n",
    "\n",
    "# print metrics of this epoch\n",
    "print(multi_label_metrics(preds, lbls))"
   ]
  }
 ],
 "metadata": {
  "kernelspec": {
   "display_name": ".venv",
   "language": "python",
   "name": "python3"
  },
  "language_info": {
   "codemirror_mode": {
    "name": "ipython",
    "version": 3
   },
   "file_extension": ".py",
   "mimetype": "text/x-python",
   "name": "python",
   "nbconvert_exporter": "python",
   "pygments_lexer": "ipython3",
   "version": "3.10.8"
  },
  "orig_nbformat": 4
 },
 "nbformat": 4,
 "nbformat_minor": 2
}
