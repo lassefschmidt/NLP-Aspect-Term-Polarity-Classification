{
 "cells": [
  {
   "attachments": {},
   "cell_type": "markdown",
   "metadata": {},
   "source": [
    "# Environment Set Up and Testing\n",
    "\n",
    "Verify that local environment fulfills the requirements of the assignment."
   ]
  },
  {
   "attachments": {},
   "cell_type": "markdown",
   "metadata": {},
   "source": [
    "### 1. Install Packages"
   ]
  },
  {
   "cell_type": "code",
   "execution_count": null,
   "metadata": {},
   "outputs": [],
   "source": [
    "# install libraries (do not run if not needed)\n",
    "!pip install \"torch == 1.13.1\" --extra-index-url https://download.pytorch.org/whl/cu117\n",
    "!pip install \"pytorch-lightning == 1.8.1\n",
    "!pip install \"transformers == 4.22.2\"\n",
    "!pip install \"datasets == 2.9.0\"\n",
    "!pip install \"sentencepiece == 0.1.97\"\n",
    "!pip install \"scikit-learn == 1.2.0\"\n",
    "!pip install \"numpy == 1.23.5\"\n",
    "!pip install \"pandas == 1.5.3\"\n",
    "!pip install \"nltk == 3.8.1\"\n",
    "!pip install \"stanza == 1.4.2\"\n",
    "!pip install ipywidgets"
   ]
  },
  {
   "attachments": {},
   "cell_type": "markdown",
   "metadata": {},
   "source": [
    "### 2. Import Packages and check versions"
   ]
  },
  {
   "cell_type": "code",
   "execution_count": 7,
   "metadata": {},
   "outputs": [],
   "source": [
    "# import own scripts\n",
    "import src.classifier as classifier\n",
    "#import src.tester as tester"
   ]
  },
  {
   "cell_type": "code",
   "execution_count": 12,
   "metadata": {},
   "outputs": [],
   "source": [
    "# data handling\n",
    "import datasets\n",
    "import numpy as np\n",
    "import pandas as pd\n",
    "\n",
    "# pre-processing\n",
    "import nltk\n",
    "import sentencepiece\n",
    "import stanza\n",
    "\n",
    "# modeling\n",
    "import pytorch_lightning as pl\n",
    "import sklearn\n",
    "import torch\n",
    "import transformers"
   ]
  },
  {
   "cell_type": "code",
   "execution_count": 13,
   "metadata": {},
   "outputs": [
    {
     "name": "stdout",
     "output_type": "stream",
     "text": [
      "pytorch: 1.13.1+cu117 / allowed: 1.13.1\n",
      "pytorch-lightning: 1.8.1 / allowed: 1.8.1\n",
      "transformers: 4.22.2 / allowed: 4.22.2\n",
      "datasets: 2.9.0 / allowed: 2.9.0\n",
      "sentencepiece: 0.1.97 / allowed: 0.1.97\n",
      "scikit-learn: 1.2.0 / allowed: 1.2.0\n",
      "numpy: 1.23.5 / allowed: 1.23.5\n",
      "pandas: 1.5.3 / allowed: 1.5.3\n",
      "nltk: 3.8.1 / allowed: 3.8.1\n",
      "stanza: 1.4.2 / allowed: 1.4.2\n"
     ]
    }
   ],
   "source": [
    "# check versions\n",
    "print(f\"pytorch: {torch.__version__} / allowed: 1.13.1\")\n",
    "print(f\"pytorch-lightning: {pl.__version__} / allowed: 1.8.1\")\n",
    "print(f\"transformers: {transformers.__version__} / allowed: 4.22.2\")\n",
    "print(f\"datasets: {datasets.__version__} / allowed: 2.9.0\")\n",
    "print(f\"sentencepiece: {sentencepiece.__version__} / allowed: 0.1.97\")\n",
    "print(f\"scikit-learn: {sklearn.__version__} / allowed: 1.2.0\")\n",
    "print(f\"numpy: {np.__version__} / allowed: 1.23.5\")\n",
    "print(f\"pandas: {pd.__version__} / allowed: 1.5.3\")\n",
    "print(f\"nltk: {nltk.__version__} / allowed: 3.8.1\")\n",
    "print(f\"stanza: {stanza.__version__} / allowed: 1.4.2\")"
   ]
  }
 ],
 "metadata": {
  "kernelspec": {
   "display_name": ".venv",
   "language": "python",
   "name": "python3"
  },
  "language_info": {
   "codemirror_mode": {
    "name": "ipython",
    "version": 3
   },
   "file_extension": ".py",
   "mimetype": "text/x-python",
   "name": "python",
   "nbconvert_exporter": "python",
   "pygments_lexer": "ipython3",
   "version": "3.10.8"
  },
  "orig_nbformat": 4
 },
 "nbformat": 4,
 "nbformat_minor": 2
}
