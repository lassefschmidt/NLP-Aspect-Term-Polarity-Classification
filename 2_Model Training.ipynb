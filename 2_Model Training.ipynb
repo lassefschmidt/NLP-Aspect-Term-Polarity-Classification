{
 "cells": [
  {
   "cell_type": "markdown",
   "metadata": {},
   "source": [
    "# Model Training\n",
    "\n",
    "Try out different architecture and use raytune to select best hyperparameters."
   ]
  },
  {
   "cell_type": "markdown",
   "metadata": {},
   "source": [
    "### 1. Import Packages and check versions"
   ]
  },
  {
   "cell_type": "code",
   "execution_count": 1,
   "metadata": {},
   "outputs": [],
   "source": [
    "# import own scripts\n",
    "import src.classifier as classifier\n",
    "import src.preprocess_data as prepData\n",
    "import src.hyperparameter_tuning as hyperTune\n",
    "import src.visualize_data as vizData\n",
    "#import src.tester as tester"
   ]
  },
  {
   "cell_type": "code",
   "execution_count": 18,
   "metadata": {},
   "outputs": [
    {
     "data": {
      "text/plain": [
       "<module 'src.visualize_data' from 'D:\\\\Dokumente\\\\2_Bildung\\\\2_MSc\\\\1_Classes\\\\Y2T2_NLP\\\\3_assignment\\\\NLP-Aspect-Term-Polarity-Classification\\\\src\\\\visualize_data.py'>"
      ]
     },
     "execution_count": 18,
     "metadata": {},
     "output_type": "execute_result"
    }
   ],
   "source": [
    "# update own scripts\n",
    "from importlib import reload\n",
    "reload(classifier)\n",
    "reload(prepData)\n",
    "reload(hyperTune)\n",
    "reload(vizData)"
   ]
  },
  {
   "cell_type": "code",
   "execution_count": 2,
   "metadata": {},
   "outputs": [],
   "source": [
    "# basic stuff\n",
    "import os\n",
    "import numpy as np\n",
    "\n",
    "# data handling\n",
    "import datasets\n",
    "from datasets import Dataset, DatasetDict\n",
    "import pandas as pd\n",
    "\n",
    "# pre-processing\n",
    "import nltk\n",
    "import sentencepiece\n",
    "import stanza\n",
    "\n",
    "# modeling\n",
    "import torch\n",
    "from torch import nn\n",
    "import torch.nn.functional as F\n",
    "from torch.utils.data import DataLoader\n",
    "import pytorch_lightning as pl\n",
    "import transformers\n",
    "from transformers import AutoConfig, AutoTokenizer, AutoModel, AutoModelForSequenceClassification, DataCollatorWithPadding, get_scheduler\n",
    "\n",
    "# evaluation\n",
    "import sklearn\n",
    "from sklearn.metrics import accuracy_score, confusion_matrix, ConfusionMatrixDisplay, classification_report\n",
    "\n",
    "# hyperparam optimization\n",
    "from ray import air, tune\n",
    "\n",
    "# visualize\n",
    "from matplotlib import pyplot as plt\n",
    "from tqdm.auto import tqdm"
   ]
  },
  {
   "cell_type": "code",
   "execution_count": 3,
   "metadata": {},
   "outputs": [
    {
     "name": "stdout",
     "output_type": "stream",
     "text": [
      "pytorch: 1.13.1+cu117 / allowed: 1.13.1\n",
      "pytorch-lightning: 1.8.1 / allowed: 1.8.1\n",
      "transformers: 4.22.2 / allowed: 4.22.2\n",
      "datasets: 2.9.0 / allowed: 2.9.0\n",
      "sentencepiece: 0.1.97 / allowed: 0.1.97\n",
      "scikit-learn: 1.2.0 / allowed: 1.2.0\n",
      "numpy: 1.23.5 / allowed: 1.23.5\n",
      "pandas: 1.5.3 / allowed: 1.5.3\n",
      "nltk: 3.8.1 / allowed: 3.8.1\n",
      "stanza: 1.4.2 / allowed: 1.4.2\n"
     ]
    }
   ],
   "source": [
    "# check versions\n",
    "print(f\"pytorch: {torch.__version__} / allowed: 1.13.1\")\n",
    "print(f\"pytorch-lightning: {pl.__version__} / allowed: 1.8.1\")\n",
    "print(f\"transformers: {transformers.__version__} / allowed: 4.22.2\")\n",
    "print(f\"datasets: {datasets.__version__} / allowed: 2.9.0\")\n",
    "print(f\"sentencepiece: {sentencepiece.__version__} / allowed: 0.1.97\")\n",
    "print(f\"scikit-learn: {sklearn.__version__} / allowed: 1.2.0\")\n",
    "print(f\"numpy: {np.__version__} / allowed: 1.23.5\")\n",
    "print(f\"pandas: {pd.__version__} / allowed: 1.5.3\")\n",
    "print(f\"nltk: {nltk.__version__} / allowed: 3.8.1\")\n",
    "print(f\"stanza: {stanza.__version__} / allowed: 1.4.2\")"
   ]
  },
  {
   "cell_type": "code",
   "execution_count": 4,
   "metadata": {},
   "outputs": [],
   "source": [
    "# set matplotlib and seaborn settings for nicer plots\n",
    "\n",
    "%matplotlib inline\n",
    "\n",
    "SMALL_SIZE = 6\n",
    "MEDIUM_SIZE = 8\n",
    "BIGGER_SIZE = 10\n",
    "\n",
    "plt.rc('font', size=SMALL_SIZE)          # controls default text sizes\n",
    "plt.rc('axes', titlesize=BIGGER_SIZE)     # fontsize of the axes title\n",
    "plt.rc('axes', labelsize=MEDIUM_SIZE)    # fontsize of the x and y labels\n",
    "plt.rc('xtick', labelsize=SMALL_SIZE)    # fontsize of the tick labels\n",
    "plt.rc('ytick', labelsize=SMALL_SIZE)    # fontsize of the tick labels\n",
    "plt.rc('legend', fontsize=MEDIUM_SIZE)    # legend fontsize\n",
    "plt.rc('figure', titlesize=BIGGER_SIZE)  # fontsize of the figure title"
   ]
  },
  {
   "cell_type": "code",
   "execution_count": 5,
   "metadata": {},
   "outputs": [],
   "source": [
    "# where to save trial results to\n",
    "ray_path = os.path.abspath(\"\")+\"\\\\ray_results\\\\\"\n",
    "if not os.path.isdir(ray_path):\n",
    "    os.mkdir(ray_path)\n",
    "\n",
    "# ignore warnings that show in every raytune run\n",
    "import warnings\n",
    "warnings.simplefilter(action = \"ignore\", category = np.VisibleDeprecationWarning)"
   ]
  },
  {
   "cell_type": "markdown",
   "metadata": {},
   "source": [
    "### 2. Modeling -- Hyperparameter Tuning"
   ]
  },
  {
   "cell_type": "markdown",
   "metadata": {},
   "source": [
    "implemented models (select as select as plm_name):\n",
    "- \"bert-base-cased\" (best batch size for RTX 3070 8GB --> 32)\n",
    "- \"roberta-base\"(best batch size for RTX 3070 8GB --> 32)\n",
    "- \"roberta-large\" (largest possible batch size for RTX 3070 8GB --> 8)"
   ]
  },
  {
   "cell_type": "code",
   "execution_count": 13,
   "metadata": {},
   "outputs": [],
   "source": [
    "# tunable hyperparameter search space --> search using tune.choice([]), tune.uniform(lower, upper), tune.grid_search([])\n",
    "config = {\n",
    "    # basic infos\n",
    "    \"data_path\": os.path.abspath(\"\"),\n",
    "    \"max_epochs\": 30,\n",
    "    \"batch_size\": 32,\n",
    "    \n",
    "    # data preprocessing\n",
    "    \"input_enrichment\": \"question_sentence_target\",\n",
    "    \n",
    "    # pre-trained language model (transformer)\n",
    "    \"plm_name\": \"roberta-base\",\n",
    "    \"plm_freeze\": False,\n",
    "    \n",
    "    # classifier (linear layers)\n",
    "    \"cls_depth\":          tune.grid_search([2, 3]),\n",
    "    \"cls_width\":          384,\n",
    "    \"cls_activation\":     \"ReLU\", # tune.grid_search([\"ReLU\", \"Sigmoid\", \"Tanh\"])\n",
    "    \"cls_dropout_st\":     tune.grid_search([0, 0.05, 0.1]),\n",
    "    \"cls_dropout_hidden\": tune.grid_search([0, 0.05, 0.1]),\n",
    "    \n",
    "    # optimizer\n",
    "    \"lr\": tune.grid_search([2e-5, 1e-5]),\n",
    "    \"wd\": 1e-2,\n",
    "    \n",
    "    # scheduler\n",
    "    \"lr_s\": \"cosine\", # tune.grid_search([\"constant\", \"linear\", \"cosine\"])\n",
    "    \"warmup\": 0, # number of epochs to warm up learning rate\n",
    "    \n",
    "    # loss function\n",
    "    \"criterion\": \"BCE\",\n",
    "}"
   ]
  },
  {
   "cell_type": "code",
   "execution_count": 7,
   "metadata": {
    "scrolled": true
   },
   "outputs": [
    {
     "data": {
      "text/html": [
       "<div class=\"tuneStatus\">\n",
       "  <div style=\"display: flex;flex-direction: row\">\n",
       "    <div style=\"display: flex;flex-direction: column;\">\n",
       "      <h3>Tune Status</h3>\n",
       "      <table>\n",
       "<tbody>\n",
       "<tr><td>Current time:</td><td>2023-04-16 13:39:02</td></tr>\n",
       "<tr><td>Running for: </td><td>03:04:33.57        </td></tr>\n",
       "<tr><td>Memory:      </td><td>12.9/31.9 GiB      </td></tr>\n",
       "</tbody>\n",
       "</table>\n",
       "    </div>\n",
       "    <div class=\"vDivider\"></div>\n",
       "    <div class=\"systemInfo\">\n",
       "      <h3>System Info</h3>\n",
       "      Using FIFO scheduling algorithm.<br>Resources requested: 0/16 CPUs, 0/1 GPUs, 0.0/10.42 GiB heap, 0.0/5.21 GiB objects\n",
       "    </div>\n",
       "    \n",
       "  </div>\n",
       "  <div class=\"hDivider\"></div>\n",
       "  <div class=\"trialStatus\">\n",
       "    <h3>Trial Status</h3>\n",
       "    <table>\n",
       "<thead>\n",
       "<tr><th>Trial name  </th><th>status    </th><th>loc            </th><th style=\"text-align: right;\">  batch_size</th><th style=\"text-align: right;\">  cls_depth</th><th style=\"text-align: right;\">  cls_width</th><th style=\"text-align: right;\">   lr</th><th>lr_s  </th><th style=\"text-align: right;\">  trn_acc</th><th style=\"text-align: right;\">  dev_acc</th><th style=\"text-align: right;\">   training_iterat\n",
       "ion</th></tr>\n",
       "</thead>\n",
       "<tbody>\n",
       "<tr><td>80af7_00000 </td><td>TERMINATED</td><td>127.0.0.1:17792</td><td style=\"text-align: right;\">          32</td><td style=\"text-align: right;\">          1</td><td style=\"text-align: right;\">         48</td><td style=\"text-align: right;\">5e-05</td><td>cosine</td><td style=\"text-align: right;\">0.994677 </td><td style=\"text-align: right;\"> 0.875   </td><td style=\"text-align: right;\">30</td></tr>\n",
       "<tr><td>80af7_00001 </td><td>TERMINATED</td><td>127.0.0.1:17792</td><td style=\"text-align: right;\">          32</td><td style=\"text-align: right;\">          2</td><td style=\"text-align: right;\">         48</td><td style=\"text-align: right;\">5e-05</td><td>cosine</td><td style=\"text-align: right;\">0.985363 </td><td style=\"text-align: right;\"> 0.859043</td><td style=\"text-align: right;\">30</td></tr>\n",
       "<tr><td>80af7_00002 </td><td>TERMINATED</td><td>127.0.0.1:17792</td><td style=\"text-align: right;\">          32</td><td style=\"text-align: right;\">          3</td><td style=\"text-align: right;\">         48</td><td style=\"text-align: right;\">5e-05</td><td>cosine</td><td style=\"text-align: right;\">0.904857 </td><td style=\"text-align: right;\"> 0.819149</td><td style=\"text-align: right;\">30</td></tr>\n",
       "<tr><td>80af7_00003 </td><td>TERMINATED</td><td>127.0.0.1:17792</td><td style=\"text-align: right;\">          32</td><td style=\"text-align: right;\">          1</td><td style=\"text-align: right;\">        192</td><td style=\"text-align: right;\">5e-05</td><td>cosine</td><td style=\"text-align: right;\">0.994677 </td><td style=\"text-align: right;\"> 0.875   </td><td style=\"text-align: right;\">30</td></tr>\n",
       "<tr><td>80af7_00004 </td><td>TERMINATED</td><td>127.0.0.1:17792</td><td style=\"text-align: right;\">          32</td><td style=\"text-align: right;\">          2</td><td style=\"text-align: right;\">        192</td><td style=\"text-align: right;\">5e-05</td><td>cosine</td><td style=\"text-align: right;\">0.954757 </td><td style=\"text-align: right;\"> 0.827128</td><td style=\"text-align: right;\">30</td></tr>\n",
       "<tr><td>80af7_00005 </td><td>TERMINATED</td><td>127.0.0.1:17792</td><td style=\"text-align: right;\">          32</td><td style=\"text-align: right;\">          3</td><td style=\"text-align: right;\">        192</td><td style=\"text-align: right;\">5e-05</td><td>cosine</td><td style=\"text-align: right;\">0.969395 </td><td style=\"text-align: right;\"> 0.856383</td><td style=\"text-align: right;\">30</td></tr>\n",
       "<tr><td>80af7_00006 </td><td>TERMINATED</td><td>127.0.0.1:17792</td><td style=\"text-align: right;\">          32</td><td style=\"text-align: right;\">          1</td><td style=\"text-align: right;\">        384</td><td style=\"text-align: right;\">5e-05</td><td>cosine</td><td style=\"text-align: right;\">0.994677 </td><td style=\"text-align: right;\"> 0.875   </td><td style=\"text-align: right;\">30</td></tr>\n",
       "<tr><td>80af7_00007 </td><td>TERMINATED</td><td>127.0.0.1:17792</td><td style=\"text-align: right;\">          32</td><td style=\"text-align: right;\">          2</td><td style=\"text-align: right;\">        384</td><td style=\"text-align: right;\">5e-05</td><td>cosine</td><td style=\"text-align: right;\">0.968064 </td><td style=\"text-align: right;\"> 0.87234 </td><td style=\"text-align: right;\">30</td></tr>\n",
       "<tr><td>80af7_00008 </td><td>TERMINATED</td><td>127.0.0.1:17792</td><td style=\"text-align: right;\">          32</td><td style=\"text-align: right;\">          3</td><td style=\"text-align: right;\">        384</td><td style=\"text-align: right;\">5e-05</td><td>cosine</td><td style=\"text-align: right;\">0.979375 </td><td style=\"text-align: right;\"> 0.840426</td><td style=\"text-align: right;\">30</td></tr>\n",
       "<tr><td>80af7_00009 </td><td>TERMINATED</td><td>127.0.0.1:17792</td><td style=\"text-align: right;\">          32</td><td style=\"text-align: right;\">          1</td><td style=\"text-align: right;\">         48</td><td style=\"text-align: right;\">5e-05</td><td>cosine</td><td style=\"text-align: right;\">0.994012 </td><td style=\"text-align: right;\"> 0.853723</td><td style=\"text-align: right;\">30</td></tr>\n",
       "<tr><td>80af7_00010 </td><td>TERMINATED</td><td>127.0.0.1:17792</td><td style=\"text-align: right;\">          32</td><td style=\"text-align: right;\">          2</td><td style=\"text-align: right;\">         48</td><td style=\"text-align: right;\">5e-05</td><td>cosine</td><td style=\"text-align: right;\">0.877578 </td><td style=\"text-align: right;\"> 0.81383 </td><td style=\"text-align: right;\">30</td></tr>\n",
       "<tr><td>80af7_00011 </td><td>TERMINATED</td><td>127.0.0.1:17792</td><td style=\"text-align: right;\">          32</td><td style=\"text-align: right;\">          3</td><td style=\"text-align: right;\">         48</td><td style=\"text-align: right;\">5e-05</td><td>cosine</td><td style=\"text-align: right;\">0.924817 </td><td style=\"text-align: right;\"> 0.81383 </td><td style=\"text-align: right;\">30</td></tr>\n",
       "<tr><td>80af7_00012 </td><td>TERMINATED</td><td>127.0.0.1:17792</td><td style=\"text-align: right;\">          32</td><td style=\"text-align: right;\">          1</td><td style=\"text-align: right;\">        192</td><td style=\"text-align: right;\">5e-05</td><td>cosine</td><td style=\"text-align: right;\">0.994012 </td><td style=\"text-align: right;\"> 0.853723</td><td style=\"text-align: right;\">30</td></tr>\n",
       "<tr><td>80af7_00013 </td><td>TERMINATED</td><td>127.0.0.1:17792</td><td style=\"text-align: right;\">          32</td><td style=\"text-align: right;\">          2</td><td style=\"text-align: right;\">        192</td><td style=\"text-align: right;\">5e-05</td><td>cosine</td><td style=\"text-align: right;\">0.991351 </td><td style=\"text-align: right;\"> 0.864362</td><td style=\"text-align: right;\">30</td></tr>\n",
       "<tr><td>80af7_00014 </td><td>TERMINATED</td><td>127.0.0.1:17792</td><td style=\"text-align: right;\">          32</td><td style=\"text-align: right;\">          3</td><td style=\"text-align: right;\">        192</td><td style=\"text-align: right;\">5e-05</td><td>cosine</td><td style=\"text-align: right;\">0.88024  </td><td style=\"text-align: right;\"> 0.816489</td><td style=\"text-align: right;\">30</td></tr>\n",
       "<tr><td>80af7_00015 </td><td>TERMINATED</td><td>127.0.0.1:17792</td><td style=\"text-align: right;\">          32</td><td style=\"text-align: right;\">          1</td><td style=\"text-align: right;\">        384</td><td style=\"text-align: right;\">5e-05</td><td>cosine</td><td style=\"text-align: right;\">0.994012 </td><td style=\"text-align: right;\"> 0.853723</td><td style=\"text-align: right;\">30</td></tr>\n",
       "<tr><td>80af7_00016 </td><td>TERMINATED</td><td>127.0.0.1:17792</td><td style=\"text-align: right;\">          32</td><td style=\"text-align: right;\">          2</td><td style=\"text-align: right;\">        384</td><td style=\"text-align: right;\">5e-05</td><td>cosine</td><td style=\"text-align: right;\">0.0412508</td><td style=\"text-align: right;\"> 0.037234</td><td style=\"text-align: right;\">30</td></tr>\n",
       "<tr><td>80af7_00017 </td><td>TERMINATED</td><td>127.0.0.1:17792</td><td style=\"text-align: right;\">          32</td><td style=\"text-align: right;\">          3</td><td style=\"text-align: right;\">        384</td><td style=\"text-align: right;\">5e-05</td><td>cosine</td><td style=\"text-align: right;\">0.961411 </td><td style=\"text-align: right;\"> 0.829787</td><td style=\"text-align: right;\">30</td></tr>\n",
       "<tr><td>80af7_00018 </td><td>TERMINATED</td><td>127.0.0.1:17792</td><td style=\"text-align: right;\">          32</td><td style=\"text-align: right;\">          1</td><td style=\"text-align: right;\">         48</td><td style=\"text-align: right;\">2e-05</td><td>cosine</td><td style=\"text-align: right;\">0.995343 </td><td style=\"text-align: right;\"> 0.87234 </td><td style=\"text-align: right;\">30</td></tr>\n",
       "<tr><td>80af7_00019 </td><td>TERMINATED</td><td>127.0.0.1:17792</td><td style=\"text-align: right;\">          32</td><td style=\"text-align: right;\">          2</td><td style=\"text-align: right;\">         48</td><td style=\"text-align: right;\">2e-05</td><td>cosine</td><td style=\"text-align: right;\">0.992016 </td><td style=\"text-align: right;\"> 0.882979</td><td style=\"text-align: right;\">30</td></tr>\n",
       "<tr><td>80af7_00020 </td><td>TERMINATED</td><td>127.0.0.1:17792</td><td style=\"text-align: right;\">          32</td><td style=\"text-align: right;\">          3</td><td style=\"text-align: right;\">         48</td><td style=\"text-align: right;\">2e-05</td><td>cosine</td><td style=\"text-align: right;\">0.987359 </td><td style=\"text-align: right;\"> 0.885638</td><td style=\"text-align: right;\">30</td></tr>\n",
       "<tr><td>80af7_00021 </td><td>TERMINATED</td><td>127.0.0.1:17792</td><td style=\"text-align: right;\">          32</td><td style=\"text-align: right;\">          1</td><td style=\"text-align: right;\">        192</td><td style=\"text-align: right;\">2e-05</td><td>cosine</td><td style=\"text-align: right;\">0.995343 </td><td style=\"text-align: right;\"> 0.87234 </td><td style=\"text-align: right;\">30</td></tr>\n",
       "<tr><td>80af7_00022 </td><td>TERMINATED</td><td>127.0.0.1:17792</td><td style=\"text-align: right;\">          32</td><td style=\"text-align: right;\">          2</td><td style=\"text-align: right;\">        192</td><td style=\"text-align: right;\">2e-05</td><td>cosine</td><td style=\"text-align: right;\">0.990685 </td><td style=\"text-align: right;\"> 0.867021</td><td style=\"text-align: right;\">30</td></tr>\n",
       "<tr><td>80af7_00023 </td><td>TERMINATED</td><td>127.0.0.1:17792</td><td style=\"text-align: right;\">          32</td><td style=\"text-align: right;\">          3</td><td style=\"text-align: right;\">        192</td><td style=\"text-align: right;\">2e-05</td><td>cosine</td><td style=\"text-align: right;\">0.984697 </td><td style=\"text-align: right;\"> 0.87234 </td><td style=\"text-align: right;\">30</td></tr>\n",
       "<tr><td>80af7_00024 </td><td>TERMINATED</td><td>127.0.0.1:17792</td><td style=\"text-align: right;\">          32</td><td style=\"text-align: right;\">          1</td><td style=\"text-align: right;\">        384</td><td style=\"text-align: right;\">2e-05</td><td>cosine</td><td style=\"text-align: right;\">0.995343 </td><td style=\"text-align: right;\"> 0.87234 </td><td style=\"text-align: right;\">30</td></tr>\n",
       "<tr><td>80af7_00025 </td><td>TERMINATED</td><td>127.0.0.1:17792</td><td style=\"text-align: right;\">          32</td><td style=\"text-align: right;\">          2</td><td style=\"text-align: right;\">        384</td><td style=\"text-align: right;\">2e-05</td><td>cosine</td><td style=\"text-align: right;\">0.992016 </td><td style=\"text-align: right;\"> 0.869681</td><td style=\"text-align: right;\">30</td></tr>\n",
       "<tr><td>80af7_00026 </td><td>TERMINATED</td><td>127.0.0.1:17792</td><td style=\"text-align: right;\">          32</td><td style=\"text-align: right;\">          3</td><td style=\"text-align: right;\">        384</td><td style=\"text-align: right;\">2e-05</td><td>cosine</td><td style=\"text-align: right;\">0.994677 </td><td style=\"text-align: right;\"> 0.880319</td><td style=\"text-align: right;\">30</td></tr>\n",
       "<tr><td>80af7_00027 </td><td>TERMINATED</td><td>127.0.0.1:17792</td><td style=\"text-align: right;\">          32</td><td style=\"text-align: right;\">          1</td><td style=\"text-align: right;\">         48</td><td style=\"text-align: right;\">2e-05</td><td>cosine</td><td style=\"text-align: right;\">0.993347 </td><td style=\"text-align: right;\"> 0.864362</td><td style=\"text-align: right;\">30</td></tr>\n",
       "<tr><td>80af7_00028 </td><td>TERMINATED</td><td>127.0.0.1:17792</td><td style=\"text-align: right;\">          32</td><td style=\"text-align: right;\">          2</td><td style=\"text-align: right;\">         48</td><td style=\"text-align: right;\">2e-05</td><td>cosine</td><td style=\"text-align: right;\">0.985363 </td><td style=\"text-align: right;\"> 0.864362</td><td style=\"text-align: right;\">30</td></tr>\n",
       "<tr><td>80af7_00029 </td><td>TERMINATED</td><td>127.0.0.1:17792</td><td style=\"text-align: right;\">          32</td><td style=\"text-align: right;\">          3</td><td style=\"text-align: right;\">         48</td><td style=\"text-align: right;\">2e-05</td><td>cosine</td><td style=\"text-align: right;\">0.978709 </td><td style=\"text-align: right;\"> 0.869681</td><td style=\"text-align: right;\">30</td></tr>\n",
       "<tr><td>80af7_00030 </td><td>TERMINATED</td><td>127.0.0.1:17792</td><td style=\"text-align: right;\">          32</td><td style=\"text-align: right;\">          1</td><td style=\"text-align: right;\">        192</td><td style=\"text-align: right;\">2e-05</td><td>cosine</td><td style=\"text-align: right;\">0.993347 </td><td style=\"text-align: right;\"> 0.864362</td><td style=\"text-align: right;\">30</td></tr>\n",
       "<tr><td>80af7_00031 </td><td>TERMINATED</td><td>127.0.0.1:17792</td><td style=\"text-align: right;\">          32</td><td style=\"text-align: right;\">          2</td><td style=\"text-align: right;\">        192</td><td style=\"text-align: right;\">2e-05</td><td>cosine</td><td style=\"text-align: right;\">0.992681 </td><td style=\"text-align: right;\"> 0.87766 </td><td style=\"text-align: right;\">30</td></tr>\n",
       "<tr><td>80af7_00032 </td><td>TERMINATED</td><td>127.0.0.1:17792</td><td style=\"text-align: right;\">          32</td><td style=\"text-align: right;\">          3</td><td style=\"text-align: right;\">        192</td><td style=\"text-align: right;\">2e-05</td><td>cosine</td><td style=\"text-align: right;\">0.988689 </td><td style=\"text-align: right;\"> 0.880319</td><td style=\"text-align: right;\">30</td></tr>\n",
       "<tr><td>80af7_00033 </td><td>TERMINATED</td><td>127.0.0.1:17792</td><td style=\"text-align: right;\">          32</td><td style=\"text-align: right;\">          1</td><td style=\"text-align: right;\">        384</td><td style=\"text-align: right;\">2e-05</td><td>cosine</td><td style=\"text-align: right;\">0.993347 </td><td style=\"text-align: right;\"> 0.864362</td><td style=\"text-align: right;\">30</td></tr>\n",
       "<tr><td>80af7_00034 </td><td>TERMINATED</td><td>127.0.0.1:17792</td><td style=\"text-align: right;\">          32</td><td style=\"text-align: right;\">          2</td><td style=\"text-align: right;\">        384</td><td style=\"text-align: right;\">2e-05</td><td>cosine</td><td style=\"text-align: right;\">0.989355 </td><td style=\"text-align: right;\"> 0.893617</td><td style=\"text-align: right;\">30</td></tr>\n",
       "<tr><td>80af7_00035 </td><td>TERMINATED</td><td>127.0.0.1:17792</td><td style=\"text-align: right;\">          32</td><td style=\"text-align: right;\">          3</td><td style=\"text-align: right;\">        384</td><td style=\"text-align: right;\">2e-05</td><td>cosine</td><td style=\"text-align: right;\">0.976048 </td><td style=\"text-align: right;\"> 0.861702</td><td style=\"text-align: right;\">30</td></tr>\n",
       "</tbody>\n",
       "</table>\n",
       "  </div>\n",
       "</div>\n",
       "<style>\n",
       ".tuneStatus {\n",
       "  color: var(--jp-ui-font-color1);\n",
       "}\n",
       ".tuneStatus .systemInfo {\n",
       "  display: flex;\n",
       "  flex-direction: column;\n",
       "}\n",
       ".tuneStatus td {\n",
       "  white-space: nowrap;\n",
       "}\n",
       ".tuneStatus .trialStatus {\n",
       "  display: flex;\n",
       "  flex-direction: column;\n",
       "}\n",
       ".tuneStatus h3 {\n",
       "  font-weight: bold;\n",
       "}\n",
       ".tuneStatus .hDivider {\n",
       "  border-bottom-width: var(--jp-border-width);\n",
       "  border-bottom-color: var(--jp-border-color0);\n",
       "  border-bottom-style: solid;\n",
       "}\n",
       ".tuneStatus .vDivider {\n",
       "  border-left-width: var(--jp-border-width);\n",
       "  border-left-color: var(--jp-border-color0);\n",
       "  border-left-style: solid;\n",
       "  margin: 0.5em 1em 0.5em 1em;\n",
       "}\n",
       "</style>\n"
      ],
      "text/plain": [
       "<IPython.core.display.HTML object>"
      ]
     },
     "metadata": {},
     "output_type": "display_data"
    },
    {
     "name": "stderr",
     "output_type": "stream",
     "text": [
      "2023-04-16 10:34:27,565\tINFO worker.py:1544 -- Started a local Ray instance. View the dashboard at \u001b[1m\u001b[32m127.0.0.1:8265 \u001b[39m\u001b[22m\n",
      "2023-04-16 13:39:02,483\tINFO tune.py:798 -- Total run time: 11073.60 seconds (11073.56 seconds for the tuning loop).\n"
     ]
    }
   ],
   "source": [
    "# how many trials to run (if grid_search utilized, it will run this number per grid_search value)\n",
    "num_samples = 1\n",
    "\n",
    "# run experiment\n",
    "result_grid = hyperTune.run_ray_experiment(\n",
    "    hyperTune.ray_trainable, config, ray_path, num_samples,\n",
    "    metric_columns = [\"trn_acc\", \"dev_acc\", \"training_iteration\"],\n",
    "    parameter_columns = [\"batch_size\", \"cls_depth\", \"cls_width\", \"lr\", \"lr_s\"]\n",
    ")"
   ]
  },
  {
   "cell_type": "markdown",
   "metadata": {},
   "source": [
    "**evaluate a given experiment**"
   ]
  },
  {
   "cell_type": "code",
   "execution_count": 7,
   "metadata": {},
   "outputs": [
    {
     "name": "stderr",
     "output_type": "stream",
     "text": [
      "The trainable will be overwritten - this should be done with caution: it's possible to supply an incompatible trainable, and there are no guarantees that the resumed experiment will continue successfully. If you encounter errors during training, ensure that you are passing in the same trainable that was passed into the initial `Tuner` object.\n"
     ]
    },
    {
     "name": "stdout",
     "output_type": "stream",
     "text": [
      "Loading results from ray_results/roberta-base_second...\n",
      "Done!\n",
      "\n",
      "No errors! Number of terminated trials: 36\n"
     ]
    }
   ],
   "source": [
    "# load experiment\n",
    "restored_tuner, result_grid = hyperTune.open_validate_ray_experiment(\"ray_results/roberta-base_second\", \n",
    "                                                                     hyperTune.ray_trainable)"
   ]
  },
  {
   "cell_type": "code",
   "execution_count": 12,
   "metadata": {},
   "outputs": [
    {
     "data": {
      "text/html": [
       "<div>\n",
       "<style scoped>\n",
       "    .dataframe tbody tr th:only-of-type {\n",
       "        vertical-align: middle;\n",
       "    }\n",
       "\n",
       "    .dataframe tbody tr th {\n",
       "        vertical-align: top;\n",
       "    }\n",
       "\n",
       "    .dataframe thead th {\n",
       "        text-align: right;\n",
       "    }\n",
       "</style>\n",
       "<table border=\"1\" class=\"dataframe\">\n",
       "  <thead>\n",
       "    <tr style=\"text-align: right;\">\n",
       "      <th></th>\n",
       "      <th>trial_id</th>\n",
       "      <th>training_iteration</th>\n",
       "      <th>config/input_enrichment</th>\n",
       "      <th>config/cls_depth</th>\n",
       "      <th>config/cls_width</th>\n",
       "      <th>config/lr</th>\n",
       "      <th>trn_loss</th>\n",
       "      <th>dev_loss</th>\n",
       "      <th>trn_acc</th>\n",
       "      <th>dev_acc</th>\n",
       "    </tr>\n",
       "  </thead>\n",
       "  <tbody>\n",
       "    <tr>\n",
       "      <th>34</th>\n",
       "      <td>80af7_00034</td>\n",
       "      <td>25</td>\n",
       "      <td>question_sentence_target</td>\n",
       "      <td>2</td>\n",
       "      <td>384</td>\n",
       "      <td>0.00002</td>\n",
       "      <td>0.028646</td>\n",
       "      <td>1.127769</td>\n",
       "      <td>0.991351</td>\n",
       "      <td>0.893617</td>\n",
       "    </tr>\n",
       "    <tr>\n",
       "      <th>32</th>\n",
       "      <td>80af7_00032</td>\n",
       "      <td>14</td>\n",
       "      <td>question_sentence_target</td>\n",
       "      <td>3</td>\n",
       "      <td>192</td>\n",
       "      <td>0.00002</td>\n",
       "      <td>0.098831</td>\n",
       "      <td>0.968316</td>\n",
       "      <td>0.969395</td>\n",
       "      <td>0.890957</td>\n",
       "    </tr>\n",
       "    <tr>\n",
       "      <th>26</th>\n",
       "      <td>80af7_00026</td>\n",
       "      <td>11</td>\n",
       "      <td>question_sentence</td>\n",
       "      <td>3</td>\n",
       "      <td>384</td>\n",
       "      <td>0.00002</td>\n",
       "      <td>0.092272</td>\n",
       "      <td>0.790726</td>\n",
       "      <td>0.972056</td>\n",
       "      <td>0.890957</td>\n",
       "    </tr>\n",
       "    <tr>\n",
       "      <th>25</th>\n",
       "      <td>80af7_00025</td>\n",
       "      <td>15</td>\n",
       "      <td>question_sentence</td>\n",
       "      <td>2</td>\n",
       "      <td>384</td>\n",
       "      <td>0.00002</td>\n",
       "      <td>0.053281</td>\n",
       "      <td>1.027427</td>\n",
       "      <td>0.982701</td>\n",
       "      <td>0.890957</td>\n",
       "    </tr>\n",
       "    <tr>\n",
       "      <th>0</th>\n",
       "      <td>80af7_00000</td>\n",
       "      <td>13</td>\n",
       "      <td>question_sentence</td>\n",
       "      <td>1</td>\n",
       "      <td>48</td>\n",
       "      <td>0.00005</td>\n",
       "      <td>0.039174</td>\n",
       "      <td>1.276566</td>\n",
       "      <td>0.984032</td>\n",
       "      <td>0.888298</td>\n",
       "    </tr>\n",
       "    <tr>\n",
       "      <th>19</th>\n",
       "      <td>80af7_00019</td>\n",
       "      <td>13</td>\n",
       "      <td>question_sentence</td>\n",
       "      <td>2</td>\n",
       "      <td>48</td>\n",
       "      <td>0.00002</td>\n",
       "      <td>0.075782</td>\n",
       "      <td>0.870199</td>\n",
       "      <td>0.978709</td>\n",
       "      <td>0.888298</td>\n",
       "    </tr>\n",
       "    <tr>\n",
       "      <th>3</th>\n",
       "      <td>80af7_00003</td>\n",
       "      <td>13</td>\n",
       "      <td>question_sentence</td>\n",
       "      <td>1</td>\n",
       "      <td>192</td>\n",
       "      <td>0.00005</td>\n",
       "      <td>0.039174</td>\n",
       "      <td>1.276566</td>\n",
       "      <td>0.984032</td>\n",
       "      <td>0.888298</td>\n",
       "    </tr>\n",
       "    <tr>\n",
       "      <th>6</th>\n",
       "      <td>80af7_00006</td>\n",
       "      <td>13</td>\n",
       "      <td>question_sentence</td>\n",
       "      <td>1</td>\n",
       "      <td>384</td>\n",
       "      <td>0.00005</td>\n",
       "      <td>0.039174</td>\n",
       "      <td>1.276566</td>\n",
       "      <td>0.984032</td>\n",
       "      <td>0.888298</td>\n",
       "    </tr>\n",
       "    <tr>\n",
       "      <th>29</th>\n",
       "      <td>80af7_00029</td>\n",
       "      <td>8</td>\n",
       "      <td>question_sentence_target</td>\n",
       "      <td>3</td>\n",
       "      <td>48</td>\n",
       "      <td>0.00002</td>\n",
       "      <td>0.362539</td>\n",
       "      <td>0.511895</td>\n",
       "      <td>0.932136</td>\n",
       "      <td>0.888298</td>\n",
       "    </tr>\n",
       "    <tr>\n",
       "      <th>20</th>\n",
       "      <td>80af7_00020</td>\n",
       "      <td>26</td>\n",
       "      <td>question_sentence</td>\n",
       "      <td>3</td>\n",
       "      <td>48</td>\n",
       "      <td>0.00002</td>\n",
       "      <td>0.103932</td>\n",
       "      <td>0.755219</td>\n",
       "      <td>0.986028</td>\n",
       "      <td>0.888298</td>\n",
       "    </tr>\n",
       "    <tr>\n",
       "      <th>31</th>\n",
       "      <td>80af7_00031</td>\n",
       "      <td>18</td>\n",
       "      <td>question_sentence_target</td>\n",
       "      <td>2</td>\n",
       "      <td>192</td>\n",
       "      <td>0.00002</td>\n",
       "      <td>0.036812</td>\n",
       "      <td>1.099454</td>\n",
       "      <td>0.989355</td>\n",
       "      <td>0.882979</td>\n",
       "    </tr>\n",
       "    <tr>\n",
       "      <th>33</th>\n",
       "      <td>80af7_00033</td>\n",
       "      <td>17</td>\n",
       "      <td>question_sentence_target</td>\n",
       "      <td>1</td>\n",
       "      <td>384</td>\n",
       "      <td>0.00002</td>\n",
       "      <td>0.030508</td>\n",
       "      <td>1.507074</td>\n",
       "      <td>0.988689</td>\n",
       "      <td>0.875000</td>\n",
       "    </tr>\n",
       "  </tbody>\n",
       "</table>\n",
       "</div>"
      ],
      "text/plain": [
       "       trial_id  training_iteration   config/input_enrichment  \\\n",
       "34  80af7_00034                  25  question_sentence_target   \n",
       "32  80af7_00032                  14  question_sentence_target   \n",
       "26  80af7_00026                  11         question_sentence   \n",
       "25  80af7_00025                  15         question_sentence   \n",
       "0   80af7_00000                  13         question_sentence   \n",
       "19  80af7_00019                  13         question_sentence   \n",
       "3   80af7_00003                  13         question_sentence   \n",
       "6   80af7_00006                  13         question_sentence   \n",
       "29  80af7_00029                   8  question_sentence_target   \n",
       "20  80af7_00020                  26         question_sentence   \n",
       "31  80af7_00031                  18  question_sentence_target   \n",
       "33  80af7_00033                  17  question_sentence_target   \n",
       "\n",
       "    config/cls_depth  config/cls_width  config/lr  trn_loss  dev_loss  \\\n",
       "34                 2               384    0.00002  0.028646  1.127769   \n",
       "32                 3               192    0.00002  0.098831  0.968316   \n",
       "26                 3               384    0.00002  0.092272  0.790726   \n",
       "25                 2               384    0.00002  0.053281  1.027427   \n",
       "0                  1                48    0.00005  0.039174  1.276566   \n",
       "19                 2                48    0.00002  0.075782  0.870199   \n",
       "3                  1               192    0.00005  0.039174  1.276566   \n",
       "6                  1               384    0.00005  0.039174  1.276566   \n",
       "29                 3                48    0.00002  0.362539  0.511895   \n",
       "20                 3                48    0.00002  0.103932  0.755219   \n",
       "31                 2               192    0.00002  0.036812  1.099454   \n",
       "33                 1               384    0.00002  0.030508  1.507074   \n",
       "\n",
       "     trn_acc   dev_acc  \n",
       "34  0.991351  0.893617  \n",
       "32  0.969395  0.890957  \n",
       "26  0.972056  0.890957  \n",
       "25  0.982701  0.890957  \n",
       "0   0.984032  0.888298  \n",
       "19  0.978709  0.888298  \n",
       "3   0.984032  0.888298  \n",
       "6   0.984032  0.888298  \n",
       "29  0.932136  0.888298  \n",
       "20  0.986028  0.888298  \n",
       "31  0.989355  0.882979  \n",
       "33  0.988689  0.875000  "
      ]
     },
     "execution_count": 12,
     "metadata": {},
     "output_type": "execute_result"
    }
   ],
   "source": [
    "# get best score per trial (highest validation accuracy)\n",
    "N = 12\n",
    "best_result_df = result_grid.get_dataframe(\n",
    "    filter_metric=\"dev_acc\", filter_mode=\"max\"\n",
    ")\n",
    "best_result_df = best_result_df[[\"trial_id\", \"training_iteration\", \"config/input_enrichment\",\n",
    "                                 \"config/cls_depth\", \"config/cls_width\",\n",
    "                                 \"config/lr\",\n",
    "                                 \"trn_loss\", \"dev_loss\", \"trn_acc\", \"dev_acc\"]]\n",
    "best_result_df = best_result_df.sort_values(by=[\"dev_acc\"], ascending = False)\n",
    "\n",
    "if len(result_grid) > N:\n",
    "    best_result_df = best_result_df.head(N)\n",
    "\n",
    "best_result_df"
   ]
  },
  {
   "cell_type": "markdown",
   "metadata": {},
   "source": [
    "**take best parameters and check reproducibility**"
   ]
  },
  {
   "cell_type": "code",
   "execution_count": 11,
   "metadata": {},
   "outputs": [],
   "source": [
    "config = {\n",
    "    # basic infos\n",
    "    \"data_path\": os.path.abspath(\"\"),\n",
    "    \"max_epochs\": 10,\n",
    "    \"batch_size\": 32,\n",
    "    \n",
    "    # data preprocessing\n",
    "    \"input_enrichment\": \"aspect_target_sentence\",\n",
    "    \n",
    "    # pre-trained language model (transformer)\n",
    "    # \"bert-base-cased\", \"cardiffnlp/twitter-roberta-base-sentiment-latest\", \"roberta-base\"\n",
    "    \"plm_name\": \"roberta-base\",\n",
    "    \"plm_freeze\": False,\n",
    "\n",
    "    # classifier (linear layers)\n",
    "    \"cls_dropout_st\":     0,\n",
    "    \"cls_channels\":       [3],\n",
    "    \"cls_activation\":     \"ReLU\",\n",
    "    \"cls_dropout_hidden\": 0.2,\n",
    "    \n",
    "    # optimizer\n",
    "    \"lr\": 5e-5,\n",
    "    \"wd\": 1e-2,\n",
    "\n",
    "    # scheduler\n",
    "    \"lr_s\": \"linear\",\n",
    "    \"warmup\": 0,\n",
    "    \n",
    "    # loss function\n",
    "    \"criterion\": \"BCE\"\n",
    "}"
   ]
  },
  {
   "cell_type": "code",
   "execution_count": 12,
   "metadata": {},
   "outputs": [],
   "source": [
    "# ensure reproducibility\n",
    "hyperTune.set_reproducible()\n",
    "\n",
    "# initialise objects for training\n",
    "(max_epochs, trainloader, devloader,\n",
    " model, optimizer, lr_scheduler,\n",
    " criterion, device) = hyperTune.init_training(config)"
   ]
  },
  {
   "cell_type": "code",
   "execution_count": 13,
   "metadata": {},
   "outputs": [
    {
     "name": "stdout",
     "output_type": "stream",
     "text": [
      "Epoch [1/10] -> Trn Loss: 0.81, Dev Loss: 0.6013, Trn Acc: 0.59, Dev Acc: 0.7447\n",
      "Epoch [2/10] -> Trn Loss: 0.55, Dev Loss: 0.6092, Trn Acc: 0.82, Dev Acc: 0.8484\n",
      "Epoch [3/10] -> Trn Loss: 0.41, Dev Loss: 0.7306, Trn Acc: 0.86, Dev Acc: 0.8165\n",
      "Epoch [4/10] -> Trn Loss: 0.24, Dev Loss: 0.7002, Trn Acc: 0.91, Dev Acc: 0.8378\n",
      "Epoch [5/10] -> Trn Loss: 0.15, Dev Loss: 0.8916, Trn Acc: 0.93, Dev Acc: 0.8537\n",
      "Epoch [6/10] -> Trn Loss: 0.17, Dev Loss: 0.8072, Trn Acc: 0.93, Dev Acc: 0.8564\n",
      "Epoch [7/10] -> Trn Loss: 0.08, Dev Loss: 1.1019, Trn Acc: 0.97, Dev Acc: 0.8803\n",
      "Epoch [8/10] -> Trn Loss: 0.05, Dev Loss: 1.1485, Trn Acc: 0.98, Dev Acc: 0.8777\n",
      "Epoch [9/10] -> Trn Loss: 0.05, Dev Loss: 1.1747, Trn Acc: 0.98, Dev Acc: 0.8777\n",
      "Epoch [10/10] -> Trn Loss: 0.04, Dev Loss: 1.1989, Trn Acc: 0.98, Dev Acc: 0.883\n"
     ]
    }
   ],
   "source": [
    "# perform training (no return!)\n",
    "hyperTune.train_evaluate_model(max_epochs, trainloader, devloader, model,\n",
    "                               optimizer, lr_scheduler, criterion, device,\n",
    "                               verbose = True, ray = False, return_obj = False,\n",
    "                               save_best_model = True)"
   ]
  },
  {
   "cell_type": "markdown",
   "metadata": {},
   "source": [
    "**take best model and evaluate it**"
   ]
  },
  {
   "cell_type": "code",
   "execution_count": 14,
   "metadata": {},
   "outputs": [],
   "source": [
    "# get class labels\n",
    "class_dict = {0: \"negative\", 1: \"neutral\", 2: \"positive\"}"
   ]
  },
  {
   "cell_type": "code",
   "execution_count": 15,
   "metadata": {},
   "outputs": [],
   "source": [
    "# ensure reproducibility\n",
    "hyperTune.set_reproducible()\n",
    "\n",
    "# initialise objects for training\n",
    "(max_epochs, trainloader, devloader,\n",
    " model, optimizer, lr_scheduler,\n",
    " criterion, device) = hyperTune.init_training(config)"
   ]
  },
  {
   "cell_type": "code",
   "execution_count": 16,
   "metadata": {},
   "outputs": [
    {
     "data": {
      "text/plain": [
       "<All keys matched successfully>"
      ]
     },
     "execution_count": 16,
     "metadata": {},
     "output_type": "execute_result"
    }
   ],
   "source": [
    "# load best model\n",
    "path = os.path.abspath(\"\")+\"\\\\models\\\\RobertaModel_finetuned.pt\"\n",
    "model.load_state_dict(torch.load(path))"
   ]
  },
  {
   "cell_type": "code",
   "execution_count": 17,
   "metadata": {},
   "outputs": [
    {
     "name": "stdout",
     "output_type": "stream",
     "text": [
      "Train Acc: 0.986\n"
     ]
    }
   ],
   "source": [
    "# evaluate best model on train set\n",
    "(trn_acc,\n",
    " trn_lbls, trn_outputs,\n",
    " trn_preds) = hyperTune.evaluate(trainloader, model, device)\n",
    "\n",
    "# validate (compare with previous print statement to make sure that it's actually the best model)\n",
    "print(f\"Train Acc: {round(trn_acc, 4)}\")"
   ]
  },
  {
   "cell_type": "code",
   "execution_count": 18,
   "metadata": {},
   "outputs": [
    {
     "name": "stdout",
     "output_type": "stream",
     "text": [
      "Dev Acc: 0.883\n"
     ]
    }
   ],
   "source": [
    "# evaluate best model on dev set\n",
    "(dev_acc,\n",
    " dev_lbls, dev_outputs,\n",
    " dev_preds) = hyperTune.evaluate(devloader, model, device)\n",
    "\n",
    "# validate (compare with previous print statement to make sure that it's actually the best model)\n",
    "print(f\"Dev Acc: {round(dev_acc, 4)}\")"
   ]
  },
  {
   "cell_type": "code",
   "execution_count": 19,
   "metadata": {},
   "outputs": [
    {
     "name": "stdout",
     "output_type": "stream",
     "text": [
      "Train performance\n",
      "-------------------------------------------------------\n",
      "              precision    recall  f1-score   support\n",
      "\n",
      "         0.0       0.97      0.99      0.98       390\n",
      "         1.0       0.87      1.00      0.93        58\n",
      "         2.0       1.00      0.98      0.99      1055\n",
      "\n",
      "    accuracy                           0.99      1503\n",
      "   macro avg       0.95      0.99      0.97      1503\n",
      "weighted avg       0.99      0.99      0.99      1503\n",
      "\n"
     ]
    },
    {
     "data": {
      "image/png": "[encoded data removed]",
      "text/plain": [
       "<Figure size 400x300 with 2 Axes>"
      ]
     },
     "metadata": {},
     "output_type": "display_data"
    },
    {
     "name": "stdout",
     "output_type": "stream",
     "text": [
      "\n",
      "\n",
      "Dev performance\n",
      "-------------------------------------------------------\n",
      "              precision    recall  f1-score   support\n",
      "\n",
      "         0.0       0.82      0.82      0.82        98\n",
      "         1.0       0.43      0.43      0.43        14\n",
      "         2.0       0.93      0.93      0.93       264\n",
      "\n",
      "    accuracy                           0.88       376\n",
      "   macro avg       0.73      0.73      0.73       376\n",
      "weighted avg       0.88      0.88      0.88       376\n",
      "\n"
     ]
    },
    {
     "data": {
      "image/png": "[encoded data removed]",
      "text/plain": [
       "<Figure size 400x300 with 2 Axes>"
      ]
     },
     "metadata": {},
     "output_type": "display_data"
    }
   ],
   "source": [
    "# detailed performance analysis\n",
    "print('Train performance')\n",
    "print('-------------------------------------------------------')\n",
    "print(classification_report(trn_lbls, trn_preds, zero_division = 0))\n",
    "\n",
    "vizData.get_confusion_matrix(trn_lbls, trn_preds, class_dict)\n",
    "\n",
    "print('\\n\\nDev performance')\n",
    "print('-------------------------------------------------------')\n",
    "print(classification_report(dev_lbls, dev_preds,  zero_division = 0))\n",
    "\n",
    "vizData.get_confusion_matrix(dev_lbls, dev_preds, class_dict)"
   ]
  },
  {
   "cell_type": "markdown",
   "metadata": {},
   "source": [
    "**model architecture**"
   ]
  },
  {
   "cell_type": "code",
   "execution_count": 17,
   "metadata": {},
   "outputs": [],
   "source": [
    "import torchinfo"
   ]
  },
  {
   "cell_type": "code",
   "execution_count": 18,
   "metadata": {},
   "outputs": [
    {
     "name": "stdout",
     "output_type": "stream",
     "text": [
      "done\n"
     ]
    }
   ],
   "source": [
    "device = torch.device('cpu')\n",
    "model.to(device)\n",
    "print(\"done\")"
   ]
  },
  {
   "cell_type": "code",
   "execution_count": 19,
   "metadata": {
    "scrolled": false
   },
   "outputs": [
    {
     "data": {
      "text/plain": [
       "=========================================================================================================\n",
       "Layer (type:depth-idx)                                  Output Shape              Param #\n",
       "=========================================================================================================\n",
       "TransformerSentimentClassifier                          [16, 3]                   --\n",
       "├─BertModel: 1-1                                        [16, 768]                 --\n",
       "│    └─BertEmbeddings: 2-1                              [16, 50, 768]             --\n",
       "│    │    └─Embedding: 3-1                              [16, 50, 768]             22,268,928\n",
       "│    │    └─Embedding: 3-2                              [16, 50, 768]             1,536\n",
       "│    │    └─Embedding: 3-3                              [1, 50, 768]              393,216\n",
       "│    │    └─LayerNorm: 3-4                              [16, 50, 768]             1,536\n",
       "│    │    └─Dropout: 3-5                                [16, 50, 768]             --\n",
       "│    └─BertEncoder: 2-2                                 [16, 50, 768]             --\n",
       "│    │    └─ModuleList: 3-6                             --                        85,054,464\n",
       "│    └─BertPooler: 2-3                                  [16, 768]                 --\n",
       "│    │    └─Linear: 3-7                                 [16, 768]                 590,592\n",
       "│    │    └─Tanh: 3-8                                   [16, 768]                 --\n",
       "├─Sequential: 1-2                                       [16, 3]                   --\n",
       "│    └─Linear: 2-4                                      [16, 1536]                1,181,184\n",
       "│    └─ReLU: 2-5                                        [16, 1536]                --\n",
       "│    └─Dropout: 2-6                                     [16, 1536]                --\n",
       "│    └─Linear: 2-7                                      [16, 3]                   4,611\n",
       "=========================================================================================================\n",
       "Total params: 135,473,667\n",
       "Trainable params: 135,473,667\n",
       "Non-trainable params: 0\n",
       "Total mult-adds (G): 1.75\n",
       "=========================================================================================================\n",
       "Input size (MB): 0.01\n",
       "Forward/backward pass size (MB): 664.15\n",
       "Params size (MB): 437.98\n",
       "Estimated Total Size (MB): 1102.15\n",
       "========================================================================================================="
      ]
     },
     "execution_count": 19,
     "metadata": {},
     "output_type": "execute_result"
    }
   ],
   "source": [
    "torchinfo.summary(model, input_size = (2, 16, 50), dtypes=['torch.IntTensor'], device = device)"
   ]
  }
 ],
 "metadata": {
  "kernelspec": {
   "display_name": "venv-nlp",
   "language": "python",
   "name": "venv-nlp"
  },
  "language_info": {
   "codemirror_mode": {
    "name": "ipython",
    "version": 3
   },
   "file_extension": ".py",
   "mimetype": "text/x-python",
   "name": "python",
   "nbconvert_exporter": "python",
   "pygments_lexer": "ipython3",
   "version": "3.10.8"
  }
 },
 "nbformat": 4,
 "nbformat_minor": 2
}
