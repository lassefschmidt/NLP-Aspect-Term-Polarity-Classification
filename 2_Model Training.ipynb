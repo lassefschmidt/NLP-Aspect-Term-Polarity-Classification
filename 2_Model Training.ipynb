{
 "cells": [
  {
   "cell_type": "markdown",
   "metadata": {},
   "source": [
    "# Model Training\n",
    "\n",
    "Try out different architecture and use raytune to select best hyperparameters."
   ]
  },
  {
   "cell_type": "markdown",
   "metadata": {},
   "source": [
    "### 1. Import Packages and check versions"
   ]
  },
  {
   "cell_type": "code",
   "execution_count": 1,
   "metadata": {},
   "outputs": [],
   "source": [
    "# import own scripts\n",
    "import src.classifier as classifier\n",
    "import src.preprocess_data as prepData\n",
    "import src.hyperparameter_tuning as hyperTune\n",
    "import src.visualize_data as vizData\n",
    "#import src.tester as tester"
   ]
  },
  {
   "cell_type": "code",
   "execution_count": 22,
   "metadata": {},
   "outputs": [
    {
     "data": {
      "text/plain": [
       "<module 'src.visualize_data' from 'D:\\\\Dokumente\\\\2_Bildung\\\\2_MSc\\\\1_Classes\\\\Y2T2_NLP\\\\3_assignment\\\\NLP-Aspect-Term-Polarity-Classification\\\\src\\\\visualize_data.py'>"
      ]
     },
     "execution_count": 22,
     "metadata": {},
     "output_type": "execute_result"
    }
   ],
   "source": [
    "# update own scripts\n",
    "from importlib import reload\n",
    "reload(classifier)\n",
    "reload(prepData)\n",
    "reload(hyperTune)\n",
    "reload(vizData)"
   ]
  },
  {
   "cell_type": "code",
   "execution_count": 2,
   "metadata": {},
   "outputs": [],
   "source": [
    "# basic stuff\n",
    "import os\n",
    "import numpy as np\n",
    "\n",
    "# data handling\n",
    "import datasets\n",
    "from datasets import Dataset, DatasetDict\n",
    "import pandas as pd\n",
    "\n",
    "# pre-processing\n",
    "import nltk\n",
    "import sentencepiece\n",
    "import stanza\n",
    "\n",
    "# modeling\n",
    "import torch\n",
    "from torch import nn\n",
    "import torch.nn.functional as F\n",
    "from torch.utils.data import DataLoader\n",
    "import pytorch_lightning as pl\n",
    "import transformers\n",
    "from transformers import AutoConfig, AutoTokenizer, AutoModel, DataCollatorWithPadding, get_scheduler\n",
    "\n",
    "# evaluation\n",
    "import sklearn\n",
    "from sklearn.metrics import accuracy_score, confusion_matrix, ConfusionMatrixDisplay, classification_report\n",
    "\n",
    "# hyperparam optimization\n",
    "from ray import air, tune\n",
    "\n",
    "# visualize\n",
    "from matplotlib import pyplot as plt\n",
    "from tqdm.auto import tqdm"
   ]
  },
  {
   "cell_type": "code",
   "execution_count": 3,
   "metadata": {},
   "outputs": [
    {
     "name": "stdout",
     "output_type": "stream",
     "text": [
      "pytorch: 1.13.1+cu117 / allowed: 1.13.1\n",
      "pytorch-lightning: 1.8.1 / allowed: 1.8.1\n",
      "transformers: 4.22.2 / allowed: 4.22.2\n",
      "datasets: 2.9.0 / allowed: 2.9.0\n",
      "sentencepiece: 0.1.97 / allowed: 0.1.97\n",
      "scikit-learn: 1.2.0 / allowed: 1.2.0\n",
      "numpy: 1.23.5 / allowed: 1.23.5\n",
      "pandas: 1.5.3 / allowed: 1.5.3\n",
      "nltk: 3.8.1 / allowed: 3.8.1\n",
      "stanza: 1.4.2 / allowed: 1.4.2\n"
     ]
    }
   ],
   "source": [
    "# check versions\n",
    "print(f\"pytorch: {torch.__version__} / allowed: 1.13.1\")\n",
    "print(f\"pytorch-lightning: {pl.__version__} / allowed: 1.8.1\")\n",
    "print(f\"transformers: {transformers.__version__} / allowed: 4.22.2\")\n",
    "print(f\"datasets: {datasets.__version__} / allowed: 2.9.0\")\n",
    "print(f\"sentencepiece: {sentencepiece.__version__} / allowed: 0.1.97\")\n",
    "print(f\"scikit-learn: {sklearn.__version__} / allowed: 1.2.0\")\n",
    "print(f\"numpy: {np.__version__} / allowed: 1.23.5\")\n",
    "print(f\"pandas: {pd.__version__} / allowed: 1.5.3\")\n",
    "print(f\"nltk: {nltk.__version__} / allowed: 3.8.1\")\n",
    "print(f\"stanza: {stanza.__version__} / allowed: 1.4.2\")"
   ]
  },
  {
   "cell_type": "code",
   "execution_count": 4,
   "metadata": {},
   "outputs": [],
   "source": [
    "# set matplotlib and seaborn settings for nicer plots\n",
    "\n",
    "%matplotlib inline\n",
    "\n",
    "SMALL_SIZE = 6\n",
    "MEDIUM_SIZE = 8\n",
    "BIGGER_SIZE = 10\n",
    "\n",
    "plt.rc('font', size=SMALL_SIZE)          # controls default text sizes\n",
    "plt.rc('axes', titlesize=BIGGER_SIZE)     # fontsize of the axes title\n",
    "plt.rc('axes', labelsize=MEDIUM_SIZE)    # fontsize of the x and y labels\n",
    "plt.rc('xtick', labelsize=SMALL_SIZE)    # fontsize of the tick labels\n",
    "plt.rc('ytick', labelsize=SMALL_SIZE)    # fontsize of the tick labels\n",
    "plt.rc('legend', fontsize=MEDIUM_SIZE)    # legend fontsize\n",
    "plt.rc('figure', titlesize=BIGGER_SIZE)  # fontsize of the figure title"
   ]
  },
  {
   "cell_type": "code",
   "execution_count": 5,
   "metadata": {},
   "outputs": [],
   "source": [
    "# where to save trial results to\n",
    "ray_path = os.path.abspath(\"\")+\"\\\\ray_results\\\\\"\n",
    "if not os.path.isdir(ray_path):\n",
    "    os.mkdir(ray_path)\n",
    "\n",
    "# ignore warnings that show in every raytune run\n",
    "import warnings\n",
    "warnings.simplefilter(action = \"ignore\", category = np.VisibleDeprecationWarning)"
   ]
  },
  {
   "cell_type": "markdown",
   "metadata": {},
   "source": [
    "### 2. BERT Model -- Hyperparameter Selection"
   ]
  },
  {
   "cell_type": "markdown",
   "metadata": {},
   "source": [
    "**2.1 Broad Search -- Pre-processing and Architecture**"
   ]
  },
  {
   "cell_type": "code",
   "execution_count": 6,
   "metadata": {},
   "outputs": [],
   "source": [
    "# tunable hyperparameter search space --> search using tune.choice([]), tune.uniform(lower, upper), tune.grid_search([])\n",
    "config = {\n",
    "    # basic infos\n",
    "    \"data_path\": os.path.abspath(\"\"),\n",
    "    \"max_epochs\": 10,\n",
    "    \"batch_size\": tune.grid_search([16, 32]),\n",
    "    \n",
    "    # data preprocessing\n",
    "    \"input_enrichment\": \"aspect_target_sentence\", # \"aspect_sentence\" doesn't work as well\n",
    "    \n",
    "    # pre-trained language model (transformer)\n",
    "    \"plm_name\": \"bert-base-cased\",\n",
    "    \"plm_freeze\": False, # freezing weights doesn't make sense (at least with BERT)\n",
    "\n",
    "    # classifier (linear layers)\n",
    "    \"cls_dropout_st\":     tune.grid_search([0, 0.2]),\n",
    "    \"cls_channels\":       tune.grid_search([[3], [768, 3], [768, 768, 3]]),\n",
    "    \"cls_activation\":     \"ReLU\", # tune.grid_search([\"ReLU\", \"Sigmoid\", \"Tanh\"])\n",
    "    \"cls_dropout_hidden\": tune.grid_search([0, 0.1, 0.2]),\n",
    "    \n",
    "    # optimizer\n",
    "    \"lr\": 5e-5, # tune.grid_search([1e-5, 1e-6]) // 1e-4 too high!\n",
    "    \"wd\": 1e-2, # tune.grid_search([1e-2, 1e-3, 1e-4])\n",
    "\n",
    "    # scheduler\n",
    "    \"lr_s\": \"linear\", # tune.grid_search([\"constant\", \"linear\", \"cosine\"])\n",
    "    \"warmup\": 0, # number of epochs to warm up learning rate\n",
    "    \n",
    "    # loss function\n",
    "    \"criterion\": \"BCE\"\n",
    "}"
   ]
  },
  {
   "cell_type": "code",
   "execution_count": 7,
   "metadata": {},
   "outputs": [
    {
     "data": {
      "text/html": [
       "<div class=\"tuneStatus\">\n",
       "  <div style=\"display: flex;flex-direction: row\">\n",
       "    <div style=\"display: flex;flex-direction: column;\">\n",
       "      <h3>Tune Status</h3>\n",
       "      <table>\n",
       "<tbody>\n",
       "<tr><td>Current time:</td><td>2023-03-18 17:17:08</td></tr>\n",
       "<tr><td>Running for: </td><td>01:04:38.02        </td></tr>\n",
       "<tr><td>Memory:      </td><td>12.8/31.9 GiB      </td></tr>\n",
       "</tbody>\n",
       "</table>\n",
       "    </div>\n",
       "    <div class=\"vDivider\"></div>\n",
       "    <div class=\"systemInfo\">\n",
       "      <h3>System Info</h3>\n",
       "      Using FIFO scheduling algorithm.<br>Resources requested: 0/16 CPUs, 0/1 GPUs, 0.0/13.36 GiB heap, 0.0/6.68 GiB objects\n",
       "    </div>\n",
       "    \n",
       "  </div>\n",
       "  <div class=\"hDivider\"></div>\n",
       "  <div class=\"trialStatus\">\n",
       "    <h3>Trial Status</h3>\n",
       "    <table>\n",
       "<thead>\n",
       "<tr><th>Trial name  </th><th>status    </th><th>loc            </th><th style=\"text-align: right;\">  batch_size</th><th style=\"text-align: right;\">  cls_dropout_st</th><th>cls_channels  </th><th style=\"text-align: right;\">    cls_dropout_hid\n",
       "den</th><th style=\"text-align: right;\">  trn_acc</th><th style=\"text-align: right;\">  dev_acc</th><th style=\"text-align: right;\">   training_iterat\n",
       "ion</th></tr>\n",
       "</thead>\n",
       "<tbody>\n",
       "<tr><td>4d045_00000 </td><td>TERMINATED</td><td>127.0.0.1:12100</td><td style=\"text-align: right;\">          16</td><td style=\"text-align: right;\">             0  </td><td>[3]           </td><td style=\"text-align: right;\">0  </td><td style=\"text-align: right;\"> 0.981371</td><td style=\"text-align: right;\"> 0.808511</td><td style=\"text-align: right;\">10</td></tr>\n",
       "<tr><td>4d045_00001 </td><td>TERMINATED</td><td>127.0.0.1:12100</td><td style=\"text-align: right;\">          32</td><td style=\"text-align: right;\">             0  </td><td>[3]           </td><td style=\"text-align: right;\">0  </td><td style=\"text-align: right;\"> 0.970725</td><td style=\"text-align: right;\"> 0.821809</td><td style=\"text-align: right;\">10</td></tr>\n",
       "<tr><td>4d045_00002 </td><td>TERMINATED</td><td>127.0.0.1:12100</td><td style=\"text-align: right;\">          16</td><td style=\"text-align: right;\">             0  </td><td>[768, 3]      </td><td style=\"text-align: right;\">0  </td><td style=\"text-align: right;\"> 0.967399</td><td style=\"text-align: right;\"> 0.81383 </td><td style=\"text-align: right;\">10</td></tr>\n",
       "<tr><td>4d045_00003 </td><td>TERMINATED</td><td>127.0.0.1:12100</td><td style=\"text-align: right;\">          32</td><td style=\"text-align: right;\">             0  </td><td>[768, 3]      </td><td style=\"text-align: right;\">0  </td><td style=\"text-align: right;\"> 0.970725</td><td style=\"text-align: right;\"> 0.81117 </td><td style=\"text-align: right;\">10</td></tr>\n",
       "<tr><td>4d045_00004 </td><td>TERMINATED</td><td>127.0.0.1:12100</td><td style=\"text-align: right;\">          16</td><td style=\"text-align: right;\">             0  </td><td>[768, 768, 3] </td><td style=\"text-align: right;\">0  </td><td style=\"text-align: right;\"> 0.95143 </td><td style=\"text-align: right;\"> 0.803191</td><td style=\"text-align: right;\">10</td></tr>\n",
       "<tr><td>4d045_00005 </td><td>TERMINATED</td><td>127.0.0.1:12100</td><td style=\"text-align: right;\">          32</td><td style=\"text-align: right;\">             0  </td><td>[768, 768, 3] </td><td style=\"text-align: right;\">0  </td><td style=\"text-align: right;\"> 0.956088</td><td style=\"text-align: right;\"> 0.800532</td><td style=\"text-align: right;\">10</td></tr>\n",
       "<tr><td>4d045_00006 </td><td>TERMINATED</td><td>127.0.0.1:12100</td><td style=\"text-align: right;\">          16</td><td style=\"text-align: right;\">             0  </td><td>[3]           </td><td style=\"text-align: right;\">0.1</td><td style=\"text-align: right;\"> 0.981371</td><td style=\"text-align: right;\"> 0.808511</td><td style=\"text-align: right;\">10</td></tr>\n",
       "<tr><td>4d045_00007 </td><td>TERMINATED</td><td>127.0.0.1:12100</td><td style=\"text-align: right;\">          32</td><td style=\"text-align: right;\">             0  </td><td>[3]           </td><td style=\"text-align: right;\">0.1</td><td style=\"text-align: right;\"> 0.970725</td><td style=\"text-align: right;\"> 0.821809</td><td style=\"text-align: right;\">10</td></tr>\n",
       "<tr><td>4d045_00008 </td><td>TERMINATED</td><td>127.0.0.1:12100</td><td style=\"text-align: right;\">          16</td><td style=\"text-align: right;\">             0  </td><td>[768, 3]      </td><td style=\"text-align: right;\">0.1</td><td style=\"text-align: right;\"> 0.962076</td><td style=\"text-align: right;\"> 0.81383 </td><td style=\"text-align: right;\">10</td></tr>\n",
       "<tr><td>4d045_00009 </td><td>TERMINATED</td><td>127.0.0.1:12100</td><td style=\"text-align: right;\">          32</td><td style=\"text-align: right;\">             0  </td><td>[768, 3]      </td><td style=\"text-align: right;\">0.1</td><td style=\"text-align: right;\"> 0.966068</td><td style=\"text-align: right;\"> 0.795213</td><td style=\"text-align: right;\">10</td></tr>\n",
       "<tr><td>4d045_00010 </td><td>TERMINATED</td><td>127.0.0.1:12100</td><td style=\"text-align: right;\">          16</td><td style=\"text-align: right;\">             0  </td><td>[768, 768, 3] </td><td style=\"text-align: right;\">0.1</td><td style=\"text-align: right;\"> 0.966733</td><td style=\"text-align: right;\"> 0.821809</td><td style=\"text-align: right;\">10</td></tr>\n",
       "<tr><td>4d045_00011 </td><td>TERMINATED</td><td>127.0.0.1:12100</td><td style=\"text-align: right;\">          32</td><td style=\"text-align: right;\">             0  </td><td>[768, 768, 3] </td><td style=\"text-align: right;\">0.1</td><td style=\"text-align: right;\"> 0.955422</td><td style=\"text-align: right;\"> 0.808511</td><td style=\"text-align: right;\">10</td></tr>\n",
       "<tr><td>4d045_00012 </td><td>TERMINATED</td><td>127.0.0.1:12100</td><td style=\"text-align: right;\">          16</td><td style=\"text-align: right;\">             0  </td><td>[3]           </td><td style=\"text-align: right;\">0.2</td><td style=\"text-align: right;\"> 0.981371</td><td style=\"text-align: right;\"> 0.808511</td><td style=\"text-align: right;\">10</td></tr>\n",
       "<tr><td>4d045_00013 </td><td>TERMINATED</td><td>127.0.0.1:12100</td><td style=\"text-align: right;\">          32</td><td style=\"text-align: right;\">             0  </td><td>[3]           </td><td style=\"text-align: right;\">0.2</td><td style=\"text-align: right;\"> 0.970725</td><td style=\"text-align: right;\"> 0.821809</td><td style=\"text-align: right;\">10</td></tr>\n",
       "<tr><td>4d045_00014 </td><td>TERMINATED</td><td>127.0.0.1:12100</td><td style=\"text-align: right;\">          16</td><td style=\"text-align: right;\">             0  </td><td>[768, 3]      </td><td style=\"text-align: right;\">0.2</td><td style=\"text-align: right;\"> 0.966068</td><td style=\"text-align: right;\"> 0.803191</td><td style=\"text-align: right;\">10</td></tr>\n",
       "<tr><td>4d045_00015 </td><td>TERMINATED</td><td>127.0.0.1:12100</td><td style=\"text-align: right;\">          32</td><td style=\"text-align: right;\">             0  </td><td>[768, 3]      </td><td style=\"text-align: right;\">0.2</td><td style=\"text-align: right;\"> 0.962076</td><td style=\"text-align: right;\"> 0.816489</td><td style=\"text-align: right;\">10</td></tr>\n",
       "<tr><td>4d045_00016 </td><td>TERMINATED</td><td>127.0.0.1:12100</td><td style=\"text-align: right;\">          16</td><td style=\"text-align: right;\">             0  </td><td>[768, 768, 3] </td><td style=\"text-align: right;\">0.2</td><td style=\"text-align: right;\"> 0.963407</td><td style=\"text-align: right;\"> 0.832447</td><td style=\"text-align: right;\">10</td></tr>\n",
       "<tr><td>4d045_00017 </td><td>TERMINATED</td><td>127.0.0.1:12100</td><td style=\"text-align: right;\">          32</td><td style=\"text-align: right;\">             0  </td><td>[768, 768, 3] </td><td style=\"text-align: right;\">0.2</td><td style=\"text-align: right;\"> 0.954757</td><td style=\"text-align: right;\"> 0.81117 </td><td style=\"text-align: right;\">10</td></tr>\n",
       "<tr><td>4d045_00018 </td><td>TERMINATED</td><td>127.0.0.1:12100</td><td style=\"text-align: right;\">          16</td><td style=\"text-align: right;\">             0.2</td><td>[3]           </td><td style=\"text-align: right;\">0  </td><td style=\"text-align: right;\"> 0.976713</td><td style=\"text-align: right;\"> 0.805851</td><td style=\"text-align: right;\">10</td></tr>\n",
       "<tr><td>4d045_00019 </td><td>TERMINATED</td><td>127.0.0.1:12100</td><td style=\"text-align: right;\">          32</td><td style=\"text-align: right;\">             0.2</td><td>[3]           </td><td style=\"text-align: right;\">0  </td><td style=\"text-align: right;\"> 0.972056</td><td style=\"text-align: right;\"> 0.819149</td><td style=\"text-align: right;\">10</td></tr>\n",
       "<tr><td>4d045_00020 </td><td>TERMINATED</td><td>127.0.0.1:12100</td><td style=\"text-align: right;\">          16</td><td style=\"text-align: right;\">             0.2</td><td>[768, 3]      </td><td style=\"text-align: right;\">0  </td><td style=\"text-align: right;\"> 0.967399</td><td style=\"text-align: right;\"> 0.800532</td><td style=\"text-align: right;\">10</td></tr>\n",
       "<tr><td>4d045_00021 </td><td>TERMINATED</td><td>127.0.0.1:12100</td><td style=\"text-align: right;\">          32</td><td style=\"text-align: right;\">             0.2</td><td>[768, 3]      </td><td style=\"text-align: right;\">0  </td><td style=\"text-align: right;\"> 0.960745</td><td style=\"text-align: right;\"> 0.819149</td><td style=\"text-align: right;\">10</td></tr>\n",
       "<tr><td>4d045_00022 </td><td>TERMINATED</td><td>127.0.0.1:12100</td><td style=\"text-align: right;\">          16</td><td style=\"text-align: right;\">             0.2</td><td>[768, 768, 3] </td><td style=\"text-align: right;\">0  </td><td style=\"text-align: right;\"> 0.962076</td><td style=\"text-align: right;\"> 0.819149</td><td style=\"text-align: right;\">10</td></tr>\n",
       "<tr><td>4d045_00023 </td><td>TERMINATED</td><td>127.0.0.1:12100</td><td style=\"text-align: right;\">          32</td><td style=\"text-align: right;\">             0.2</td><td>[768, 768, 3] </td><td style=\"text-align: right;\">0  </td><td style=\"text-align: right;\"> 0.959415</td><td style=\"text-align: right;\"> 0.805851</td><td style=\"text-align: right;\">10</td></tr>\n",
       "<tr><td>4d045_00024 </td><td>TERMINATED</td><td>127.0.0.1:12100</td><td style=\"text-align: right;\">          16</td><td style=\"text-align: right;\">             0.2</td><td>[3]           </td><td style=\"text-align: right;\">0.1</td><td style=\"text-align: right;\"> 0.976713</td><td style=\"text-align: right;\"> 0.805851</td><td style=\"text-align: right;\">10</td></tr>\n",
       "<tr><td>4d045_00025 </td><td>TERMINATED</td><td>127.0.0.1:12100</td><td style=\"text-align: right;\">          32</td><td style=\"text-align: right;\">             0.2</td><td>[3]           </td><td style=\"text-align: right;\">0.1</td><td style=\"text-align: right;\"> 0.972056</td><td style=\"text-align: right;\"> 0.819149</td><td style=\"text-align: right;\">10</td></tr>\n",
       "<tr><td>4d045_00026 </td><td>TERMINATED</td><td>127.0.0.1:12100</td><td style=\"text-align: right;\">          16</td><td style=\"text-align: right;\">             0.2</td><td>[768, 3]      </td><td style=\"text-align: right;\">0.1</td><td style=\"text-align: right;\"> 0.96008 </td><td style=\"text-align: right;\"> 0.808511</td><td style=\"text-align: right;\">10</td></tr>\n",
       "<tr><td>4d045_00027 </td><td>TERMINATED</td><td>127.0.0.1:12100</td><td style=\"text-align: right;\">          32</td><td style=\"text-align: right;\">             0.2</td><td>[768, 3]      </td><td style=\"text-align: right;\">0.1</td><td style=\"text-align: right;\"> 0.964072</td><td style=\"text-align: right;\"> 0.819149</td><td style=\"text-align: right;\">10</td></tr>\n",
       "<tr><td>4d045_00028 </td><td>TERMINATED</td><td>127.0.0.1:12100</td><td style=\"text-align: right;\">          16</td><td style=\"text-align: right;\">             0.2</td><td>[768, 768, 3] </td><td style=\"text-align: right;\">0.1</td><td style=\"text-align: right;\"> 0.956088</td><td style=\"text-align: right;\"> 0.808511</td><td style=\"text-align: right;\">10</td></tr>\n",
       "<tr><td>4d045_00029 </td><td>TERMINATED</td><td>127.0.0.1:12100</td><td style=\"text-align: right;\">          32</td><td style=\"text-align: right;\">             0.2</td><td>[768, 768, 3] </td><td style=\"text-align: right;\">0.1</td><td style=\"text-align: right;\"> 0.95143 </td><td style=\"text-align: right;\"> 0.805851</td><td style=\"text-align: right;\">10</td></tr>\n",
       "<tr><td>4d045_00030 </td><td>TERMINATED</td><td>127.0.0.1:12100</td><td style=\"text-align: right;\">          16</td><td style=\"text-align: right;\">             0.2</td><td>[3]           </td><td style=\"text-align: right;\">0.2</td><td style=\"text-align: right;\"> 0.976713</td><td style=\"text-align: right;\"> 0.805851</td><td style=\"text-align: right;\">10</td></tr>\n",
       "<tr><td>4d045_00031 </td><td>TERMINATED</td><td>127.0.0.1:12100</td><td style=\"text-align: right;\">          32</td><td style=\"text-align: right;\">             0.2</td><td>[3]           </td><td style=\"text-align: right;\">0.2</td><td style=\"text-align: right;\"> 0.972056</td><td style=\"text-align: right;\"> 0.819149</td><td style=\"text-align: right;\">10</td></tr>\n",
       "<tr><td>4d045_00032 </td><td>TERMINATED</td><td>127.0.0.1:12100</td><td style=\"text-align: right;\">          16</td><td style=\"text-align: right;\">             0.2</td><td>[768, 3]      </td><td style=\"text-align: right;\">0.2</td><td style=\"text-align: right;\"> 0.964072</td><td style=\"text-align: right;\"> 0.819149</td><td style=\"text-align: right;\">10</td></tr>\n",
       "<tr><td>4d045_00033 </td><td>TERMINATED</td><td>127.0.0.1:12100</td><td style=\"text-align: right;\">          32</td><td style=\"text-align: right;\">             0.2</td><td>[768, 3]      </td><td style=\"text-align: right;\">0.2</td><td style=\"text-align: right;\"> 0.976713</td><td style=\"text-align: right;\"> 0.829787</td><td style=\"text-align: right;\">10</td></tr>\n",
       "<tr><td>4d045_00034 </td><td>TERMINATED</td><td>127.0.0.1:12100</td><td style=\"text-align: right;\">          16</td><td style=\"text-align: right;\">             0.2</td><td>[768, 768, 3] </td><td style=\"text-align: right;\">0.2</td><td style=\"text-align: right;\"> 0.95143 </td><td style=\"text-align: right;\"> 0.819149</td><td style=\"text-align: right;\">10</td></tr>\n",
       "<tr><td>4d045_00035 </td><td>TERMINATED</td><td>127.0.0.1:12100</td><td style=\"text-align: right;\">          32</td><td style=\"text-align: right;\">             0.2</td><td>[768, 768, 3] </td><td style=\"text-align: right;\">0.2</td><td style=\"text-align: right;\"> 0.952761</td><td style=\"text-align: right;\"> 0.81117 </td><td style=\"text-align: right;\">10</td></tr>\n",
       "</tbody>\n",
       "</table>\n",
       "  </div>\n",
       "</div>\n",
       "<style>\n",
       ".tuneStatus {\n",
       "  color: var(--jp-ui-font-color1);\n",
       "}\n",
       ".tuneStatus .systemInfo {\n",
       "  display: flex;\n",
       "  flex-direction: column;\n",
       "}\n",
       ".tuneStatus td {\n",
       "  white-space: nowrap;\n",
       "}\n",
       ".tuneStatus .trialStatus {\n",
       "  display: flex;\n",
       "  flex-direction: column;\n",
       "}\n",
       ".tuneStatus h3 {\n",
       "  font-weight: bold;\n",
       "}\n",
       ".tuneStatus .hDivider {\n",
       "  border-bottom-width: var(--jp-border-width);\n",
       "  border-bottom-color: var(--jp-border-color0);\n",
       "  border-bottom-style: solid;\n",
       "}\n",
       ".tuneStatus .vDivider {\n",
       "  border-left-width: var(--jp-border-width);\n",
       "  border-left-color: var(--jp-border-color0);\n",
       "  border-left-style: solid;\n",
       "  margin: 0.5em 1em 0.5em 1em;\n",
       "}\n",
       "</style>\n"
      ],
      "text/plain": [
       "<IPython.core.display.HTML object>"
      ]
     },
     "metadata": {},
     "output_type": "display_data"
    },
    {
     "name": "stderr",
     "output_type": "stream",
     "text": [
      "2023-03-18 16:12:28,731\tINFO worker.py:1544 -- Started a local Ray instance. View the dashboard at \u001b[1m\u001b[32m127.0.0.1:8265 \u001b[39m\u001b[22m\n",
      "2023-03-18 17:17:08,143\tINFO tune.py:798 -- Total run time: 3878.05 seconds (3878.01 seconds for the tuning loop).\n"
     ]
    }
   ],
   "source": [
    "# how many trials to run (if grid_search utilized, it will run this number per grid_search value)\n",
    "num_samples = 1\n",
    "\n",
    "# run experiment\n",
    "result_grid = hyperTune.run_ray_experiment(\n",
    "    hyperTune.ray_trainable, config, ray_path, num_samples,\n",
    "    metric_columns = [\"trn_acc\", \"dev_acc\", \"training_iteration\"],\n",
    "    parameter_columns = [\"batch_size\", \"cls_dropout_st\", \"cls_channels\", \"cls_dropout_hidden\"]\n",
    ")"
   ]
  },
  {
   "cell_type": "code",
   "execution_count": 9,
   "metadata": {},
   "outputs": [
    {
     "data": {
      "text/html": [
       "<div>\n",
       "<style scoped>\n",
       "    .dataframe tbody tr th:only-of-type {\n",
       "        vertical-align: middle;\n",
       "    }\n",
       "\n",
       "    .dataframe tbody tr th {\n",
       "        vertical-align: top;\n",
       "    }\n",
       "\n",
       "    .dataframe thead th {\n",
       "        text-align: right;\n",
       "    }\n",
       "</style>\n",
       "<table border=\"1\" class=\"dataframe\">\n",
       "  <thead>\n",
       "    <tr style=\"text-align: right;\">\n",
       "      <th></th>\n",
       "      <th>trial_id</th>\n",
       "      <th>training_iteration</th>\n",
       "      <th>config/batch_size</th>\n",
       "      <th>config/cls_dropout_st</th>\n",
       "      <th>config/cls_channels</th>\n",
       "      <th>config/cls_dropout_hidden</th>\n",
       "      <th>trn_loss</th>\n",
       "      <th>dev_loss</th>\n",
       "      <th>trn_acc</th>\n",
       "      <th>dev_acc</th>\n",
       "    </tr>\n",
       "  </thead>\n",
       "  <tbody>\n",
       "    <tr>\n",
       "      <th>17</th>\n",
       "      <td>4d045_00017</td>\n",
       "      <td>2</td>\n",
       "      <td>32</td>\n",
       "      <td>0.0</td>\n",
       "      <td>[768, 768, 3]</td>\n",
       "      <td>0.2</td>\n",
       "      <td>0.655581</td>\n",
       "      <td>0.671517</td>\n",
       "      <td>0.813706</td>\n",
       "      <td>0.835106</td>\n",
       "    </tr>\n",
       "    <tr>\n",
       "      <th>16</th>\n",
       "      <td>4d045_00016</td>\n",
       "      <td>10</td>\n",
       "      <td>16</td>\n",
       "      <td>0.0</td>\n",
       "      <td>[768, 768, 3]</td>\n",
       "      <td>0.2</td>\n",
       "      <td>0.081072</td>\n",
       "      <td>1.593462</td>\n",
       "      <td>0.963407</td>\n",
       "      <td>0.832447</td>\n",
       "    </tr>\n",
       "    <tr>\n",
       "      <th>21</th>\n",
       "      <td>4d045_00021</td>\n",
       "      <td>9</td>\n",
       "      <td>32</td>\n",
       "      <td>0.2</td>\n",
       "      <td>[768, 3]</td>\n",
       "      <td>0.0</td>\n",
       "      <td>0.082787</td>\n",
       "      <td>1.299782</td>\n",
       "      <td>0.960080</td>\n",
       "      <td>0.829787</td>\n",
       "    </tr>\n",
       "    <tr>\n",
       "      <th>33</th>\n",
       "      <td>4d045_00033</td>\n",
       "      <td>9</td>\n",
       "      <td>32</td>\n",
       "      <td>0.2</td>\n",
       "      <td>[768, 3]</td>\n",
       "      <td>0.2</td>\n",
       "      <td>0.070010</td>\n",
       "      <td>1.417697</td>\n",
       "      <td>0.973387</td>\n",
       "      <td>0.829787</td>\n",
       "    </tr>\n",
       "    <tr>\n",
       "      <th>2</th>\n",
       "      <td>4d045_00002</td>\n",
       "      <td>9</td>\n",
       "      <td>16</td>\n",
       "      <td>0.0</td>\n",
       "      <td>[768, 3]</td>\n",
       "      <td>0.0</td>\n",
       "      <td>0.073120</td>\n",
       "      <td>1.434832</td>\n",
       "      <td>0.962741</td>\n",
       "      <td>0.827128</td>\n",
       "    </tr>\n",
       "    <tr>\n",
       "      <th>10</th>\n",
       "      <td>4d045_00010</td>\n",
       "      <td>9</td>\n",
       "      <td>16</td>\n",
       "      <td>0.0</td>\n",
       "      <td>[768, 768, 3]</td>\n",
       "      <td>0.1</td>\n",
       "      <td>0.084811</td>\n",
       "      <td>1.556309</td>\n",
       "      <td>0.960745</td>\n",
       "      <td>0.827128</td>\n",
       "    </tr>\n",
       "    <tr>\n",
       "      <th>22</th>\n",
       "      <td>4d045_00022</td>\n",
       "      <td>3</td>\n",
       "      <td>16</td>\n",
       "      <td>0.2</td>\n",
       "      <td>[768, 768, 3]</td>\n",
       "      <td>0.0</td>\n",
       "      <td>0.441532</td>\n",
       "      <td>0.823837</td>\n",
       "      <td>0.848969</td>\n",
       "      <td>0.824468</td>\n",
       "    </tr>\n",
       "    <tr>\n",
       "      <th>35</th>\n",
       "      <td>4d045_00035</td>\n",
       "      <td>1</td>\n",
       "      <td>32</td>\n",
       "      <td>0.2</td>\n",
       "      <td>[768, 768, 3]</td>\n",
       "      <td>0.2</td>\n",
       "      <td>0.887241</td>\n",
       "      <td>0.704430</td>\n",
       "      <td>0.537591</td>\n",
       "      <td>0.821809</td>\n",
       "    </tr>\n",
       "    <tr>\n",
       "      <th>13</th>\n",
       "      <td>4d045_00013</td>\n",
       "      <td>10</td>\n",
       "      <td>32</td>\n",
       "      <td>0.0</td>\n",
       "      <td>[3]</td>\n",
       "      <td>0.2</td>\n",
       "      <td>0.055645</td>\n",
       "      <td>1.816953</td>\n",
       "      <td>0.970725</td>\n",
       "      <td>0.821809</td>\n",
       "    </tr>\n",
       "    <tr>\n",
       "      <th>28</th>\n",
       "      <td>4d045_00028</td>\n",
       "      <td>3</td>\n",
       "      <td>16</td>\n",
       "      <td>0.2</td>\n",
       "      <td>[768, 768, 3]</td>\n",
       "      <td>0.1</td>\n",
       "      <td>0.444484</td>\n",
       "      <td>0.820694</td>\n",
       "      <td>0.848303</td>\n",
       "      <td>0.821809</td>\n",
       "    </tr>\n",
       "    <tr>\n",
       "      <th>7</th>\n",
       "      <td>4d045_00007</td>\n",
       "      <td>10</td>\n",
       "      <td>32</td>\n",
       "      <td>0.0</td>\n",
       "      <td>[3]</td>\n",
       "      <td>0.1</td>\n",
       "      <td>0.055645</td>\n",
       "      <td>1.816953</td>\n",
       "      <td>0.970725</td>\n",
       "      <td>0.821809</td>\n",
       "    </tr>\n",
       "    <tr>\n",
       "      <th>1</th>\n",
       "      <td>4d045_00001</td>\n",
       "      <td>10</td>\n",
       "      <td>32</td>\n",
       "      <td>0.0</td>\n",
       "      <td>[3]</td>\n",
       "      <td>0.0</td>\n",
       "      <td>0.055645</td>\n",
       "      <td>1.816953</td>\n",
       "      <td>0.970725</td>\n",
       "      <td>0.821809</td>\n",
       "    </tr>\n",
       "  </tbody>\n",
       "</table>\n",
       "</div>"
      ],
      "text/plain": [
       "       trial_id  training_iteration  config/batch_size  config/cls_dropout_st  \\\n",
       "17  4d045_00017                   2                 32                    0.0   \n",
       "16  4d045_00016                  10                 16                    0.0   \n",
       "21  4d045_00021                   9                 32                    0.2   \n",
       "33  4d045_00033                   9                 32                    0.2   \n",
       "2   4d045_00002                   9                 16                    0.0   \n",
       "10  4d045_00010                   9                 16                    0.0   \n",
       "22  4d045_00022                   3                 16                    0.2   \n",
       "35  4d045_00035                   1                 32                    0.2   \n",
       "13  4d045_00013                  10                 32                    0.0   \n",
       "28  4d045_00028                   3                 16                    0.2   \n",
       "7   4d045_00007                  10                 32                    0.0   \n",
       "1   4d045_00001                  10                 32                    0.0   \n",
       "\n",
       "   config/cls_channels  config/cls_dropout_hidden  trn_loss  dev_loss  \\\n",
       "17       [768, 768, 3]                        0.2  0.655581  0.671517   \n",
       "16       [768, 768, 3]                        0.2  0.081072  1.593462   \n",
       "21            [768, 3]                        0.0  0.082787  1.299782   \n",
       "33            [768, 3]                        0.2  0.070010  1.417697   \n",
       "2             [768, 3]                        0.0  0.073120  1.434832   \n",
       "10       [768, 768, 3]                        0.1  0.084811  1.556309   \n",
       "22       [768, 768, 3]                        0.0  0.441532  0.823837   \n",
       "35       [768, 768, 3]                        0.2  0.887241  0.704430   \n",
       "13                 [3]                        0.2  0.055645  1.816953   \n",
       "28       [768, 768, 3]                        0.1  0.444484  0.820694   \n",
       "7                  [3]                        0.1  0.055645  1.816953   \n",
       "1                  [3]                        0.0  0.055645  1.816953   \n",
       "\n",
       "     trn_acc   dev_acc  \n",
       "17  0.813706  0.835106  \n",
       "16  0.963407  0.832447  \n",
       "21  0.960080  0.829787  \n",
       "33  0.973387  0.829787  \n",
       "2   0.962741  0.827128  \n",
       "10  0.960745  0.827128  \n",
       "22  0.848969  0.824468  \n",
       "35  0.537591  0.821809  \n",
       "13  0.970725  0.821809  \n",
       "28  0.848303  0.821809  \n",
       "7   0.970725  0.821809  \n",
       "1   0.970725  0.821809  "
      ]
     },
     "execution_count": 9,
     "metadata": {},
     "output_type": "execute_result"
    }
   ],
   "source": [
    "# get best score per trial (highest validation accuracy)\n",
    "N = 12\n",
    "best_result_df = result_grid.get_dataframe(\n",
    "    filter_metric=\"dev_acc\", filter_mode=\"max\"\n",
    ")\n",
    "best_result_df = best_result_df[[\"trial_id\", \"training_iteration\",\n",
    "                                 \"config/batch_size\", \"config/cls_dropout_st\",\n",
    "                                 \"config/cls_channels\", \"config/cls_dropout_hidden\",\n",
    "                                 \"trn_loss\", \"dev_loss\", \"trn_acc\", \"dev_acc\"]]\n",
    "best_result_df = best_result_df.sort_values(by=[\"dev_acc\"], ascending = False)\n",
    "\n",
    "if len(result_grid) > N:\n",
    "    best_result_df = best_result_df.head(N)\n",
    "\n",
    "best_result_df"
   ]
  },
  {
   "cell_type": "markdown",
   "metadata": {},
   "source": [
    "**take best parameters and check reproducibility**"
   ]
  },
  {
   "cell_type": "code",
   "execution_count": 10,
   "metadata": {},
   "outputs": [],
   "source": [
    "config = {\n",
    "    # basic infos\n",
    "    \"data_path\": os.path.abspath(\"\"),\n",
    "    \"max_epochs\": 10,\n",
    "    \"batch_size\": 32,\n",
    "    \n",
    "    # data preprocessing\n",
    "    \"input_enrichment\": \"aspect_target_sentence\",\n",
    "    \n",
    "    # pre-trained language model (transformer)\n",
    "    \"plm_name\": \"bert-base-cased\",\n",
    "    \"plm_freeze\": False,\n",
    "\n",
    "    # classifier (linear layers)\n",
    "    \"cls_dropout_st\":     0.2,\n",
    "    \"cls_channels\":       [768, 3],\n",
    "    \"cls_activation\":     \"ReLU\",\n",
    "    \"cls_dropout_hidden\": 0.2,\n",
    "    \n",
    "    # optimizer\n",
    "    \"lr\": 5e-5,\n",
    "    \"wd\": 1e-2,\n",
    "\n",
    "    # scheduler\n",
    "    \"lr_s\": \"linear\",\n",
    "    \"warmup\": 0,\n",
    "    \n",
    "    # loss function\n",
    "    \"criterion\": \"BCE\"\n",
    "}"
   ]
  },
  {
   "cell_type": "code",
   "execution_count": 11,
   "metadata": {},
   "outputs": [],
   "source": [
    "# ensure reproducibility\n",
    "hyperTune.set_reproducible()\n",
    "\n",
    "# initialise objects for training\n",
    "(max_epochs, trainloader, devloader,\n",
    " model, optimizer, lr_scheduler,\n",
    " criterion, device) = hyperTune.init_training(config)"
   ]
  },
  {
   "cell_type": "code",
   "execution_count": 15,
   "metadata": {},
   "outputs": [
    {
     "name": "stdout",
     "output_type": "stream",
     "text": [
      "Epoch [1/10] -> Trn Loss: 0.4, Dev Loss: 0.7017, Trn Acc: 0.85, Dev Acc: 0.7686\n",
      "Epoch [2/10] -> Trn Loss: 0.21, Dev Loss: 1.0304, Trn Acc: 0.92, Dev Acc: 0.7952\n",
      "Epoch [3/10] -> Trn Loss: 0.17, Dev Loss: 1.3924, Trn Acc: 0.93, Dev Acc: 0.8059\n",
      "Epoch [4/10] -> Trn Loss: 0.13, Dev Loss: 1.5939, Trn Acc: 0.93, Dev Acc: 0.8112\n",
      "Epoch [5/10] -> Trn Loss: 0.14, Dev Loss: 1.2634, Trn Acc: 0.94, Dev Acc: 0.8085\n",
      "Epoch [6/10] -> Trn Loss: 0.1, Dev Loss: 1.5594, Trn Acc: 0.95, Dev Acc: 0.8112\n",
      "Epoch [7/10] -> Trn Loss: 0.1, Dev Loss: 1.4025, Trn Acc: 0.96, Dev Acc: 0.8085\n",
      "Epoch [8/10] -> Trn Loss: 0.08, Dev Loss: 1.666, Trn Acc: 0.96, Dev Acc: 0.8138\n",
      "Epoch [9/10] -> Trn Loss: 0.08, Dev Loss: 1.7181, Trn Acc: 0.96, Dev Acc: 0.8245\n",
      "Epoch [10/10] -> Trn Loss: 0.07, Dev Loss: 1.7167, Trn Acc: 0.97, Dev Acc: 0.8218\n"
     ]
    }
   ],
   "source": [
    "# perform training (no return!)\n",
    "hyperTune.train_evaluate_model(max_epochs, trainloader, devloader, model,\n",
    "                               optimizer, lr_scheduler, criterion, device,\n",
    "                               verbose = True, ray = False, return_obj = False,\n",
    "                               save_best_model = True)"
   ]
  },
  {
   "cell_type": "markdown",
   "metadata": {},
   "source": [
    "**take best model and evaluate it**"
   ]
  },
  {
   "cell_type": "code",
   "execution_count": 16,
   "metadata": {},
   "outputs": [],
   "source": [
    "# get class labels\n",
    "class_dict = {0: \"negative\", 1: \"neutral\", 2: \"positive\"}"
   ]
  },
  {
   "cell_type": "code",
   "execution_count": 17,
   "metadata": {},
   "outputs": [],
   "source": [
    "# ensure reproducibility\n",
    "hyperTune.set_reproducible()\n",
    "\n",
    "# initialise objects for training\n",
    "(max_epochs, trainloader, devloader,\n",
    " model, optimizer, lr_scheduler,\n",
    " criterion, device) = hyperTune.init_training(config)"
   ]
  },
  {
   "cell_type": "code",
   "execution_count": 18,
   "metadata": {},
   "outputs": [
    {
     "data": {
      "text/plain": [
       "<All keys matched successfully>"
      ]
     },
     "execution_count": 18,
     "metadata": {},
     "output_type": "execute_result"
    }
   ],
   "source": [
    "# load best model\n",
    "path = os.path.abspath(\"\")+\"\\\\models\\\\BertModel_finetuned.pt\"\n",
    "model.load_state_dict(torch.load(path))"
   ]
  },
  {
   "cell_type": "code",
   "execution_count": 19,
   "metadata": {},
   "outputs": [
    {
     "name": "stdout",
     "output_type": "stream",
     "text": [
      "Train Acc: 0.9701\n"
     ]
    }
   ],
   "source": [
    "# evaluate best model on train set\n",
    "(trn_acc,\n",
    " trn_lbls, trn_outputs,\n",
    " trn_preds) = hyperTune.evaluate(trainloader, model, device)\n",
    "\n",
    "# validate (compare with previous print statement to make sure that it's actually the best model)\n",
    "print(f\"Train Acc: {round(trn_acc, 4)}\")"
   ]
  },
  {
   "cell_type": "code",
   "execution_count": 20,
   "metadata": {},
   "outputs": [
    {
     "name": "stdout",
     "output_type": "stream",
     "text": [
      "Dev Acc: 0.8245\n"
     ]
    }
   ],
   "source": [
    "# evaluate best model on dev set\n",
    "(dev_acc,\n",
    " dev_lbls, dev_outputs,\n",
    " dev_preds) = hyperTune.evaluate(devloader, model, device)\n",
    "\n",
    "# validate (compare with previous print statement to make sure that it's actually the best model)\n",
    "print(f\"Dev Acc: {round(dev_acc, 4)}\")"
   ]
  },
  {
   "cell_type": "code",
   "execution_count": 21,
   "metadata": {},
   "outputs": [
    {
     "name": "stdout",
     "output_type": "stream",
     "text": [
      "Train performance\n",
      "-------------------------------------------------------\n",
      "              precision    recall  f1-score   support\n",
      "\n",
      "         0.0       0.94      0.98      0.96       390\n",
      "         1.0       0.74      1.00      0.85        58\n",
      "         2.0       1.00      0.96      0.98      1055\n",
      "\n",
      "    accuracy                           0.97      1503\n",
      "   macro avg       0.89      0.98      0.93      1503\n",
      "weighted avg       0.97      0.97      0.97      1503\n",
      "\n"
     ]
    },
    {
     "data": {
      "image/png": "[encoded data removed]",
      "text/plain": [
       "<Figure size 400x300 with 2 Axes>"
      ]
     },
     "metadata": {},
     "output_type": "display_data"
    },
    {
     "name": "stdout",
     "output_type": "stream",
     "text": [
      "\n",
      "\n",
      "Dev performance\n",
      "-------------------------------------------------------\n",
      "              precision    recall  f1-score   support\n",
      "\n",
      "         0.0       0.72      0.72      0.72        98\n",
      "         1.0       0.23      0.21      0.22        14\n",
      "         2.0       0.89      0.89      0.89       264\n",
      "\n",
      "    accuracy                           0.82       376\n",
      "   macro avg       0.61      0.61      0.61       376\n",
      "weighted avg       0.82      0.82      0.82       376\n",
      "\n"
     ]
    },
    {
     "data": {
      "image/png": "[encoded data removed]",
      "text/plain": [
       "<Figure size 400x300 with 2 Axes>"
      ]
     },
     "metadata": {},
     "output_type": "display_data"
    }
   ],
   "source": [
    "# detailed performance analysis\n",
    "print('Train performance')\n",
    "print('-------------------------------------------------------')\n",
    "print(classification_report(trn_lbls, trn_preds, zero_division = 0))\n",
    "\n",
    "vizData.get_confusion_matrix(trn_lbls, trn_preds, class_dict)\n",
    "\n",
    "print('\\n\\nDev performance')\n",
    "print('-------------------------------------------------------')\n",
    "print(classification_report(dev_lbls, dev_preds,  zero_division = 0))\n",
    "\n",
    "vizData.get_confusion_matrix(dev_lbls, dev_preds, class_dict)"
   ]
  },
  {
   "cell_type": "markdown",
   "metadata": {},
   "source": [
    "**model architecture**"
   ]
  },
  {
   "cell_type": "code",
   "execution_count": 17,
   "metadata": {},
   "outputs": [],
   "source": [
    "import torchinfo"
   ]
  },
  {
   "cell_type": "code",
   "execution_count": 18,
   "metadata": {},
   "outputs": [
    {
     "name": "stdout",
     "output_type": "stream",
     "text": [
      "done\n"
     ]
    }
   ],
   "source": [
    "device = torch.device('cpu')\n",
    "model.to(device)\n",
    "print(\"done\")"
   ]
  },
  {
   "cell_type": "code",
   "execution_count": 19,
   "metadata": {
    "scrolled": false
   },
   "outputs": [
    {
     "data": {
      "text/plain": [
       "=========================================================================================================\n",
       "Layer (type:depth-idx)                                  Output Shape              Param #\n",
       "=========================================================================================================\n",
       "TransformerSentimentClassifier                          [16, 3]                   --\n",
       "├─BertModel: 1-1                                        [16, 768]                 --\n",
       "│    └─BertEmbeddings: 2-1                              [16, 50, 768]             --\n",
       "│    │    └─Embedding: 3-1                              [16, 50, 768]             22,268,928\n",
       "│    │    └─Embedding: 3-2                              [16, 50, 768]             1,536\n",
       "│    │    └─Embedding: 3-3                              [1, 50, 768]              393,216\n",
       "│    │    └─LayerNorm: 3-4                              [16, 50, 768]             1,536\n",
       "│    │    └─Dropout: 3-5                                [16, 50, 768]             --\n",
       "│    └─BertEncoder: 2-2                                 [16, 50, 768]             --\n",
       "│    │    └─ModuleList: 3-6                             --                        85,054,464\n",
       "│    └─BertPooler: 2-3                                  [16, 768]                 --\n",
       "│    │    └─Linear: 3-7                                 [16, 768]                 590,592\n",
       "│    │    └─Tanh: 3-8                                   [16, 768]                 --\n",
       "├─Sequential: 1-2                                       [16, 3]                   --\n",
       "│    └─Linear: 2-4                                      [16, 1536]                1,181,184\n",
       "│    └─ReLU: 2-5                                        [16, 1536]                --\n",
       "│    └─Dropout: 2-6                                     [16, 1536]                --\n",
       "│    └─Linear: 2-7                                      [16, 3]                   4,611\n",
       "=========================================================================================================\n",
       "Total params: 135,473,667\n",
       "Trainable params: 135,473,667\n",
       "Non-trainable params: 0\n",
       "Total mult-adds (G): 1.75\n",
       "=========================================================================================================\n",
       "Input size (MB): 0.01\n",
       "Forward/backward pass size (MB): 664.15\n",
       "Params size (MB): 437.98\n",
       "Estimated Total Size (MB): 1102.15\n",
       "========================================================================================================="
      ]
     },
     "execution_count": 19,
     "metadata": {},
     "output_type": "execute_result"
    }
   ],
   "source": [
    "torchinfo.summary(model, input_size = (2, 16, 50), dtypes=['torch.IntTensor'], device = device)"
   ]
  }
 ],
 "metadata": {
  "kernelspec": {
   "display_name": "venv-nlp",
   "language": "python",
   "name": "venv-nlp"
  },
  "language_info": {
   "codemirror_mode": {
    "name": "ipython",
    "version": 3
   },
   "file_extension": ".py",
   "mimetype": "text/x-python",
   "name": "python",
   "nbconvert_exporter": "python",
   "pygments_lexer": "ipython3",
   "version": "3.10.8"
  }
 },
 "nbformat": 4,
 "nbformat_minor": 2
}
