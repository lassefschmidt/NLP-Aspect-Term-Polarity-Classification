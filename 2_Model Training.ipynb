{
 "cells": [
  {
   "cell_type": "markdown",
   "metadata": {},
   "source": [
    "# Model Training\n",
    "\n",
    "Try out different architecture and use raytune to select best hyperparameters."
   ]
  },
  {
   "cell_type": "markdown",
   "metadata": {},
   "source": [
    "### 1. Import Packages and check versions"
   ]
  },
  {
   "cell_type": "code",
   "execution_count": 1,
   "metadata": {},
   "outputs": [],
   "source": [
    "# import own scripts\n",
    "import src.classifier as classifier\n",
    "import src.preprocess_data as prepData\n",
    "import src.hyperparameter_tuning as hyperTune\n",
    "import src.visualize_data as vizData\n",
    "#import src.tester as tester"
   ]
  },
  {
   "cell_type": "code",
   "execution_count": 3,
   "metadata": {},
   "outputs": [
    {
     "data": {
      "text/plain": [
       "<module 'src.visualize_data' from 'D:\\\\Dokumente\\\\2_Bildung\\\\2_MSc\\\\1_Classes\\\\Y2T2_NLP\\\\3_assignment\\\\NLP-Aspect-Term-Polarity-Classification\\\\src\\\\visualize_data.py'>"
      ]
     },
     "execution_count": 3,
     "metadata": {},
     "output_type": "execute_result"
    }
   ],
   "source": [
    "# update own scripts\n",
    "from importlib import reload\n",
    "reload(classifier)\n",
    "reload(prepData)\n",
    "reload(hyperTune)\n",
    "reload(vizData)"
   ]
  },
  {
   "cell_type": "code",
   "execution_count": 2,
   "metadata": {},
   "outputs": [],
   "source": [
    "# basic stuff\n",
    "import os\n",
    "import numpy as np\n",
    "\n",
    "# data handling\n",
    "import datasets\n",
    "from datasets import Dataset, DatasetDict\n",
    "import pandas as pd\n",
    "\n",
    "# pre-processing\n",
    "import nltk\n",
    "import sentencepiece\n",
    "import stanza\n",
    "\n",
    "# modeling\n",
    "import torch\n",
    "from torch import nn\n",
    "import torch.nn.functional as F\n",
    "from torch.utils.data import DataLoader\n",
    "import pytorch_lightning as pl\n",
    "import transformers\n",
    "from transformers import AutoConfig, AutoTokenizer, AutoModel, AutoModelForSequenceClassification, DataCollatorWithPadding, get_scheduler\n",
    "\n",
    "# evaluation\n",
    "import sklearn\n",
    "from sklearn.metrics import accuracy_score, confusion_matrix, ConfusionMatrixDisplay, classification_report\n",
    "\n",
    "# hyperparam optimization\n",
    "from ray import air, tune\n",
    "\n",
    "# visualize\n",
    "from matplotlib import pyplot as plt\n",
    "from tqdm.auto import tqdm"
   ]
  },
  {
   "cell_type": "code",
   "execution_count": 3,
   "metadata": {},
   "outputs": [
    {
     "name": "stdout",
     "output_type": "stream",
     "text": [
      "pytorch: 1.13.1+cu117 / allowed: 1.13.1\n",
      "pytorch-lightning: 1.8.1 / allowed: 1.8.1\n",
      "transformers: 4.22.2 / allowed: 4.22.2\n",
      "datasets: 2.9.0 / allowed: 2.9.0\n",
      "sentencepiece: 0.1.97 / allowed: 0.1.97\n",
      "scikit-learn: 1.2.0 / allowed: 1.2.0\n",
      "numpy: 1.23.5 / allowed: 1.23.5\n",
      "pandas: 1.5.3 / allowed: 1.5.3\n",
      "nltk: 3.8.1 / allowed: 3.8.1\n",
      "stanza: 1.4.2 / allowed: 1.4.2\n"
     ]
    }
   ],
   "source": [
    "# check versions\n",
    "print(f\"pytorch: {torch.__version__} / allowed: 1.13.1\")\n",
    "print(f\"pytorch-lightning: {pl.__version__} / allowed: 1.8.1\")\n",
    "print(f\"transformers: {transformers.__version__} / allowed: 4.22.2\")\n",
    "print(f\"datasets: {datasets.__version__} / allowed: 2.9.0\")\n",
    "print(f\"sentencepiece: {sentencepiece.__version__} / allowed: 0.1.97\")\n",
    "print(f\"scikit-learn: {sklearn.__version__} / allowed: 1.2.0\")\n",
    "print(f\"numpy: {np.__version__} / allowed: 1.23.5\")\n",
    "print(f\"pandas: {pd.__version__} / allowed: 1.5.3\")\n",
    "print(f\"nltk: {nltk.__version__} / allowed: 3.8.1\")\n",
    "print(f\"stanza: {stanza.__version__} / allowed: 1.4.2\")"
   ]
  },
  {
   "cell_type": "code",
   "execution_count": 4,
   "metadata": {},
   "outputs": [],
   "source": [
    "# set matplotlib and seaborn settings for nicer plots\n",
    "\n",
    "%matplotlib inline\n",
    "\n",
    "SMALL_SIZE = 6\n",
    "MEDIUM_SIZE = 8\n",
    "BIGGER_SIZE = 10\n",
    "\n",
    "plt.rc('font', size=SMALL_SIZE)          # controls default text sizes\n",
    "plt.rc('axes', titlesize=BIGGER_SIZE)     # fontsize of the axes title\n",
    "plt.rc('axes', labelsize=MEDIUM_SIZE)    # fontsize of the x and y labels\n",
    "plt.rc('xtick', labelsize=SMALL_SIZE)    # fontsize of the tick labels\n",
    "plt.rc('ytick', labelsize=SMALL_SIZE)    # fontsize of the tick labels\n",
    "plt.rc('legend', fontsize=MEDIUM_SIZE)    # legend fontsize\n",
    "plt.rc('figure', titlesize=BIGGER_SIZE)  # fontsize of the figure title"
   ]
  },
  {
   "cell_type": "code",
   "execution_count": 5,
   "metadata": {},
   "outputs": [],
   "source": [
    "# where to save trial results to\n",
    "ray_path = os.path.abspath(\"\")+\"\\\\ray_results\\\\\"\n",
    "if not os.path.isdir(ray_path):\n",
    "    os.mkdir(ray_path)\n",
    "\n",
    "# ignore warnings that show in every raytune run\n",
    "import warnings\n",
    "warnings.simplefilter(action = \"ignore\", category = np.VisibleDeprecationWarning)"
   ]
  },
  {
   "cell_type": "markdown",
   "metadata": {},
   "source": [
    "### 2. Modeling -- Hyperparameter Tuning"
   ]
  },
  {
   "cell_type": "markdown",
   "metadata": {},
   "source": [
    "implemented models (select as select as plm_name):\n",
    "- \"bert-base-cased\" (best batch size for RTX 3070 8GB --> 32)\n",
    "- \"roberta-base\"(best batch size for RTX 3070 8GB --> 32)\n",
    "- \"roberta-large\" (largest possible batch size for RTX 3070 8GB --> 8)\n",
    "\n",
    "findings from previous experiments on roberta-base:\n",
    "- larger batch sizes work better (probably because we don't train for unlimited number of epochs)\n",
    "- question_sentence_target works slightly better compared to question_sentence only\n",
    "- classifier depth between 2 and 3 (but 2 vs 3 doesn't matter too much, so we take 2 for faster training)\n",
    "- classfier width optimal between 192 and 384 (but 192 vs 384 doesn't matter too much, so we take 192 for faster training)\n",
    "- train at least for 20 epochs\n",
    "- best use \"invSqrtClassFreq\" as loss weights (dict key \"crit_w\")\n",
    "- dropout either (0.2, 0) or (0.1, 0.1) based on (dropout_st, dropout_hidden)\n",
    "\n",
    "possible ideas:\n",
    "- try other models\n",
    "- try new loss functions (focal loss might be very interesting for this problem, deals implicitly with class imbalance, no need to find best loss weights)\n",
    "- try other preprocessing methods\n",
    "- train classifier with higher learning rate compared to rest of model (i.e. train classifier with 1e-4 and rest with 1e-5)"
   ]
  },
  {
   "cell_type": "code",
   "execution_count": 6,
   "metadata": {},
   "outputs": [],
   "source": [
    "# tunable hyperparameter search space --> search using tune.choice([]), tune.uniform(lower, upper), tune.grid_search([])\n",
    "config = {\n",
    "    # basic infos\n",
    "    \"data_path\": os.path.abspath(\"\"),\n",
    "    \"max_epochs\": 20,\n",
    "    \"batch_size\": 32,\n",
    "    \n",
    "    # data preprocessing\n",
    "    \"input_enrichment\": \"question_sentence_target\",\n",
    "    \n",
    "    # pre-trained language model (transformer)\n",
    "    \"plm_name\": \"roberta-base\",\n",
    "    \"plm_freeze\": False,\n",
    "    \n",
    "    # classifier (linear layers)\n",
    "    \"cls_depth\":          2,\n",
    "    \"cls_width\":          192,\n",
    "    \"cls_activation\":     \"ReLU\",\n",
    "    \"cls_dropout_st\":     0.2,\n",
    "    \"cls_dropout_hidden\": 0,\n",
    "    \n",
    "    # optimizer\n",
    "    \"lr\": 1e-5,\n",
    "    \"wd\": tune.grid_search([15e-3, 12e-3, 10e-3, 8e-3]),\n",
    "    \n",
    "    # scheduler\n",
    "    \"lr_s\": tune.grid_search([\"linear\", \"cosine\"]),\n",
    "    \"warmup\": tune.grid_search([1, 2, 3]),\n",
    "    \n",
    "    # loss function\n",
    "    \"crit\": \"BCE\",\n",
    "    \"crit_w\": \"invSqrtClassFreq\",\n",
    "}"
   ]
  },
  {
   "cell_type": "code",
   "execution_count": 7,
   "metadata": {
    "scrolled": true
   },
   "outputs": [
    {
     "data": {
      "text/html": [
       "<div class=\"tuneStatus\">\n",
       "  <div style=\"display: flex;flex-direction: row\">\n",
       "    <div style=\"display: flex;flex-direction: column;\">\n",
       "      <h3>Tune Status</h3>\n",
       "      <table>\n",
       "<tbody>\n",
       "<tr><td>Current time:</td><td>2023-04-17 11:23:00</td></tr>\n",
       "<tr><td>Running for: </td><td>01:26:56.62        </td></tr>\n",
       "<tr><td>Memory:      </td><td>14.7/31.9 GiB      </td></tr>\n",
       "</tbody>\n",
       "</table>\n",
       "    </div>\n",
       "    <div class=\"vDivider\"></div>\n",
       "    <div class=\"systemInfo\">\n",
       "      <h3>System Info</h3>\n",
       "      Using FIFO scheduling algorithm.<br>Resources requested: 0/16 CPUs, 0/1 GPUs, 0.0/12.6 GiB heap, 0.0/6.3 GiB objects\n",
       "    </div>\n",
       "    \n",
       "  </div>\n",
       "  <div class=\"hDivider\"></div>\n",
       "  <div class=\"trialStatus\">\n",
       "    <h3>Trial Status</h3>\n",
       "    <table>\n",
       "<thead>\n",
       "<tr><th>Trial name  </th><th>status    </th><th>loc            </th><th style=\"text-align: right;\">   lr</th><th style=\"text-align: right;\">   wd</th><th>lr_s  </th><th style=\"text-align: right;\">  warmup</th><th style=\"text-align: right;\">  trn_acc</th><th style=\"text-align: right;\">  dev_acc</th><th style=\"text-align: right;\">   training_iterat\n",
       "ion</th></tr>\n",
       "</thead>\n",
       "<tbody>\n",
       "<tr><td>4d69d_00000 </td><td>TERMINATED</td><td>127.0.0.1:24840</td><td style=\"text-align: right;\">1e-05</td><td style=\"text-align: right;\">0.015</td><td>linear</td><td style=\"text-align: right;\">       1</td><td style=\"text-align: right;\"> 0.985363</td><td style=\"text-align: right;\"> 0.896277</td><td style=\"text-align: right;\">20</td></tr>\n",
       "<tr><td>4d69d_00001 </td><td>TERMINATED</td><td>127.0.0.1:24840</td><td style=\"text-align: right;\">1e-05</td><td style=\"text-align: right;\">0.015</td><td>cosine</td><td style=\"text-align: right;\">       1</td><td style=\"text-align: right;\"> 0.984697</td><td style=\"text-align: right;\"> 0.867021</td><td style=\"text-align: right;\">20</td></tr>\n",
       "<tr><td>4d69d_00002 </td><td>TERMINATED</td><td>127.0.0.1:24840</td><td style=\"text-align: right;\">1e-05</td><td style=\"text-align: right;\">0.015</td><td>linear</td><td style=\"text-align: right;\">       2</td><td style=\"text-align: right;\"> 0.982036</td><td style=\"text-align: right;\"> 0.87234 </td><td style=\"text-align: right;\">20</td></tr>\n",
       "<tr><td>4d69d_00003 </td><td>TERMINATED</td><td>127.0.0.1:24840</td><td style=\"text-align: right;\">1e-05</td><td style=\"text-align: right;\">0.015</td><td>cosine</td><td style=\"text-align: right;\">       2</td><td style=\"text-align: right;\"> 0.983367</td><td style=\"text-align: right;\"> 0.885638</td><td style=\"text-align: right;\">20</td></tr>\n",
       "<tr><td>4d69d_00004 </td><td>TERMINATED</td><td>127.0.0.1:24840</td><td style=\"text-align: right;\">1e-05</td><td style=\"text-align: right;\">0.015</td><td>linear</td><td style=\"text-align: right;\">       3</td><td style=\"text-align: right;\"> 0.982036</td><td style=\"text-align: right;\"> 0.87766 </td><td style=\"text-align: right;\">20</td></tr>\n",
       "<tr><td>4d69d_00005 </td><td>TERMINATED</td><td>127.0.0.1:24840</td><td style=\"text-align: right;\">1e-05</td><td style=\"text-align: right;\">0.015</td><td>cosine</td><td style=\"text-align: right;\">       3</td><td style=\"text-align: right;\"> 0.984032</td><td style=\"text-align: right;\"> 0.882979</td><td style=\"text-align: right;\">20</td></tr>\n",
       "<tr><td>4d69d_00006 </td><td>TERMINATED</td><td>127.0.0.1:24840</td><td style=\"text-align: right;\">1e-05</td><td style=\"text-align: right;\">0.012</td><td>linear</td><td style=\"text-align: right;\">       1</td><td style=\"text-align: right;\"> 0.988024</td><td style=\"text-align: right;\"> 0.888298</td><td style=\"text-align: right;\">20</td></tr>\n",
       "<tr><td>4d69d_00007 </td><td>TERMINATED</td><td>127.0.0.1:24840</td><td style=\"text-align: right;\">1e-05</td><td style=\"text-align: right;\">0.012</td><td>cosine</td><td style=\"text-align: right;\">       1</td><td style=\"text-align: right;\"> 0.982036</td><td style=\"text-align: right;\"> 0.882979</td><td style=\"text-align: right;\">20</td></tr>\n",
       "<tr><td>4d69d_00008 </td><td>TERMINATED</td><td>127.0.0.1:24840</td><td style=\"text-align: right;\">1e-05</td><td style=\"text-align: right;\">0.012</td><td>linear</td><td style=\"text-align: right;\">       2</td><td style=\"text-align: right;\"> 0.989355</td><td style=\"text-align: right;\"> 0.888298</td><td style=\"text-align: right;\">20</td></tr>\n",
       "<tr><td>4d69d_00009 </td><td>TERMINATED</td><td>127.0.0.1:24840</td><td style=\"text-align: right;\">1e-05</td><td style=\"text-align: right;\">0.012</td><td>cosine</td><td style=\"text-align: right;\">       2</td><td style=\"text-align: right;\"> 0.980705</td><td style=\"text-align: right;\"> 0.875   </td><td style=\"text-align: right;\">20</td></tr>\n",
       "<tr><td>4d69d_00010 </td><td>TERMINATED</td><td>127.0.0.1:24840</td><td style=\"text-align: right;\">1e-05</td><td style=\"text-align: right;\">0.012</td><td>linear</td><td style=\"text-align: right;\">       3</td><td style=\"text-align: right;\"> 0.986028</td><td style=\"text-align: right;\"> 0.875   </td><td style=\"text-align: right;\">20</td></tr>\n",
       "<tr><td>4d69d_00011 </td><td>TERMINATED</td><td>127.0.0.1:24840</td><td style=\"text-align: right;\">1e-05</td><td style=\"text-align: right;\">0.012</td><td>cosine</td><td style=\"text-align: right;\">       3</td><td style=\"text-align: right;\"> 0.980705</td><td style=\"text-align: right;\"> 0.869681</td><td style=\"text-align: right;\">20</td></tr>\n",
       "<tr><td>4d69d_00012 </td><td>TERMINATED</td><td>127.0.0.1:24840</td><td style=\"text-align: right;\">1e-05</td><td style=\"text-align: right;\">0.01 </td><td>linear</td><td style=\"text-align: right;\">       1</td><td style=\"text-align: right;\"> 0.986028</td><td style=\"text-align: right;\"> 0.893617</td><td style=\"text-align: right;\">20</td></tr>\n",
       "<tr><td>4d69d_00013 </td><td>TERMINATED</td><td>127.0.0.1:24840</td><td style=\"text-align: right;\">1e-05</td><td style=\"text-align: right;\">0.01 </td><td>cosine</td><td style=\"text-align: right;\">       1</td><td style=\"text-align: right;\"> 0.986693</td><td style=\"text-align: right;\"> 0.885638</td><td style=\"text-align: right;\">20</td></tr>\n",
       "<tr><td>4d69d_00014 </td><td>TERMINATED</td><td>127.0.0.1:24840</td><td style=\"text-align: right;\">1e-05</td><td style=\"text-align: right;\">0.01 </td><td>linear</td><td style=\"text-align: right;\">       2</td><td style=\"text-align: right;\"> 0.986028</td><td style=\"text-align: right;\"> 0.880319</td><td style=\"text-align: right;\">20</td></tr>\n",
       "<tr><td>4d69d_00015 </td><td>TERMINATED</td><td>127.0.0.1:24840</td><td style=\"text-align: right;\">1e-05</td><td style=\"text-align: right;\">0.01 </td><td>cosine</td><td style=\"text-align: right;\">       2</td><td style=\"text-align: right;\"> 0.981371</td><td style=\"text-align: right;\"> 0.882979</td><td style=\"text-align: right;\">20</td></tr>\n",
       "<tr><td>4d69d_00016 </td><td>TERMINATED</td><td>127.0.0.1:24840</td><td style=\"text-align: right;\">1e-05</td><td style=\"text-align: right;\">0.01 </td><td>linear</td><td style=\"text-align: right;\">       3</td><td style=\"text-align: right;\"> 0.984032</td><td style=\"text-align: right;\"> 0.882979</td><td style=\"text-align: right;\">20</td></tr>\n",
       "<tr><td>4d69d_00017 </td><td>TERMINATED</td><td>127.0.0.1:24840</td><td style=\"text-align: right;\">1e-05</td><td style=\"text-align: right;\">0.01 </td><td>cosine</td><td style=\"text-align: right;\">       3</td><td style=\"text-align: right;\"> 0.985363</td><td style=\"text-align: right;\"> 0.888298</td><td style=\"text-align: right;\">20</td></tr>\n",
       "<tr><td>4d69d_00018 </td><td>TERMINATED</td><td>127.0.0.1:24840</td><td style=\"text-align: right;\">1e-05</td><td style=\"text-align: right;\">0.008</td><td>linear</td><td style=\"text-align: right;\">       1</td><td style=\"text-align: right;\"> 0.986028</td><td style=\"text-align: right;\"> 0.885638</td><td style=\"text-align: right;\">20</td></tr>\n",
       "<tr><td>4d69d_00019 </td><td>TERMINATED</td><td>127.0.0.1:24840</td><td style=\"text-align: right;\">1e-05</td><td style=\"text-align: right;\">0.008</td><td>cosine</td><td style=\"text-align: right;\">       1</td><td style=\"text-align: right;\"> 0.986028</td><td style=\"text-align: right;\"> 0.896277</td><td style=\"text-align: right;\">20</td></tr>\n",
       "<tr><td>4d69d_00020 </td><td>TERMINATED</td><td>127.0.0.1:24840</td><td style=\"text-align: right;\">1e-05</td><td style=\"text-align: right;\">0.008</td><td>linear</td><td style=\"text-align: right;\">       2</td><td style=\"text-align: right;\"> 0.986693</td><td style=\"text-align: right;\"> 0.880319</td><td style=\"text-align: right;\">20</td></tr>\n",
       "<tr><td>4d69d_00021 </td><td>TERMINATED</td><td>127.0.0.1:24840</td><td style=\"text-align: right;\">1e-05</td><td style=\"text-align: right;\">0.008</td><td>cosine</td><td style=\"text-align: right;\">       2</td><td style=\"text-align: right;\"> 0.984032</td><td style=\"text-align: right;\"> 0.87234 </td><td style=\"text-align: right;\">20</td></tr>\n",
       "<tr><td>4d69d_00022 </td><td>TERMINATED</td><td>127.0.0.1:24840</td><td style=\"text-align: right;\">1e-05</td><td style=\"text-align: right;\">0.008</td><td>linear</td><td style=\"text-align: right;\">       3</td><td style=\"text-align: right;\"> 0.983367</td><td style=\"text-align: right;\"> 0.882979</td><td style=\"text-align: right;\">20</td></tr>\n",
       "<tr><td>4d69d_00023 </td><td>TERMINATED</td><td>127.0.0.1:24840</td><td style=\"text-align: right;\">1e-05</td><td style=\"text-align: right;\">0.008</td><td>cosine</td><td style=\"text-align: right;\">       3</td><td style=\"text-align: right;\"> 0.983367</td><td style=\"text-align: right;\"> 0.880319</td><td style=\"text-align: right;\">20</td></tr>\n",
       "</tbody>\n",
       "</table>\n",
       "  </div>\n",
       "</div>\n",
       "<style>\n",
       ".tuneStatus {\n",
       "  color: var(--jp-ui-font-color1);\n",
       "}\n",
       ".tuneStatus .systemInfo {\n",
       "  display: flex;\n",
       "  flex-direction: column;\n",
       "}\n",
       ".tuneStatus td {\n",
       "  white-space: nowrap;\n",
       "}\n",
       ".tuneStatus .trialStatus {\n",
       "  display: flex;\n",
       "  flex-direction: column;\n",
       "}\n",
       ".tuneStatus h3 {\n",
       "  font-weight: bold;\n",
       "}\n",
       ".tuneStatus .hDivider {\n",
       "  border-bottom-width: var(--jp-border-width);\n",
       "  border-bottom-color: var(--jp-border-color0);\n",
       "  border-bottom-style: solid;\n",
       "}\n",
       ".tuneStatus .vDivider {\n",
       "  border-left-width: var(--jp-border-width);\n",
       "  border-left-color: var(--jp-border-color0);\n",
       "  border-left-style: solid;\n",
       "  margin: 0.5em 1em 0.5em 1em;\n",
       "}\n",
       "</style>\n"
      ],
      "text/plain": [
       "<IPython.core.display.HTML object>"
      ]
     },
     "metadata": {},
     "output_type": "display_data"
    },
    {
     "name": "stderr",
     "output_type": "stream",
     "text": [
      "2023-04-17 09:56:02,863\tINFO worker.py:1544 -- Started a local Ray instance. View the dashboard at \u001b[1m\u001b[32m127.0.0.1:8265 \u001b[39m\u001b[22m\n",
      "2023-04-17 11:23:00,873\tINFO tune.py:798 -- Total run time: 5216.65 seconds (5216.62 seconds for the tuning loop).\n"
     ]
    }
   ],
   "source": [
    "# how many trials to run (if grid_search utilized, it will run this number per grid_search value)\n",
    "num_samples = 1\n",
    "\n",
    "# run experiment\n",
    "result_grid = hyperTune.run_ray_experiment(\n",
    "    hyperTune.ray_trainable, config, ray_path, num_samples,\n",
    "    metric_columns = [\"trn_acc\", \"dev_acc\", \"training_iteration\"],\n",
    "    parameter_columns = [\"lr\", \"wd\", \"lr_s\", \"warmup\"]\n",
    ")"
   ]
  },
  {
   "cell_type": "markdown",
   "metadata": {},
   "source": [
    "**evaluate a given experiment**"
   ]
  },
  {
   "cell_type": "code",
   "execution_count": 8,
   "metadata": {},
   "outputs": [
    {
     "name": "stderr",
     "output_type": "stream",
     "text": [
      "2023-04-17 11:24:04,065\tWARNING tuner_internal.py:292 -- The trainable will be overwritten - this should be done with caution: it's possible to supply an incompatible trainable, and there are no guarantees that the resumed experiment will continue successfully. If you encounter errors during training, ensure that you are passing in the same trainable that was passed into the initial `Tuner` object.\n",
      "2023-04-17 11:24:04,068\tINFO experiment_analysis.py:789 -- No `self.trials`. Drawing logdirs from checkpoint file. This may result in some information that is out of sync, as checkpointing is periodic.\n"
     ]
    },
    {
     "name": "stdout",
     "output_type": "stream",
     "text": [
      "Loading results from ray_results/roberta-base_sixth_optimizer settings_fine...\n",
      "Done!\n",
      "\n",
      "No errors! Number of terminated trials: 24\n"
     ]
    }
   ],
   "source": [
    "# load experiment\n",
    "restored_tuner, result_grid = hyperTune.open_validate_ray_experiment(\"ray_results/roberta-base_sixth_optimizer settings_fine\",\n",
    "                                                                     hyperTune.ray_trainable)"
   ]
  },
  {
   "cell_type": "code",
   "execution_count": 9,
   "metadata": {},
   "outputs": [
    {
     "data": {
      "text/html": [
       "<div>\n",
       "<style scoped>\n",
       "    .dataframe tbody tr th:only-of-type {\n",
       "        vertical-align: middle;\n",
       "    }\n",
       "\n",
       "    .dataframe tbody tr th {\n",
       "        vertical-align: top;\n",
       "    }\n",
       "\n",
       "    .dataframe thead th {\n",
       "        text-align: right;\n",
       "    }\n",
       "</style>\n",
       "<table border=\"1\" class=\"dataframe\">\n",
       "  <thead>\n",
       "    <tr style=\"text-align: right;\">\n",
       "      <th></th>\n",
       "      <th>trial_id</th>\n",
       "      <th>training_iteration</th>\n",
       "      <th>config/lr</th>\n",
       "      <th>config/wd</th>\n",
       "      <th>config/lr_s</th>\n",
       "      <th>config/warmup</th>\n",
       "      <th>trn_loss</th>\n",
       "      <th>dev_loss</th>\n",
       "      <th>trn_acc</th>\n",
       "      <th>dev_acc</th>\n",
       "    </tr>\n",
       "  </thead>\n",
       "  <tbody>\n",
       "    <tr>\n",
       "      <th>14</th>\n",
       "      <td>4d69d_00014</td>\n",
       "      <td>7</td>\n",
       "      <td>0.00001</td>\n",
       "      <td>0.010</td>\n",
       "      <td>linear</td>\n",
       "      <td>2</td>\n",
       "      <td>0.238858</td>\n",
       "      <td>0.314998</td>\n",
       "      <td>0.920160</td>\n",
       "      <td>0.904255</td>\n",
       "    </tr>\n",
       "    <tr>\n",
       "      <th>19</th>\n",
       "      <td>4d69d_00019</td>\n",
       "      <td>14</td>\n",
       "      <td>0.00001</td>\n",
       "      <td>0.008</td>\n",
       "      <td>cosine</td>\n",
       "      <td>1</td>\n",
       "      <td>0.081645</td>\n",
       "      <td>0.304418</td>\n",
       "      <td>0.984697</td>\n",
       "      <td>0.898936</td>\n",
       "    </tr>\n",
       "    <tr>\n",
       "      <th>0</th>\n",
       "      <td>4d69d_00000</td>\n",
       "      <td>6</td>\n",
       "      <td>0.00001</td>\n",
       "      <td>0.015</td>\n",
       "      <td>linear</td>\n",
       "      <td>1</td>\n",
       "      <td>0.224307</td>\n",
       "      <td>0.322986</td>\n",
       "      <td>0.928144</td>\n",
       "      <td>0.896277</td>\n",
       "    </tr>\n",
       "    <tr>\n",
       "      <th>8</th>\n",
       "      <td>4d69d_00008</td>\n",
       "      <td>6</td>\n",
       "      <td>0.00001</td>\n",
       "      <td>0.012</td>\n",
       "      <td>linear</td>\n",
       "      <td>2</td>\n",
       "      <td>0.271301</td>\n",
       "      <td>0.357567</td>\n",
       "      <td>0.906188</td>\n",
       "      <td>0.896277</td>\n",
       "    </tr>\n",
       "    <tr>\n",
       "      <th>20</th>\n",
       "      <td>4d69d_00020</td>\n",
       "      <td>6</td>\n",
       "      <td>0.00001</td>\n",
       "      <td>0.008</td>\n",
       "      <td>linear</td>\n",
       "      <td>2</td>\n",
       "      <td>0.263276</td>\n",
       "      <td>0.333929</td>\n",
       "      <td>0.905522</td>\n",
       "      <td>0.896277</td>\n",
       "    </tr>\n",
       "    <tr>\n",
       "      <th>18</th>\n",
       "      <td>4d69d_00018</td>\n",
       "      <td>6</td>\n",
       "      <td>0.00001</td>\n",
       "      <td>0.008</td>\n",
       "      <td>linear</td>\n",
       "      <td>1</td>\n",
       "      <td>0.235925</td>\n",
       "      <td>0.318220</td>\n",
       "      <td>0.926148</td>\n",
       "      <td>0.896277</td>\n",
       "    </tr>\n",
       "    <tr>\n",
       "      <th>13</th>\n",
       "      <td>4d69d_00013</td>\n",
       "      <td>10</td>\n",
       "      <td>0.00001</td>\n",
       "      <td>0.010</td>\n",
       "      <td>cosine</td>\n",
       "      <td>1</td>\n",
       "      <td>0.109623</td>\n",
       "      <td>0.292835</td>\n",
       "      <td>0.971391</td>\n",
       "      <td>0.896277</td>\n",
       "    </tr>\n",
       "    <tr>\n",
       "      <th>15</th>\n",
       "      <td>4d69d_00015</td>\n",
       "      <td>14</td>\n",
       "      <td>0.00001</td>\n",
       "      <td>0.010</td>\n",
       "      <td>cosine</td>\n",
       "      <td>2</td>\n",
       "      <td>0.079768</td>\n",
       "      <td>0.338411</td>\n",
       "      <td>0.979375</td>\n",
       "      <td>0.893617</td>\n",
       "    </tr>\n",
       "    <tr>\n",
       "      <th>12</th>\n",
       "      <td>4d69d_00012</td>\n",
       "      <td>7</td>\n",
       "      <td>0.00001</td>\n",
       "      <td>0.010</td>\n",
       "      <td>linear</td>\n",
       "      <td>1</td>\n",
       "      <td>0.209727</td>\n",
       "      <td>0.300317</td>\n",
       "      <td>0.930805</td>\n",
       "      <td>0.893617</td>\n",
       "    </tr>\n",
       "    <tr>\n",
       "      <th>6</th>\n",
       "      <td>4d69d_00006</td>\n",
       "      <td>15</td>\n",
       "      <td>0.00001</td>\n",
       "      <td>0.012</td>\n",
       "      <td>linear</td>\n",
       "      <td>1</td>\n",
       "      <td>0.064659</td>\n",
       "      <td>0.352652</td>\n",
       "      <td>0.986028</td>\n",
       "      <td>0.893617</td>\n",
       "    </tr>\n",
       "    <tr>\n",
       "      <th>3</th>\n",
       "      <td>4d69d_00003</td>\n",
       "      <td>17</td>\n",
       "      <td>0.00001</td>\n",
       "      <td>0.015</td>\n",
       "      <td>cosine</td>\n",
       "      <td>2</td>\n",
       "      <td>0.063848</td>\n",
       "      <td>0.354205</td>\n",
       "      <td>0.985363</td>\n",
       "      <td>0.890957</td>\n",
       "    </tr>\n",
       "    <tr>\n",
       "      <th>9</th>\n",
       "      <td>4d69d_00009</td>\n",
       "      <td>6</td>\n",
       "      <td>0.00001</td>\n",
       "      <td>0.012</td>\n",
       "      <td>cosine</td>\n",
       "      <td>2</td>\n",
       "      <td>0.290976</td>\n",
       "      <td>0.337309</td>\n",
       "      <td>0.894877</td>\n",
       "      <td>0.888298</td>\n",
       "    </tr>\n",
       "    <tr>\n",
       "      <th>7</th>\n",
       "      <td>4d69d_00007</td>\n",
       "      <td>11</td>\n",
       "      <td>0.00001</td>\n",
       "      <td>0.012</td>\n",
       "      <td>cosine</td>\n",
       "      <td>1</td>\n",
       "      <td>0.102619</td>\n",
       "      <td>0.338809</td>\n",
       "      <td>0.973387</td>\n",
       "      <td>0.888298</td>\n",
       "    </tr>\n",
       "    <tr>\n",
       "      <th>5</th>\n",
       "      <td>4d69d_00005</td>\n",
       "      <td>11</td>\n",
       "      <td>0.00001</td>\n",
       "      <td>0.015</td>\n",
       "      <td>cosine</td>\n",
       "      <td>3</td>\n",
       "      <td>0.117391</td>\n",
       "      <td>0.342047</td>\n",
       "      <td>0.960745</td>\n",
       "      <td>0.888298</td>\n",
       "    </tr>\n",
       "    <tr>\n",
       "      <th>16</th>\n",
       "      <td>4d69d_00016</td>\n",
       "      <td>13</td>\n",
       "      <td>0.00001</td>\n",
       "      <td>0.010</td>\n",
       "      <td>linear</td>\n",
       "      <td>3</td>\n",
       "      <td>0.098434</td>\n",
       "      <td>0.328038</td>\n",
       "      <td>0.977379</td>\n",
       "      <td>0.888298</td>\n",
       "    </tr>\n",
       "    <tr>\n",
       "      <th>17</th>\n",
       "      <td>4d69d_00017</td>\n",
       "      <td>10</td>\n",
       "      <td>0.00001</td>\n",
       "      <td>0.010</td>\n",
       "      <td>cosine</td>\n",
       "      <td>3</td>\n",
       "      <td>0.123752</td>\n",
       "      <td>0.327147</td>\n",
       "      <td>0.962741</td>\n",
       "      <td>0.888298</td>\n",
       "    </tr>\n",
       "  </tbody>\n",
       "</table>\n",
       "</div>"
      ],
      "text/plain": [
       "       trial_id  training_iteration  config/lr  config/wd config/lr_s  \\\n",
       "14  4d69d_00014                   7    0.00001      0.010      linear   \n",
       "19  4d69d_00019                  14    0.00001      0.008      cosine   \n",
       "0   4d69d_00000                   6    0.00001      0.015      linear   \n",
       "8   4d69d_00008                   6    0.00001      0.012      linear   \n",
       "20  4d69d_00020                   6    0.00001      0.008      linear   \n",
       "18  4d69d_00018                   6    0.00001      0.008      linear   \n",
       "13  4d69d_00013                  10    0.00001      0.010      cosine   \n",
       "15  4d69d_00015                  14    0.00001      0.010      cosine   \n",
       "12  4d69d_00012                   7    0.00001      0.010      linear   \n",
       "6   4d69d_00006                  15    0.00001      0.012      linear   \n",
       "3   4d69d_00003                  17    0.00001      0.015      cosine   \n",
       "9   4d69d_00009                   6    0.00001      0.012      cosine   \n",
       "7   4d69d_00007                  11    0.00001      0.012      cosine   \n",
       "5   4d69d_00005                  11    0.00001      0.015      cosine   \n",
       "16  4d69d_00016                  13    0.00001      0.010      linear   \n",
       "17  4d69d_00017                  10    0.00001      0.010      cosine   \n",
       "\n",
       "    config/warmup  trn_loss  dev_loss   trn_acc   dev_acc  \n",
       "14              2  0.238858  0.314998  0.920160  0.904255  \n",
       "19              1  0.081645  0.304418  0.984697  0.898936  \n",
       "0               1  0.224307  0.322986  0.928144  0.896277  \n",
       "8               2  0.271301  0.357567  0.906188  0.896277  \n",
       "20              2  0.263276  0.333929  0.905522  0.896277  \n",
       "18              1  0.235925  0.318220  0.926148  0.896277  \n",
       "13              1  0.109623  0.292835  0.971391  0.896277  \n",
       "15              2  0.079768  0.338411  0.979375  0.893617  \n",
       "12              1  0.209727  0.300317  0.930805  0.893617  \n",
       "6               1  0.064659  0.352652  0.986028  0.893617  \n",
       "3               2  0.063848  0.354205  0.985363  0.890957  \n",
       "9               2  0.290976  0.337309  0.894877  0.888298  \n",
       "7               1  0.102619  0.338809  0.973387  0.888298  \n",
       "5               3  0.117391  0.342047  0.960745  0.888298  \n",
       "16              3  0.098434  0.328038  0.977379  0.888298  \n",
       "17              3  0.123752  0.327147  0.962741  0.888298  "
      ]
     },
     "execution_count": 9,
     "metadata": {},
     "output_type": "execute_result"
    }
   ],
   "source": [
    "# get best score per trial (highest validation accuracy)\n",
    "N = 16\n",
    "best_result_df = result_grid.get_dataframe(\n",
    "    filter_metric=\"dev_acc\", filter_mode=\"max\"\n",
    ")\n",
    "best_result_df = best_result_df[[\"trial_id\", \"training_iteration\",\n",
    "                                 # \"config/cls_depth\", \"config/cls_width\",\n",
    "                                 # \"config/cls_dropout_st\", \"config/cls_dropout_hidden\",\n",
    "                                 \"config/lr\", \"config/wd\", \"config/lr_s\", \"config/warmup\",\n",
    "                                 \"trn_loss\", \"dev_loss\", \"trn_acc\", \"dev_acc\"]]\n",
    "best_result_df = best_result_df.sort_values(by=[\"dev_acc\"], ascending = False)\n",
    "\n",
    "if len(result_grid) > N:\n",
    "    best_result_df = best_result_df.head(N)\n",
    "\n",
    "best_result_df"
   ]
  },
  {
   "cell_type": "markdown",
   "metadata": {},
   "source": [
    "**take best parameters and check reproducibility**"
   ]
  },
  {
   "cell_type": "code",
   "execution_count": 11,
   "metadata": {},
   "outputs": [],
   "source": [
    "config = {\n",
    "    # basic infos\n",
    "    \"data_path\": os.path.abspath(\"\"),\n",
    "    \"max_epochs\": 20,\n",
    "    \"batch_size\": 32,\n",
    "    \n",
    "    # data preprocessing\n",
    "    \"input_enrichment\": \"question_sentence_target\",\n",
    "    \n",
    "    # pre-trained language model (transformer)\n",
    "    \"plm_name\": \"roberta-base\",\n",
    "    \"plm_freeze\": False,\n",
    "    \n",
    "    # classifier (linear layers)\n",
    "    \"cls_depth\":          2,\n",
    "    \"cls_width\":          192,\n",
    "    \"cls_activation\":     \"ReLU\",\n",
    "    \"cls_dropout_st\":     0.2,\n",
    "    \"cls_dropout_hidden\": 0,\n",
    "    \n",
    "    # optimizer\n",
    "    \"lr\": 1e-5,\n",
    "    \"wd\": 1e-2,\n",
    "    \n",
    "    # scheduler\n",
    "    \"lr_s\": \"linear\",\n",
    "    \"warmup\": 2,\n",
    "    \n",
    "    # loss function\n",
    "    \"crit\": \"BCE\",\n",
    "    \"crit_w\": \"invSqrtClassFreq\",\n",
    "}"
   ]
  },
  {
   "cell_type": "code",
   "execution_count": 7,
   "metadata": {},
   "outputs": [],
   "source": [
    "# ensure reproducibility\n",
    "hyperTune.set_reproducible()\n",
    "\n",
    "# initialise objects for training\n",
    "(max_epochs, trainloader, devloader,\n",
    " model, optimizer, lr_scheduler,\n",
    " criterion, device) = hyperTune.init_training(config)"
   ]
  },
  {
   "cell_type": "code",
   "execution_count": 8,
   "metadata": {},
   "outputs": [
    {
     "name": "stdout",
     "output_type": "stream",
     "text": [
      "Epoch [1/20] -> Trn Loss: 0.6915, Dev Loss: 0.624, Trn Acc: 0.3493, Dev Acc: 0.7021\n",
      "Epoch [2/20] -> Trn Loss: 0.6056, Dev Loss: 0.5905, Trn Acc: 0.7019, Dev Acc: 0.7021\n",
      "Epoch [3/20] -> Trn Loss: 0.529, Dev Loss: 0.4662, Trn Acc: 0.7651, Dev Acc: 0.8457\n",
      "Epoch [4/20] -> Trn Loss: 0.4135, Dev Loss: 0.3771, Trn Acc: 0.8483, Dev Acc: 0.8218\n",
      "Epoch [5/20] -> Trn Loss: 0.3381, Dev Loss: 0.3459, Trn Acc: 0.8729, Dev Acc: 0.8697\n",
      "Epoch [6/20] -> Trn Loss: 0.2792, Dev Loss: 0.3522, Trn Acc: 0.9108, Dev Acc: 0.8803\n",
      "Epoch [7/20] -> Trn Loss: 0.2389, Dev Loss: 0.315, Trn Acc: 0.9202, Dev Acc: 0.9043\n",
      "Epoch [8/20] -> Trn Loss: 0.2011, Dev Loss: 0.3289, Trn Acc: 0.9375, Dev Acc: 0.891\n",
      "Epoch [9/20] -> Trn Loss: 0.1749, Dev Loss: 0.3126, Trn Acc: 0.9454, Dev Acc: 0.8697\n",
      "Epoch [10/20] -> Trn Loss: 0.1435, Dev Loss: 0.3565, Trn Acc: 0.9587, Dev Acc: 0.875\n",
      "Epoch [11/20] -> Trn Loss: 0.1214, Dev Loss: 0.3339, Trn Acc: 0.9687, Dev Acc: 0.8803\n",
      "Epoch [12/20] -> Trn Loss: 0.099, Dev Loss: 0.3406, Trn Acc: 0.9754, Dev Acc: 0.8856\n",
      "Epoch [13/20] -> Trn Loss: 0.0928, Dev Loss: 0.348, Trn Acc: 0.978, Dev Acc: 0.883\n",
      "Epoch [14/20] -> Trn Loss: 0.0783, Dev Loss: 0.3362, Trn Acc: 0.98, Dev Acc: 0.8803\n",
      "Epoch [15/20] -> Trn Loss: 0.0742, Dev Loss: 0.3733, Trn Acc: 0.982, Dev Acc: 0.8723\n",
      "Epoch [16/20] -> Trn Loss: 0.0638, Dev Loss: 0.3772, Trn Acc: 0.986, Dev Acc: 0.8803\n",
      "Epoch [17/20] -> Trn Loss: 0.0631, Dev Loss: 0.3798, Trn Acc: 0.9867, Dev Acc: 0.8803\n",
      "Epoch [18/20] -> Trn Loss: 0.0588, Dev Loss: 0.3731, Trn Acc: 0.9867, Dev Acc: 0.8803\n",
      "Epoch [19/20] -> Trn Loss: 0.059, Dev Loss: 0.3716, Trn Acc: 0.988, Dev Acc: 0.8803\n",
      "Epoch [20/20] -> Trn Loss: 0.0595, Dev Loss: 0.3765, Trn Acc: 0.986, Dev Acc: 0.8803\n"
     ]
    }
   ],
   "source": [
    "# perform training (no return!)\n",
    "hyperTune.train_evaluate_model(max_epochs, trainloader, devloader, model,\n",
    "                               optimizer, lr_scheduler, criterion, device,\n",
    "                               verbose = True, ray = False, return_obj = False,\n",
    "                               save_best_model = True)"
   ]
  },
  {
   "cell_type": "markdown",
   "metadata": {},
   "source": [
    "**take best model and evaluate it**"
   ]
  },
  {
   "cell_type": "code",
   "execution_count": 10,
   "metadata": {},
   "outputs": [],
   "source": [
    "# get class labels\n",
    "class_dict = {0: \"negative\", 1: \"neutral\", 2: \"positive\"}"
   ]
  },
  {
   "cell_type": "code",
   "execution_count": 12,
   "metadata": {},
   "outputs": [],
   "source": [
    "# ensure reproducibility\n",
    "hyperTune.set_reproducible()\n",
    "\n",
    "# initialise objects for training\n",
    "(max_epochs, trainloader, devloader,\n",
    " model, optimizer, lr_scheduler,\n",
    " criterion, device) = hyperTune.init_training(config)"
   ]
  },
  {
   "cell_type": "code",
   "execution_count": 13,
   "metadata": {
    "scrolled": true
   },
   "outputs": [
    {
     "data": {
      "text/plain": [
       "<All keys matched successfully>"
      ]
     },
     "execution_count": 13,
     "metadata": {},
     "output_type": "execute_result"
    }
   ],
   "source": [
    "# load best model\n",
    "path = os.path.abspath(\"\")+\"\\\\models\\\\RobertaModel_finetuned.pt\"\n",
    "model.load_state_dict(torch.load(path))"
   ]
  },
  {
   "cell_type": "code",
   "execution_count": 14,
   "metadata": {},
   "outputs": [
    {
     "name": "stdout",
     "output_type": "stream",
     "text": [
      "Train Acc: 0.9474\n"
     ]
    }
   ],
   "source": [
    "# evaluate best model on train set\n",
    "(trn_acc,\n",
    " trn_lbls, trn_outputs,\n",
    " trn_preds) = hyperTune.evaluate(trainloader, model, device)\n",
    "\n",
    "# validate (compare with previous print statement to make sure that it's actually the best model)\n",
    "print(f\"Train Acc: {round(trn_acc, 4)}\")\n",
    "\n",
    "# this number is not the same as in print statement! Why? Here is my intuition:\n",
    "# During training, the model's weights are updated after each batch, which means that the accuracy we calculate\n",
    "# during training is affected by the learning process itself. However, in inference mode, we use the model state at the end\n",
    "# of the learning process of this epoch -- thus, the parameters will be different and performance as well!"
   ]
  },
  {
   "cell_type": "code",
   "execution_count": 15,
   "metadata": {},
   "outputs": [
    {
     "name": "stdout",
     "output_type": "stream",
     "text": [
      "Dev Acc: 0.9043\n"
     ]
    }
   ],
   "source": [
    "# evaluate best model on dev set\n",
    "(dev_acc,\n",
    " dev_lbls, dev_outputs,\n",
    " dev_preds) = hyperTune.evaluate(devloader, model, device)\n",
    "\n",
    "# validate (compare with previous print statement to make sure that it's actually the best model)\n",
    "print(f\"Dev Acc: {round(dev_acc, 4)}\")"
   ]
  },
  {
   "cell_type": "code",
   "execution_count": 14,
   "metadata": {},
   "outputs": [
    {
     "name": "stdout",
     "output_type": "stream",
     "text": [
      "Train performance\n",
      "-------------------------------------------------------\n",
      "              precision    recall  f1-score   support\n",
      "\n",
      "         0.0       0.87      0.95      0.91       390\n",
      "         1.0       0.88      0.40      0.55        58\n",
      "         2.0       0.98      0.98      0.98      1055\n",
      "\n",
      "    accuracy                           0.95      1503\n",
      "   macro avg       0.91      0.78      0.81      1503\n",
      "weighted avg       0.95      0.95      0.94      1503\n",
      "\n"
     ]
    },
    {
     "data": {
      "image/png": "[encoded data removed]",
      "text/plain": [
       "<Figure size 400x300 with 2 Axes>"
      ]
     },
     "metadata": {},
     "output_type": "display_data"
    },
    {
     "name": "stdout",
     "output_type": "stream",
     "text": [
      "\n",
      "\n",
      "Dev performance\n",
      "-------------------------------------------------------\n",
      "              precision    recall  f1-score   support\n",
      "\n",
      "         0.0       0.83      0.85      0.84        98\n",
      "         1.0       1.00      0.36      0.53        14\n",
      "         2.0       0.93      0.95      0.94       264\n",
      "\n",
      "    accuracy                           0.90       376\n",
      "   macro avg       0.92      0.72      0.77       376\n",
      "weighted avg       0.91      0.90      0.90       376\n",
      "\n"
     ]
    },
    {
     "data": {
      "image/png": "[encoded data removed]",
      "text/plain": [
       "<Figure size 400x300 with 2 Axes>"
      ]
     },
     "metadata": {},
     "output_type": "display_data"
    }
   ],
   "source": [
    "# detailed performance analysis\n",
    "print('Train performance')\n",
    "print('-------------------------------------------------------')\n",
    "print(classification_report(trn_lbls, trn_preds, zero_division = 0))\n",
    "\n",
    "vizData.get_confusion_matrix(trn_lbls, trn_preds, class_dict)\n",
    "\n",
    "print('\\n\\nDev performance')\n",
    "print('-------------------------------------------------------')\n",
    "print(classification_report(dev_lbls, dev_preds,  zero_division = 0))\n",
    "\n",
    "vizData.get_confusion_matrix(dev_lbls, dev_preds, class_dict)"
   ]
  },
  {
   "cell_type": "markdown",
   "metadata": {},
   "source": [
    "**model architecture**"
   ]
  },
  {
   "cell_type": "code",
   "execution_count": 23,
   "metadata": {},
   "outputs": [],
   "source": [
    "import torchinfo"
   ]
  },
  {
   "cell_type": "code",
   "execution_count": 24,
   "metadata": {},
   "outputs": [
    {
     "name": "stdout",
     "output_type": "stream",
     "text": [
      "done\n"
     ]
    }
   ],
   "source": [
    "device = torch.device('cpu')\n",
    "model.to(device)\n",
    "print(\"done\")"
   ]
  },
  {
   "cell_type": "code",
   "execution_count": 27,
   "metadata": {
    "scrolled": false
   },
   "outputs": [],
   "source": [
    "# doesn't run right now\n",
    "torchinfo.summary(model, input_size = (2, 32, 50), dtypes=['torch.IntTensor'], device = device)"
   ]
  }
 ],
 "metadata": {
  "kernelspec": {
   "display_name": "venv-nlp",
   "language": "python",
   "name": "venv-nlp"
  },
  "language_info": {
   "codemirror_mode": {
    "name": "ipython",
    "version": 3
   },
   "file_extension": ".py",
   "mimetype": "text/x-python",
   "name": "python",
   "nbconvert_exporter": "python",
   "pygments_lexer": "ipython3",
   "version": "3.10.8"
  }
 },
 "nbformat": 4,
 "nbformat_minor": 2
}
